{
 "cells": [
  {
   "cell_type": "code",
   "execution_count": null,
   "metadata": {},
   "outputs": [],
   "source": [
    "import numpy as np\n",
    "from sklearn.decomposition import PCA\n",
    "import sklearn\n",
    "import kmapper as km\n",
    "from kmapper.plotlyviz import plotlyviz\n",
    "import matplotlib.pyplot as plt"
   ]
  },
  {
   "cell_type": "code",
   "execution_count": null,
   "metadata": {},
   "outputs": [],
   "source": [
    "filtered_data=np.load('stored_arrays/density_filter_epoch1.npy')\n",
    "gain=3\n",
    "\n",
    "mapper = km.KeplerMapper(verbose=1)\n",
    "\n",
    "projected_data = mapper.fit_transform(filtered_data, projection=PCA(n_components=2))\n",
    "\n",
    "cover = km.Cover(n_cubes=30,perc_overlap=1-1/gain)\n",
    "\n",
    "graph = mapper.map(projected_data, filtered_data,clusterer=sklearn.cluster.DBSCAN(metric=\"cosine\"), cover=cover)\n",
    "\n",
    "plotlyviz(graph)"
   ]
  },
  {
   "cell_type": "code",
   "execution_count": null,
   "metadata": {},
   "outputs": [],
   "source": [
    "fig,axs=plt.subplots(3,3)\n",
    "\n",
    "axs[1,2].imshow((np.mean(mapper.data_from_cluster_id('cube338_cluster0',graph,filtered_data),axis=0).reshape(3,3)+\n",
    "            np.mean(mapper.data_from_cluster_id('cube339_cluster0',graph,filtered_data),axis=0).reshape(3,3)+\n",
    "            np.mean(mapper.data_from_cluster_id('cube340_cluster0',graph,filtered_data),axis=0).reshape(3,3))/3,cmap='gray')\n",
    "\n",
    "axs[2,0].imshow((np.mean(mapper.data_from_cluster_id('cube171_cluster0',graph,filtered_data),axis=0).reshape(3,3)+\n",
    "            np.mean(mapper.data_from_cluster_id('cube172_cluster0',graph,filtered_data),axis=0).reshape(3,3)+\n",
    "            np.mean(mapper.data_from_cluster_id('cube173_cluster0',graph,filtered_data),axis=0).reshape(3,3))/3,cmap='gray')\n",
    "\n",
    "axs[1,0].imshow((np.mean(mapper.data_from_cluster_id('cube324_cluster0',graph,filtered_data),axis=0).reshape(3,3)+\n",
    "            np.mean(mapper.data_from_cluster_id('cube325_cluster0',graph,filtered_data),axis=0).reshape(3,3)+\n",
    "            np.mean(mapper.data_from_cluster_id('cube326_cluster0',graph,filtered_data),axis=0).reshape(3,3))/3,cmap='gray')\n",
    "\n",
    "axs[0,0].imshow((np.mean(mapper.data_from_cluster_id('cube527_cluster0',graph,filtered_data),axis=0).reshape(3,3)+\n",
    "            np.mean(mapper.data_from_cluster_id('cube528_cluster0',graph,filtered_data),axis=0).reshape(3,3)+\n",
    "            np.mean(mapper.data_from_cluster_id('cube529_cluster0',graph,filtered_data),axis=0).reshape(3,3))/3,cmap='gray')\n",
    "\n",
    "axs[0,1].imshow((np.mean(mapper.data_from_cluster_id('cube613_cluster0',graph,filtered_data),axis=0).reshape(3,3)+\n",
    "            np.mean(mapper.data_from_cluster_id('cube614_cluster0',graph,filtered_data),axis=0).reshape(3,3)+\n",
    "            np.mean(mapper.data_from_cluster_id('cube615_cluster0',graph,filtered_data),axis=0).reshape(3,3))/3,cmap='gray')\n",
    "\n",
    "axs[0,2].imshow((np.mean(mapper.data_from_cluster_id('cube510_cluster0',graph,filtered_data),axis=0).reshape(3,3)+\n",
    "            np.mean(mapper.data_from_cluster_id('cube511_cluster0',graph,filtered_data),axis=0).reshape(3,3)+\n",
    "            np.mean(mapper.data_from_cluster_id('cube512_cluster0',graph,filtered_data),axis=0).reshape(3,3))/3,cmap='gray')\n",
    "\n",
    "axs[2,2].imshow((np.mean(mapper.data_from_cluster_id('cube209_cluster0',graph,filtered_data),axis=0).reshape(3,3)+\n",
    "            np.mean(mapper.data_from_cluster_id('cube210_cluster0',graph,filtered_data),axis=0).reshape(3,3)+\n",
    "            np.mean(mapper.data_from_cluster_id('cube239_cluster0',graph,filtered_data),axis=0).reshape(3,3))/3,cmap='gray')\n",
    "\n",
    "axs[2,1].imshow((np.mean(mapper.data_from_cluster_id('cube18_cluster0',graph,filtered_data),axis=0).reshape(3,3)+\n",
    "            np.mean(mapper.data_from_cluster_id('cube19_cluster0',graph,filtered_data),axis=0).reshape(3,3)+\n",
    "            np.mean(mapper.data_from_cluster_id('cube20_cluster0',graph,filtered_data),axis=0).reshape(3,3))/3,cmap='gray')"
   ]
  },
  {
   "cell_type": "code",
   "execution_count": null,
   "metadata": {},
   "outputs": [],
   "source": [
    "filtered_data=np.load('stored_arrays/density_filter_epoch4.npy')\n",
    "gain=3\n",
    "\n",
    "mapper = km.KeplerMapper(verbose=1)\n",
    "\n",
    "projected_data = mapper.fit_transform(filtered_data, projection=PCA(n_components=2))\n",
    "\n",
    "cover = km.Cover(n_cubes=30,perc_overlap=1-1/gain)\n",
    "\n",
    "graph = mapper.map(projected_data, filtered_data,clusterer=sklearn.cluster.DBSCAN(metric=\"cosine\"), cover=cover)\n",
    "\n",
    "plotlyviz(graph)"
   ]
  },
  {
   "cell_type": "code",
   "execution_count": null,
   "metadata": {},
   "outputs": [],
   "source": [
    "fig,axs=plt.subplots(3,3)\n",
    "\n",
    "axs[0,0].imshow((np.mean(mapper.data_from_cluster_id('cube104_cluster0',graph,filtered_data),axis=0).reshape(3,3)+\n",
    "            np.mean(mapper.data_from_cluster_id('cube105_cluster0',graph,filtered_data),axis=0).reshape(3,3)+\n",
    "            np.mean(mapper.data_from_cluster_id('cube106_cluster0',graph,filtered_data),axis=0).reshape(3,3))/3,cmap='gray')\n",
    "\n",
    "axs[0,2].imshow((np.mean(mapper.data_from_cluster_id('cube50_cluster0',graph,filtered_data),axis=0).reshape(3,3)+\n",
    "            np.mean(mapper.data_from_cluster_id('cube51_cluster0',graph,filtered_data),axis=0).reshape(3,3)+\n",
    "            np.mean(mapper.data_from_cluster_id('cube52_cluster0',graph,filtered_data),axis=0).reshape(3,3))/3,cmap='gray')\n",
    "\n",
    "axs[2,1].imshow((np.mean(mapper.data_from_cluster_id('cube646_cluster0',graph,filtered_data),axis=0).reshape(3,3)+\n",
    "            np.mean(mapper.data_from_cluster_id('cube647_cluster0',graph,filtered_data),axis=0).reshape(3,3)+\n",
    "            np.mean(mapper.data_from_cluster_id('cube648_cluster0',graph,filtered_data),axis=0).reshape(3,3))/3,cmap='gray')\n",
    "\n",
    "axs[2,0].imshow((np.mean(mapper.data_from_cluster_id('cube653_cluster0',graph,filtered_data),axis=0).reshape(3,3)+\n",
    "            np.mean(mapper.data_from_cluster_id('cube654_cluster0',graph,filtered_data),axis=0).reshape(3,3)+\n",
    "            np.mean(mapper.data_from_cluster_id('cube641_cluster0',graph,filtered_data),axis=0).reshape(3,3))/3,cmap='gray')\n",
    "\n",
    "axs[2,2].imshow((np.mean(mapper.data_from_cluster_id('cube576_cluster0',graph,filtered_data),axis=0).reshape(3,3)+\n",
    "            np.mean(mapper.data_from_cluster_id('cube577_cluster0',graph,filtered_data),axis=0).reshape(3,3)+\n",
    "            np.mean(mapper.data_from_cluster_id('cube578_cluster0',graph,filtered_data),axis=0).reshape(3,3))/3,cmap='gray')"
   ]
  },
  {
   "cell_type": "code",
   "execution_count": null,
   "metadata": {},
   "outputs": [],
   "source": [
    "filtered_data=np.load('stored_arrays/density_filter_epoch9.npy')\n",
    "gain=3\n",
    "\n",
    "mapper = km.KeplerMapper(verbose=1)\n",
    "\n",
    "projected_data = mapper.fit_transform(filtered_data, projection=PCA(n_components=2))\n",
    "\n",
    "cover = km.Cover(n_cubes=30,perc_overlap=1-1/gain)\n",
    "\n",
    "graph = mapper.map(projected_data, filtered_data,clusterer=sklearn.cluster.DBSCAN(metric=\"cosine\"), cover=cover)\n",
    "\n",
    "plotlyviz(graph)"
   ]
  },
  {
   "cell_type": "code",
   "execution_count": null,
   "metadata": {},
   "outputs": [],
   "source": []
  }
 ],
 "metadata": {
  "language_info": {
   "name": "python"
  }
 },
 "nbformat": 4,
 "nbformat_minor": 2
}
