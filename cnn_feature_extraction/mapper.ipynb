{
 "cells": [
  {
   "cell_type": "code",
   "execution_count": 1,
   "metadata": {},
   "outputs": [],
   "source": [
    "import numpy as np\n",
    "from sklearn.decomposition import PCA\n",
    "import sklearn\n",
    "import kmapper as km\n",
    "from kmapper.plotlyviz import plotlyviz\n",
    "import matplotlib.pyplot as plt"
   ]
  },
  {
   "cell_type": "code",
   "execution_count": 65,
   "metadata": {},
   "outputs": [],
   "source": [
    "topleft_edge_cube=np.array([1,1,1,1,0,0,1,0,0])\n",
    "left_edge_cube=np.array([1,0,0,1,0,0,1,0,0])\n",
    "bottomleft_edge_cube=np.array([1,0,0,1,0,0,1,1,1])\n",
    "topmiddle_edge_cube=np.array([1,1,1,0,0,0,0,0,0])\n",
    "middle_cube=np.array([0,1,0,1,1,1,0,1,0])\n",
    "bottommiddle_edge_cube=np.array([0,0,0,0,0,0,1,1,1])\n",
    "topright_edge_cube=np.array([1,1,1,0,0,1,0,0,1])\n",
    "right_edge_cube=np.array([0,0,1,0,0,1,0,0,1])\n",
    "bottomright_edge_cube=np.array([0,0,1,0,0,1,1,1,1])\n",
    "\n",
    "features=np.stack([topleft_edge_cube,topmiddle_edge_cube,topright_edge_cube,left_edge_cube,middle_cube,right_edge_cube,bottomleft_edge_cube,bottommiddle_edge_cube,bottomright_edge_cube])"
   ]
  },
  {
   "cell_type": "code",
   "execution_count": 64,
   "metadata": {},
   "outputs": [
    {
     "data": {
      "application/vnd.jupyter.widget-view+json": {
       "model_id": "500abfff1d724665bdd50d4be60b32ee",
       "version_major": 2,
       "version_minor": 0
      },
      "text/plain": [
       "FigureWidget({\n",
       "    'data': [{'hoverinfo': 'none',\n",
       "              'line': {'color': 'rgb(180,180,180)', 'width': 1.5},\n",
       "              'mode': 'lines',\n",
       "              'type': 'scatter',\n",
       "              'uid': 'c93618cb-26e3-4597-9a88-2f6dcfec5522',\n",
       "              'x': [4.619361642264398, 3.7797174509130143, None, ...,\n",
       "                    2.3985678658932668, 1.7918541221414208, None],\n",
       "              'y': [7.245852602656613, 7.658241145780854, None, ...,\n",
       "                    -8.138739785951728, -8.268674937000688, None]},\n",
       "             {'hoverinfo': 'text',\n",
       "              'marker': {'color': [0.5078260869565219, 0.5689440993788819,\n",
       "                                   0.6212173913043478, ..., 0.5811594202898551,\n",
       "                                   0.5729192546583851, 0.6234782608695653],\n",
       "                         'colorbar': {'thickness': 20, 'tickfont': {'size': 10}, 'ticklen': 4, 'x': 1.01},\n",
       "                         'colorscale': [[0.0, 'rgb(68, 1, 84)'], [0.1, 'rgb(72,\n",
       "                                        35, 116)'], [0.2, 'rgb(64, 67, 135)'],\n",
       "                                        [0.3, 'rgb(52, 94, 141)'], [0.4, 'rgb(41,\n",
       "                                        120, 142)'], [0.5, 'rgb(32, 144, 140)'],\n",
       "                                        [0.6, 'rgb(34, 167, 132)'], [0.7, 'rgb(68,\n",
       "                                        190, 112)'], [0.8, 'rgb(121, 209, 81)'],\n",
       "                                        [0.9, 'rgb(189, 222, 38)'], [1.0, 'rgb(253,\n",
       "                                        231, 36)']],\n",
       "                         'line': {'color': 'rgb(200,200,200)', 'width': 1.0},\n",
       "                         'opacity': 1.0,\n",
       "                         'showscale': True,\n",
       "                         'size': [6, 9, 6, ..., 6, 9, 6]},\n",
       "              'mode': 'markers',\n",
       "              'text': [cube8_cluster0, cube9_cluster0, cube10_cluster0, ...,\n",
       "                       cube521_cluster0, cube522_cluster0, cube523_cluster0],\n",
       "              'type': 'scatter',\n",
       "              'uid': '1710d144-9c15-474c-9322-6c29c629674d',\n",
       "              'x': [4.619361642264398, 3.7797174509130143, 4.246225031950488, ...,\n",
       "                    2.9637503504695273, 2.3985678658932668, 1.7918541221414208],\n",
       "              'y': [7.245852602656613, 7.658241145780854, 7.46366323837462, ...,\n",
       "                    -7.994731176515024, -8.138739785951728, -8.268674937000688]}],\n",
       "    'layout': {'annotations': [{'align': 'left',\n",
       "                                'font': {'size': 12},\n",
       "                                'showarrow': False,\n",
       "                                'text': ('<b>N_cubes:</b> 30 <b>Perc_ove' ... '485 <b>Unique_samples:</b> 556'),\n",
       "                                'x': 0,\n",
       "                                'xanchor': 'left',\n",
       "                                'xref': 'paper',\n",
       "                                'y': -0.01,\n",
       "                                'yanchor': 'top',\n",
       "                                'yref': 'paper'}],\n",
       "               'autosize': False,\n",
       "               'font': {'size': 12},\n",
       "               'height': 500,\n",
       "               'hovermode': 'closest',\n",
       "               'margin': {'b': 35, 'l': 10, 'r': 60, 't': 100},\n",
       "               'plot_bgcolor': 'rgba(240, 240, 240, 0.95)',\n",
       "               'showlegend': False,\n",
       "               'template': '...',\n",
       "               'title': {'text': 'Kepler Mapper'},\n",
       "               'width': 600,\n",
       "               'xaxis': {'visible': False},\n",
       "               'yaxis': {'visible': False}}\n",
       "})"
      ]
     },
     "execution_count": 64,
     "metadata": {},
     "output_type": "execute_result"
    }
   ],
   "source": [
    "filtered_data=np.load('filters/density_filter_epoch1.npy')\n",
    "gain=3\n",
    "\n",
    "mapper = km.KeplerMapper(verbose=0)\n",
    "\n",
    "projected_data = mapper.fit_transform(filtered_data, projection=PCA(n_components=2))\n",
    "\n",
    "cover = km.Cover(n_cubes=30,perc_overlap=1-1/gain)\n",
    "\n",
    "graph = mapper.map(projected_data, filtered_data,clusterer=sklearn.cluster.DBSCAN(metric=\"cosine\"), cover=cover)\n",
    "\n",
    "plotlyviz(graph)"
   ]
  },
  {
   "cell_type": "code",
   "execution_count": 72,
   "metadata": {},
   "outputs": [
    {
     "data": {
      "image/png": "[encoded data removed]",
      "text/plain": [
       "<Figure size 640x480 with 9 Axes>"
      ]
     },
     "metadata": {},
     "output_type": "display_data"
    }
   ],
   "source": [
    "feature_dots=[[] for _ in range(9)]\n",
    "features_dots_idx=[]\n",
    "for k in range(465):\n",
    "    cube=mapper.data_from_cluster_id(f'cube{k}_cluster0',graph,filtered_data)\n",
    "    if len(cube)>0:\n",
    "        cube_mean=np.mean(mapper.data_from_cluster_id(f'cube{k}_cluster0',graph,filtered_data),axis=0)\n",
    "        for n in range(9):\n",
    "            feature_dots[n].append(np.dot(features[n,:],cube_mean)/(np.linalg.norm(features[n,:])*np.linalg.norm(cube_mean)))\n",
    "        features_dots_idx.append(k)\n",
    "\n",
    "cubes_to_plot=[features_dots_idx[np.array(dots).argmax()] for dots in feature_dots]\n",
    "\n",
    "fig,axs=plt.subplots(3,3,layout='constrained')\n",
    "\n",
    "for ax,cube in zip(axs.flatten(),cubes_to_plot):\n",
    "    ax.imshow(np.mean(mapper.data_from_cluster_id(f'cube{str(cube)}_cluster0',graph,filtered_data),axis=0).reshape(3,3),cmap='gray_r')\n",
    "    ax.axis('off')\n",
    "    ax.set_title(str(cube))\n",
    "\n",
    "fig.suptitle('Epoch 1 Feature Extraction')\n",
    "plt.show()"
   ]
  },
  {
   "cell_type": "code",
   "execution_count": 73,
   "metadata": {},
   "outputs": [
    {
     "data": {
      "application/vnd.jupyter.widget-view+json": {
       "model_id": "4b2935cf349c4ef09331527188028fb4",
       "version_major": 2,
       "version_minor": 0
      },
      "text/plain": [
       "FigureWidget({\n",
       "    'data': [{'hoverinfo': 'none',\n",
       "              'line': {'color': 'rgb(180,180,180)', 'width': 1.5},\n",
       "              'mode': 'lines',\n",
       "              'type': 'scatter',\n",
       "              'uid': 'c0b4dda4-b70e-47d9-81a4-30cf2e5c1601',\n",
       "              'x': [4.619361642264398, 3.7797174509130143, None, ...,\n",
       "                    2.3985678658932668, 1.7918541221414208, None],\n",
       "              'y': [7.245852602656613, 7.658241145780854, None, ...,\n",
       "                    -8.138739785951728, -8.268674937000688, None]},\n",
       "             {'hoverinfo': 'text',\n",
       "              'marker': {'color': [0.5078260869565219, 0.5689440993788819,\n",
       "                                   0.6212173913043478, ..., 0.5811594202898551,\n",
       "                                   0.5729192546583851, 0.6234782608695653],\n",
       "                         'colorbar': {'thickness': 20, 'tickfont': {'size': 10}, 'ticklen': 4, 'x': 1.01},\n",
       "                         'colorscale': [[0.0, 'rgb(68, 1, 84)'], [0.1, 'rgb(72,\n",
       "                                        35, 116)'], [0.2, 'rgb(64, 67, 135)'],\n",
       "                                        [0.3, 'rgb(52, 94, 141)'], [0.4, 'rgb(41,\n",
       "                                        120, 142)'], [0.5, 'rgb(32, 144, 140)'],\n",
       "                                        [0.6, 'rgb(34, 167, 132)'], [0.7, 'rgb(68,\n",
       "                                        190, 112)'], [0.8, 'rgb(121, 209, 81)'],\n",
       "                                        [0.9, 'rgb(189, 222, 38)'], [1.0, 'rgb(253,\n",
       "                                        231, 36)']],\n",
       "                         'line': {'color': 'rgb(200,200,200)', 'width': 1.0},\n",
       "                         'opacity': 1.0,\n",
       "                         'showscale': True,\n",
       "                         'size': [6, 9, 6, ..., 6, 9, 6]},\n",
       "              'mode': 'markers',\n",
       "              'text': [cube8_cluster0, cube9_cluster0, cube10_cluster0, ...,\n",
       "                       cube521_cluster0, cube522_cluster0, cube523_cluster0],\n",
       "              'type': 'scatter',\n",
       "              'uid': '938663eb-b618-49d5-94f9-c4b2c04eb9a0',\n",
       "              'x': [4.619361642264398, 3.7797174509130143, 4.246225031950488, ...,\n",
       "                    2.9637503504695273, 2.3985678658932668, 1.7918541221414208],\n",
       "              'y': [7.245852602656613, 7.658241145780854, 7.46366323837462, ...,\n",
       "                    -7.994731176515024, -8.138739785951728, -8.268674937000688]}],\n",
       "    'layout': {'annotations': [{'align': 'left',\n",
       "                                'font': {'size': 12},\n",
       "                                'showarrow': False,\n",
       "                                'text': ('<b>N_cubes:</b> 30 <b>Perc_ove' ... '485 <b>Unique_samples:</b> 556'),\n",
       "                                'x': 0,\n",
       "                                'xanchor': 'left',\n",
       "                                'xref': 'paper',\n",
       "                                'y': -0.01,\n",
       "                                'yanchor': 'top',\n",
       "                                'yref': 'paper'}],\n",
       "               'autosize': False,\n",
       "               'font': {'size': 12},\n",
       "               'height': 500,\n",
       "               'hovermode': 'closest',\n",
       "               'margin': {'b': 35, 'l': 10, 'r': 60, 't': 100},\n",
       "               'plot_bgcolor': 'rgba(240, 240, 240, 0.95)',\n",
       "               'showlegend': False,\n",
       "               'template': '...',\n",
       "               'title': {'text': 'Kepler Mapper'},\n",
       "               'width': 600,\n",
       "               'xaxis': {'visible': False},\n",
       "               'yaxis': {'visible': False}}\n",
       "})"
      ]
     },
     "execution_count": 73,
     "metadata": {},
     "output_type": "execute_result"
    }
   ],
   "source": [
    "filtered_data=np.load('filters/density_filter_epoch4.npy')\n",
    "gain=3\n",
    "\n",
    "mapper = km.KeplerMapper(verbose=0)\n",
    "\n",
    "projected_data = mapper.fit_transform(filtered_data, projection=PCA(n_components=2))\n",
    "\n",
    "cover = km.Cover(n_cubes=30,perc_overlap=1-1/gain)\n",
    "\n",
    "graph = mapper.map(projected_data, filtered_data,clusterer=sklearn.cluster.DBSCAN(metric=\"cosine\"), cover=cover)\n",
    "\n",
    "plotlyviz(graph)"
   ]
  },
  {
   "cell_type": "code",
   "execution_count": 74,
   "metadata": {},
   "outputs": [
    {
     "data": {
      "image/png": "[encoded data removed]",
      "text/plain": [
       "<Figure size 640x480 with 9 Axes>"
      ]
     },
     "metadata": {},
     "output_type": "display_data"
    }
   ],
   "source": [
    "feature_dots=[[] for _ in range(9)]\n",
    "features_dots_idx=[]\n",
    "for k in range(465):\n",
    "    cube=mapper.data_from_cluster_id(f'cube{k}_cluster0',graph,filtered_data)\n",
    "    if len(cube)>0:\n",
    "        cube_mean=np.mean(mapper.data_from_cluster_id(f'cube{k}_cluster0',graph,filtered_data),axis=0)\n",
    "        for n in range(9):\n",
    "            feature_dots[n].append(np.dot(features[n,:],cube_mean)/(np.linalg.norm(features[n,:])*np.linalg.norm(cube_mean)))\n",
    "        features_dots_idx.append(k)\n",
    "\n",
    "cubes_to_plot=[features_dots_idx[np.array(dots).argmax()] for dots in feature_dots]\n",
    "\n",
    "fig,axs=plt.subplots(3,3,layout='constrained')\n",
    "\n",
    "for ax,cube in zip(axs.flatten(),cubes_to_plot):\n",
    "    ax.imshow(np.mean(mapper.data_from_cluster_id(f'cube{str(cube)}_cluster0',graph,filtered_data),axis=0).reshape(3,3),cmap='gray_r')\n",
    "    ax.axis('off')\n",
    "    ax.set_title(str(cube))\n",
    "\n",
    "fig.suptitle('Epoch 4 Feature Extraction')\n",
    "plt.show()"
   ]
  },
  {
   "cell_type": "code",
   "execution_count": 76,
   "metadata": {},
   "outputs": [
    {
     "data": {
      "application/vnd.jupyter.widget-view+json": {
       "model_id": "bf01dbbe0d834aff92d954ea3044ae20",
       "version_major": 2,
       "version_minor": 0
      },
      "text/plain": [
       "FigureWidget({\n",
       "    'data': [{'hoverinfo': 'none',\n",
       "              'line': {'color': 'rgb(180,180,180)', 'width': 1.5},\n",
       "              'mode': 'lines',\n",
       "              'type': 'scatter',\n",
       "              'uid': '2dc1a798-f52a-4e0a-ae4f-9fc42aecbdf3',\n",
       "              'x': [4.619361642264398, 3.7797174509130143, None, ...,\n",
       "                    2.3985678658932668, 1.7918541221414208, None],\n",
       "              'y': [7.245852602656613, 7.658241145780854, None, ...,\n",
       "                    -8.138739785951728, -8.268674937000688, None]},\n",
       "             {'hoverinfo': 'text',\n",
       "              'marker': {'color': [0.5078260869565219, 0.5689440993788819,\n",
       "                                   0.6212173913043478, ..., 0.5811594202898551,\n",
       "                                   0.5729192546583851, 0.6234782608695653],\n",
       "                         'colorbar': {'thickness': 20, 'tickfont': {'size': 10}, 'ticklen': 4, 'x': 1.01},\n",
       "                         'colorscale': [[0.0, 'rgb(68, 1, 84)'], [0.1, 'rgb(72,\n",
       "                                        35, 116)'], [0.2, 'rgb(64, 67, 135)'],\n",
       "                                        [0.3, 'rgb(52, 94, 141)'], [0.4, 'rgb(41,\n",
       "                                        120, 142)'], [0.5, 'rgb(32, 144, 140)'],\n",
       "                                        [0.6, 'rgb(34, 167, 132)'], [0.7, 'rgb(68,\n",
       "                                        190, 112)'], [0.8, 'rgb(121, 209, 81)'],\n",
       "                                        [0.9, 'rgb(189, 222, 38)'], [1.0, 'rgb(253,\n",
       "                                        231, 36)']],\n",
       "                         'line': {'color': 'rgb(200,200,200)', 'width': 1.0},\n",
       "                         'opacity': 1.0,\n",
       "                         'showscale': True,\n",
       "                         'size': [6, 9, 6, ..., 6, 9, 6]},\n",
       "              'mode': 'markers',\n",
       "              'text': [cube8_cluster0, cube9_cluster0, cube10_cluster0, ...,\n",
       "                       cube521_cluster0, cube522_cluster0, cube523_cluster0],\n",
       "              'type': 'scatter',\n",
       "              'uid': '921bfcca-282e-4496-abc5-ad41d0aa3ae2',\n",
       "              'x': [4.619361642264398, 3.7797174509130143, 4.246225031950488, ...,\n",
       "                    2.9637503504695273, 2.3985678658932668, 1.7918541221414208],\n",
       "              'y': [7.245852602656613, 7.658241145780854, 7.46366323837462, ...,\n",
       "                    -7.994731176515024, -8.138739785951728, -8.268674937000688]}],\n",
       "    'layout': {'annotations': [{'align': 'left',\n",
       "                                'font': {'size': 12},\n",
       "                                'showarrow': False,\n",
       "                                'text': ('<b>N_cubes:</b> 30 <b>Perc_ove' ... '485 <b>Unique_samples:</b> 556'),\n",
       "                                'x': 0,\n",
       "                                'xanchor': 'left',\n",
       "                                'xref': 'paper',\n",
       "                                'y': -0.01,\n",
       "                                'yanchor': 'top',\n",
       "                                'yref': 'paper'}],\n",
       "               'autosize': False,\n",
       "               'font': {'size': 12},\n",
       "               'height': 500,\n",
       "               'hovermode': 'closest',\n",
       "               'margin': {'b': 35, 'l': 10, 'r': 60, 't': 100},\n",
       "               'plot_bgcolor': 'rgba(240, 240, 240, 0.95)',\n",
       "               'showlegend': False,\n",
       "               'template': '...',\n",
       "               'title': {'text': 'Kepler Mapper'},\n",
       "               'width': 600,\n",
       "               'xaxis': {'visible': False},\n",
       "               'yaxis': {'visible': False}}\n",
       "})"
      ]
     },
     "execution_count": 76,
     "metadata": {},
     "output_type": "execute_result"
    }
   ],
   "source": [
    "filtered_data=np.load('filters/density_filter_epoch9.npy')\n",
    "gain=3\n",
    "\n",
    "mapper = km.KeplerMapper(verbose=0)\n",
    "\n",
    "projected_data = mapper.fit_transform(filtered_data, projection=PCA(n_components=2))\n",
    "\n",
    "cover = km.Cover(n_cubes=30,perc_overlap=1-1/gain)\n",
    "\n",
    "graph = mapper.map(projected_data, filtered_data,clusterer=sklearn.cluster.DBSCAN(metric=\"cosine\"), cover=cover)\n",
    "\n",
    "plotlyviz(graph)"
   ]
  },
  {
   "cell_type": "code",
   "execution_count": 77,
   "metadata": {},
   "outputs": [
    {
     "data": {
      "image/png": "[encoded data removed]",
      "text/plain": [
       "<Figure size 640x480 with 9 Axes>"
      ]
     },
     "metadata": {},
     "output_type": "display_data"
    }
   ],
   "source": [
    "feature_dots=[[] for _ in range(9)]\n",
    "features_dots_idx=[]\n",
    "for k in range(465):\n",
    "    cube=mapper.data_from_cluster_id(f'cube{k}_cluster0',graph,filtered_data)\n",
    "    if len(cube)>0:\n",
    "        cube_mean=np.mean(mapper.data_from_cluster_id(f'cube{k}_cluster0',graph,filtered_data),axis=0)\n",
    "        for n in range(9):\n",
    "            feature_dots[n].append(np.dot(features[n,:],cube_mean)/(np.linalg.norm(features[n,:])*np.linalg.norm(cube_mean)))\n",
    "        features_dots_idx.append(k)\n",
    "\n",
    "cubes_to_plot=[features_dots_idx[np.array(dots).argmax()] for dots in feature_dots]\n",
    "\n",
    "fig,axs=plt.subplots(3,3,layout='constrained')\n",
    "\n",
    "for ax,cube in zip(axs.flatten(),cubes_to_plot):\n",
    "    ax.imshow(np.mean(mapper.data_from_cluster_id(f'cube{str(cube)}_cluster0',graph,filtered_data),axis=0).reshape(3,3),cmap='gray_r')\n",
    "    ax.axis('off')\n",
    "    ax.set_title(str(cube))\n",
    "\n",
    "fig.suptitle('Epoch 9 Feature Extraction')\n",
    "plt.show()"
   ]
  }
 ],
 "metadata": {
  "kernelspec": {
   "display_name": "Python 3",
   "language": "python",
   "name": "python3"
  },
  "language_info": {
   "codemirror_mode": {
    "name": "ipython",
    "version": 3
   },
   "file_extension": ".py",
   "mimetype": "text/x-python",
   "name": "python",
   "nbconvert_exporter": "python",
   "pygments_lexer": "ipython3",
   "version": "3.9.5"
  }
 },
 "nbformat": 4,
 "nbformat_minor": 2
}
