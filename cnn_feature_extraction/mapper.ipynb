{
 "cells": [
  {
   "cell_type": "code",
   "execution_count": 1,
   "metadata": {},
   "outputs": [],
   "source": [
    "import numpy as np\n",
    "from sklearn.decomposition import PCA\n",
    "import sklearn\n",
    "import kmapper as km\n",
    "from kmapper.plotlyviz import plotlyviz\n",
    "import matplotlib.pyplot as plt"
   ]
  },
  {
   "cell_type": "code",
   "execution_count": 2,
   "metadata": {},
   "outputs": [],
   "source": [
    "topleft_edge_cube=np.array([1,1,1,1,0,0,1,0,0])\n",
    "left_edge_cube=np.array([1,0,0,1,0,0,1,0,0])\n",
    "bottomleft_edge_cube=np.array([1,0,0,1,0,0,1,1,1])\n",
    "topmiddle_edge_cube=np.array([1,1,1,0,0,0,0,0,0])\n",
    "middle_cube=np.array([0,1,0,1,1,1,0,1,0])\n",
    "bottommiddle_edge_cube=np.array([0,0,0,0,0,0,1,1,1])\n",
    "topright_edge_cube=np.array([1,1,1,0,0,1,0,0,1])\n",
    "right_edge_cube=np.array([0,0,1,0,0,1,0,0,1])\n",
    "bottomright_edge_cube=np.array([0,0,1,0,0,1,1,1,1])\n",
    "\n",
    "features=np.stack([topleft_edge_cube,topmiddle_edge_cube,topright_edge_cube,left_edge_cube,middle_cube,right_edge_cube,bottomleft_edge_cube,bottommiddle_edge_cube,bottomright_edge_cube])"
   ]
  },
  {
   "cell_type": "code",
   "execution_count": 3,
   "metadata": {},
   "outputs": [
    {
     "data": {
      "application/vnd.jupyter.widget-view+json": {
       "model_id": "ab34e78dc6634c13b888732d877ac205",
       "version_major": 2,
       "version_minor": 0
      },
      "text/plain": [
       "FigureWidget({\n",
       "    'data': [{'hoverinfo': 'none',\n",
       "              'line': {'color': 'rgb(180,180,180)', 'width': 1.5},\n",
       "              'mode': 'lines',\n",
       "              'type': 'scatter',\n",
       "              'uid': '685736b7-b2ca-42e1-a6b4-72a10671e24d',\n",
       "              'x': [1.976298426380229, 1.0613760610192524, None, ...,\n",
       "                    4.673946191211658, 4.132821063439614, None],\n",
       "              'y': [9.019142822452718, 8.810512947554527, None, ...,\n",
       "                    -6.853700124516161, -7.028135801793548, None]},\n",
       "             {'hoverinfo': 'text',\n",
       "              'marker': {'color': [0.4704691812327507, 0.5492180312787488,\n",
       "                                   0.5665133394664214, ..., 0.6088623121741797,\n",
       "                                   0.6539405090463047, 0.662005519779209],\n",
       "                         'colorbar': {'thickness': 20, 'tickfont': {'size': 10}, 'ticklen': 4, 'x': 1.01},\n",
       "                         'colorscale': [[0.0, 'rgb(68, 1, 84)'], [0.1, 'rgb(72,\n",
       "                                        35, 116)'], [0.2, 'rgb(64, 67, 135)'],\n",
       "                                        [0.3, 'rgb(52, 94, 141)'], [0.4, 'rgb(41,\n",
       "                                        120, 142)'], [0.5, 'rgb(32, 144, 140)'],\n",
       "                                        [0.6, 'rgb(34, 167, 132)'], [0.7, 'rgb(68,\n",
       "                                        190, 112)'], [0.8, 'rgb(121, 209, 81)'],\n",
       "                                        [0.9, 'rgb(189, 222, 38)'], [1.0, 'rgb(253,\n",
       "                                        231, 36)']],\n",
       "                         'line': {'color': 'rgb(200,200,200)', 'width': 1.0},\n",
       "                         'opacity': 1.0,\n",
       "                         'showscale': True,\n",
       "                         'size': [6, 6, 6, ..., 6, 6, 6]},\n",
       "              'mode': 'markers',\n",
       "              'text': [cube9_cluster0, cube10_cluster0, cube19_cluster0, ...,\n",
       "                       cube568_cluster0, cube569_cluster0, cube570_cluster0],\n",
       "              'type': 'scatter',\n",
       "              'uid': '40be0474-1760-4a06-ad97-967e8f97befc',\n",
       "              'x': [1.976298426380229, 1.0613760610192524, 2.2656751049820314,\n",
       "                    ..., 5.227866890912974, 4.673946191211658, 4.132821063439614],\n",
       "              'y': [9.019142822452718, 8.810512947554527, 8.270864322680156, ...,\n",
       "                    -6.796193002696163, -6.853700124516161, -7.028135801793548]}],\n",
       "    'layout': {'annotations': [{'align': 'left',\n",
       "                                'font': {'size': 12},\n",
       "                                'showarrow': False,\n",
       "                                'text': ('<b>N_cubes:</b> 30 <b>Perc_ove' ... '29 <b>Unique_samples:</b> 1065'),\n",
       "                                'x': 0,\n",
       "                                'xanchor': 'left',\n",
       "                                'xref': 'paper',\n",
       "                                'y': -0.01,\n",
       "                                'yanchor': 'top',\n",
       "                                'yref': 'paper'}],\n",
       "               'autosize': False,\n",
       "               'font': {'size': 12},\n",
       "               'height': 500,\n",
       "               'hovermode': 'closest',\n",
       "               'margin': {'b': 35, 'l': 10, 'r': 60, 't': 100},\n",
       "               'plot_bgcolor': 'rgba(240, 240, 240, 0.95)',\n",
       "               'showlegend': False,\n",
       "               'template': '...',\n",
       "               'title': {'text': 'Kepler Mapper'},\n",
       "               'width': 600,\n",
       "               'xaxis': {'visible': False},\n",
       "               'yaxis': {'visible': False}}\n",
       "})"
      ]
     },
     "execution_count": 3,
     "metadata": {},
     "output_type": "execute_result"
    }
   ],
   "source": [
    "filtered_data=np.load('filters/density_filter_epoch1.npy')\n",
    "gain=3\n",
    "\n",
    "mapper = km.KeplerMapper(verbose=0)\n",
    "\n",
    "projected_data = mapper.fit_transform(filtered_data, projection=PCA(n_components=2))\n",
    "\n",
    "cover = km.Cover(n_cubes=30,perc_overlap=1-1/gain)\n",
    "\n",
    "graph = mapper.map(projected_data, filtered_data,clusterer=sklearn.cluster.DBSCAN(metric=\"cosine\"), cover=cover)\n",
    "\n",
    "plotlyviz(graph)"
   ]
  },
  {
   "cell_type": "code",
   "execution_count": 4,
   "metadata": {},
   "outputs": [
    {
     "data": {
      "image/png": "[encoded data removed]",
      "text/plain": [
       "<Figure size 640x480 with 9 Axes>"
      ]
     },
     "metadata": {},
     "output_type": "display_data"
    }
   ],
   "source": [
    "feature_dots=[[] for _ in range(9)]\n",
    "features_dots_idx=[]\n",
    "for k in range(465):\n",
    "    cube=mapper.data_from_cluster_id(f'cube{k}_cluster0',graph,filtered_data)\n",
    "    if len(cube)>0:\n",
    "        cube_mean=np.mean(mapper.data_from_cluster_id(f'cube{k}_cluster0',graph,filtered_data),axis=0)\n",
    "        for n in range(9):\n",
    "            feature_dots[n].append(np.dot(features[n,:],cube_mean)/(np.linalg.norm(features[n,:])*np.linalg.norm(cube_mean)))\n",
    "        features_dots_idx.append(k)\n",
    "\n",
    "cubes_to_plot=[features_dots_idx[np.array(dots).argmax()] for dots in feature_dots]\n",
    "\n",
    "fig,axs=plt.subplots(3,3,layout='constrained')\n",
    "\n",
    "for ax,cube in zip(axs.flatten(),cubes_to_plot):\n",
    "    ax.imshow(np.mean(mapper.data_from_cluster_id(f'cube{str(cube)}_cluster0',graph,filtered_data),axis=0).reshape(3,3),cmap='gray_r')\n",
    "    ax.axis('off')\n",
    "    ax.set_title(str(cube))\n",
    "\n",
    "fig.suptitle('Epoch 1 Feature Extraction')\n",
    "plt.show()"
   ]
  },
  {
   "cell_type": "code",
   "execution_count": 5,
   "metadata": {},
   "outputs": [
    {
     "data": {
      "application/vnd.jupyter.widget-view+json": {
       "model_id": "7e9adb4852964fc38f936ca8ec714040",
       "version_major": 2,
       "version_minor": 0
      },
      "text/plain": [
       "FigureWidget({\n",
       "    'data': [{'hoverinfo': 'none',\n",
       "              'line': {'color': 'rgb(180,180,180)', 'width': 1.5},\n",
       "              'mode': 'lines',\n",
       "              'type': 'scatter',\n",
       "              'uid': '80986f58-1e29-4a76-9564-9885ba803605',\n",
       "              'x': [1.976298426380229, 1.0613760610192524, None, ...,\n",
       "                    4.673946191211658, 4.132821063439614, None],\n",
       "              'y': [9.019142822452718, 8.810512947554527, None, ...,\n",
       "                    -6.853700124516161, -7.028135801793548, None]},\n",
       "             {'hoverinfo': 'text',\n",
       "              'marker': {'color': [0.4704691812327507, 0.5492180312787488,\n",
       "                                   0.5665133394664214, ..., 0.6088623121741797,\n",
       "                                   0.6539405090463047, 0.662005519779209],\n",
       "                         'colorbar': {'thickness': 20, 'tickfont': {'size': 10}, 'ticklen': 4, 'x': 1.01},\n",
       "                         'colorscale': [[0.0, 'rgb(68, 1, 84)'], [0.1, 'rgb(72,\n",
       "                                        35, 116)'], [0.2, 'rgb(64, 67, 135)'],\n",
       "                                        [0.3, 'rgb(52, 94, 141)'], [0.4, 'rgb(41,\n",
       "                                        120, 142)'], [0.5, 'rgb(32, 144, 140)'],\n",
       "                                        [0.6, 'rgb(34, 167, 132)'], [0.7, 'rgb(68,\n",
       "                                        190, 112)'], [0.8, 'rgb(121, 209, 81)'],\n",
       "                                        [0.9, 'rgb(189, 222, 38)'], [1.0, 'rgb(253,\n",
       "                                        231, 36)']],\n",
       "                         'line': {'color': 'rgb(200,200,200)', 'width': 1.0},\n",
       "                         'opacity': 1.0,\n",
       "                         'showscale': True,\n",
       "                         'size': [6, 6, 6, ..., 6, 6, 6]},\n",
       "              'mode': 'markers',\n",
       "              'text': [cube9_cluster0, cube10_cluster0, cube19_cluster0, ...,\n",
       "                       cube568_cluster0, cube569_cluster0, cube570_cluster0],\n",
       "              'type': 'scatter',\n",
       "              'uid': '252dacf9-2180-41bf-8b40-534af6338c61',\n",
       "              'x': [1.976298426380229, 1.0613760610192524, 2.2656751049820314,\n",
       "                    ..., 5.227866890912974, 4.673946191211658, 4.132821063439614],\n",
       "              'y': [9.019142822452718, 8.810512947554527, 8.270864322680156, ...,\n",
       "                    -6.796193002696163, -6.853700124516161, -7.028135801793548]}],\n",
       "    'layout': {'annotations': [{'align': 'left',\n",
       "                                'font': {'size': 12},\n",
       "                                'showarrow': False,\n",
       "                                'text': ('<b>N_cubes:</b> 30 <b>Perc_ove' ... '29 <b>Unique_samples:</b> 1065'),\n",
       "                                'x': 0,\n",
       "                                'xanchor': 'left',\n",
       "                                'xref': 'paper',\n",
       "                                'y': -0.01,\n",
       "                                'yanchor': 'top',\n",
       "                                'yref': 'paper'}],\n",
       "               'autosize': False,\n",
       "               'font': {'size': 12},\n",
       "               'height': 500,\n",
       "               'hovermode': 'closest',\n",
       "               'margin': {'b': 35, 'l': 10, 'r': 60, 't': 100},\n",
       "               'plot_bgcolor': 'rgba(240, 240, 240, 0.95)',\n",
       "               'showlegend': False,\n",
       "               'template': '...',\n",
       "               'title': {'text': 'Kepler Mapper'},\n",
       "               'width': 600,\n",
       "               'xaxis': {'visible': False},\n",
       "               'yaxis': {'visible': False}}\n",
       "})"
      ]
     },
     "execution_count": 5,
     "metadata": {},
     "output_type": "execute_result"
    }
   ],
   "source": [
    "filtered_data=np.load('filters/density_filter_epoch4.npy')\n",
    "gain=3\n",
    "\n",
    "mapper = km.KeplerMapper(verbose=0)\n",
    "\n",
    "projected_data = mapper.fit_transform(filtered_data, projection=PCA(n_components=2))\n",
    "\n",
    "cover = km.Cover(n_cubes=30,perc_overlap=1-1/gain)\n",
    "\n",
    "graph = mapper.map(projected_data, filtered_data,clusterer=sklearn.cluster.DBSCAN(metric=\"cosine\"), cover=cover)\n",
    "\n",
    "plotlyviz(graph)"
   ]
  },
  {
   "cell_type": "code",
   "execution_count": 6,
   "metadata": {},
   "outputs": [
    {
     "data": {
      "image/png": "[encoded data removed]",
      "text/plain": [
       "<Figure size 640x480 with 9 Axes>"
      ]
     },
     "metadata": {},
     "output_type": "display_data"
    }
   ],
   "source": [
    "feature_dots=[[] for _ in range(9)]\n",
    "features_dots_idx=[]\n",
    "for k in range(465):\n",
    "    cube=mapper.data_from_cluster_id(f'cube{k}_cluster0',graph,filtered_data)\n",
    "    if len(cube)>0:\n",
    "        cube_mean=np.mean(mapper.data_from_cluster_id(f'cube{k}_cluster0',graph,filtered_data),axis=0)\n",
    "        for n in range(9):\n",
    "            feature_dots[n].append(np.dot(features[n,:],cube_mean)/(np.linalg.norm(features[n,:])*np.linalg.norm(cube_mean)))\n",
    "        features_dots_idx.append(k)\n",
    "\n",
    "cubes_to_plot=[features_dots_idx[np.array(dots).argmax()] for dots in feature_dots]\n",
    "\n",
    "fig,axs=plt.subplots(3,3,layout='constrained')\n",
    "\n",
    "for ax,cube in zip(axs.flatten(),cubes_to_plot):\n",
    "    ax.imshow(np.mean(mapper.data_from_cluster_id(f'cube{str(cube)}_cluster0',graph,filtered_data),axis=0).reshape(3,3),cmap='gray_r')\n",
    "    ax.axis('off')\n",
    "    ax.set_title(str(cube))\n",
    "\n",
    "fig.suptitle('Epoch 4 Feature Extraction')\n",
    "plt.show()"
   ]
  },
  {
   "cell_type": "code",
   "execution_count": 9,
   "metadata": {},
   "outputs": [
    {
     "data": {
      "application/vnd.jupyter.widget-view+json": {
       "model_id": "96ac86da2b9043dba472e005d6be2061",
       "version_major": 2,
       "version_minor": 0
      },
      "text/plain": [
       "FigureWidget({\n",
       "    'data': [{'hoverinfo': 'none',\n",
       "              'line': {'color': 'rgb(180,180,180)', 'width': 1.5},\n",
       "              'mode': 'lines',\n",
       "              'type': 'scatter',\n",
       "              'uid': '262b59b1-2749-4bf0-8922-bd3002ccf6e9',\n",
       "              'x': [1.976298426380229, 1.0613760610192524, None, ...,\n",
       "                    4.673946191211658, 4.132821063439614, None],\n",
       "              'y': [9.019142822452718, 8.810512947554527, None, ...,\n",
       "                    -6.853700124516161, -7.028135801793548, None]},\n",
       "             {'hoverinfo': 'text',\n",
       "              'marker': {'color': [0.4704691812327507, 0.5492180312787488,\n",
       "                                   0.5665133394664214, ..., 0.6088623121741797,\n",
       "                                   0.6539405090463047, 0.662005519779209],\n",
       "                         'colorbar': {'thickness': 20, 'tickfont': {'size': 10}, 'ticklen': 4, 'x': 1.01},\n",
       "                         'colorscale': [[0.0, 'rgb(68, 1, 84)'], [0.1, 'rgb(72,\n",
       "                                        35, 116)'], [0.2, 'rgb(64, 67, 135)'],\n",
       "                                        [0.3, 'rgb(52, 94, 141)'], [0.4, 'rgb(41,\n",
       "                                        120, 142)'], [0.5, 'rgb(32, 144, 140)'],\n",
       "                                        [0.6, 'rgb(34, 167, 132)'], [0.7, 'rgb(68,\n",
       "                                        190, 112)'], [0.8, 'rgb(121, 209, 81)'],\n",
       "                                        [0.9, 'rgb(189, 222, 38)'], [1.0, 'rgb(253,\n",
       "                                        231, 36)']],\n",
       "                         'line': {'color': 'rgb(200,200,200)', 'width': 1.0},\n",
       "                         'opacity': 1.0,\n",
       "                         'showscale': True,\n",
       "                         'size': [6, 6, 6, ..., 6, 6, 6]},\n",
       "              'mode': 'markers',\n",
       "              'text': [cube9_cluster0, cube10_cluster0, cube19_cluster0, ...,\n",
       "                       cube568_cluster0, cube569_cluster0, cube570_cluster0],\n",
       "              'type': 'scatter',\n",
       "              'uid': '25e236e0-290d-48ee-b970-ecbc56f549b3',\n",
       "              'x': [1.976298426380229, 1.0613760610192524, 2.2656751049820314,\n",
       "                    ..., 5.227866890912974, 4.673946191211658, 4.132821063439614],\n",
       "              'y': [9.019142822452718, 8.810512947554527, 8.270864322680156, ...,\n",
       "                    -6.796193002696163, -6.853700124516161, -7.028135801793548]}],\n",
       "    'layout': {'annotations': [{'align': 'left',\n",
       "                                'font': {'size': 12},\n",
       "                                'showarrow': False,\n",
       "                                'text': ('<b>N_cubes:</b> 30 <b>Perc_ove' ... '29 <b>Unique_samples:</b> 1065'),\n",
       "                                'x': 0,\n",
       "                                'xanchor': 'left',\n",
       "                                'xref': 'paper',\n",
       "                                'y': -0.01,\n",
       "                                'yanchor': 'top',\n",
       "                                'yref': 'paper'}],\n",
       "               'autosize': False,\n",
       "               'font': {'size': 12},\n",
       "               'height': 500,\n",
       "               'hovermode': 'closest',\n",
       "               'margin': {'b': 35, 'l': 10, 'r': 60, 't': 100},\n",
       "               'plot_bgcolor': 'rgba(240, 240, 240, 0.95)',\n",
       "               'showlegend': False,\n",
       "               'template': '...',\n",
       "               'title': {'text': 'Kepler Mapper'},\n",
       "               'width': 600,\n",
       "               'xaxis': {'visible': False},\n",
       "               'yaxis': {'visible': False}}\n",
       "})"
      ]
     },
     "execution_count": 9,
     "metadata": {},
     "output_type": "execute_result"
    }
   ],
   "source": [
    "filtered_data=np.load('filters/density_filter_epoch9.npy')\n",
    "gain=3\n",
    "\n",
    "mapper = km.KeplerMapper(verbose=0)\n",
    "\n",
    "projected_data = mapper.fit_transform(filtered_data, projection=PCA(n_components=2))\n",
    "\n",
    "cover = km.Cover(n_cubes=30,perc_overlap=1-1/gain)\n",
    "\n",
    "graph = mapper.map(projected_data, filtered_data,clusterer=sklearn.cluster.DBSCAN(metric=\"cosine\"), cover=cover)\n",
    "\n",
    "plotlyviz(graph)"
   ]
  },
  {
   "cell_type": "code",
   "execution_count": 10,
   "metadata": {},
   "outputs": [
    {
     "data": {
      "image/png": "[encoded data removed]",
      "text/plain": [
       "<Figure size 640x480 with 9 Axes>"
      ]
     },
     "metadata": {},
     "output_type": "display_data"
    }
   ],
   "source": [
    "feature_dots=[[] for _ in range(9)]\n",
    "features_dots_idx=[]\n",
    "for k in range(465):\n",
    "    cube=mapper.data_from_cluster_id(f'cube{k}_cluster0',graph,filtered_data)\n",
    "    if len(cube)>0:\n",
    "        cube_mean=np.mean(mapper.data_from_cluster_id(f'cube{k}_cluster0',graph,filtered_data),axis=0)\n",
    "        for n in range(9):\n",
    "            feature_dots[n].append(np.dot(features[n,:],cube_mean)/(np.linalg.norm(features[n,:])*np.linalg.norm(cube_mean)))\n",
    "        features_dots_idx.append(k)\n",
    "\n",
    "cubes_to_plot=[features_dots_idx[np.array(dots).argmax()] for dots in feature_dots]\n",
    "\n",
    "fig,axs=plt.subplots(3,3,layout='constrained')\n",
    "\n",
    "for ax,cube in zip(axs.flatten(),cubes_to_plot):\n",
    "    ax.imshow(np.mean(mapper.data_from_cluster_id(f'cube{str(cube)}_cluster0',graph,filtered_data),axis=0).reshape(3,3),cmap='gray_r')\n",
    "    ax.axis('off')\n",
    "    ax.set_title(str(cube))\n",
    "\n",
    "fig.suptitle('Epoch 9 Feature Extraction')\n",
    "plt.show()"
   ]
  }
 ],
 "metadata": {
  "kernelspec": {
   "display_name": "Python 3",
   "language": "python",
   "name": "python3"
  },
  "language_info": {
   "codemirror_mode": {
    "name": "ipython",
    "version": 3
   },
   "file_extension": ".py",
   "mimetype": "text/x-python",
   "name": "python",
   "nbconvert_exporter": "python",
   "pygments_lexer": "ipython3",
   "version": "3.9.5"
  }
 },
 "nbformat": 4,
 "nbformat_minor": 2
}
