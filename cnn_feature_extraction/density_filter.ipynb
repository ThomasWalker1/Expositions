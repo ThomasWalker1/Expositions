{
 "cells": [
  {
   "cell_type": "code",
   "execution_count": null,
   "metadata": {},
   "outputs": [],
   "source": [
    "import numpy as np\n",
    "from numpy.linalg import norm\n",
    "import os"
   ]
  },
  {
   "cell_type": "code",
   "execution_count": null,
   "metadata": {},
   "outputs": [],
   "source": [
    "FILTER_DEPTH=64\n",
    "FILTER_DIMENSION=3"
   ]
  },
  {
   "cell_type": "code",
   "execution_count": null,
   "metadata": {},
   "outputs": [],
   "source": [
    "def density_filter(filter_depth,filter_dimension,k,p):\n",
    "    stored_files = os.listdir('trained_cnns')\n",
    "    npy_weight_files=[str for str in stored_files if 'weights' in str and 'epoch4' in str]\n",
    "    num_weight_vectors = len(npy_weight_files)\n",
    "    filters=np.zeros((num_weight_vectors*filter_depth,filter_dimension**2))\n",
    "    for n in range(num_weight_vectors):\n",
    "        loaded_array=np.load('stored_arrays/'+npy_weight_files[n])\n",
    "        for m,filter in enumerate(loaded_array):\n",
    "            filters[n*filter_depth+m]=filter[0].reshape(1,filter_dimension**2)[0]\n",
    "\n",
    "    filters-=np.mean(filters)\n",
    "    filters/=np.std(filters)\n",
    "\n",
    "    return filters"
   ]
  },
  {
   "cell_type": "code",
   "execution_count": null,
   "metadata": {},
   "outputs": [],
   "source": [
    "np.save('filters/density_filter_epoch4',density_filter(FILTER_DEPTH,FILTER_DIMENSION,15,0.5))"
   ]
  }
 ],
 "metadata": {
  "language_info": {
   "name": "python"
  }
 },
 "nbformat": 4,
 "nbformat_minor": 2
}
