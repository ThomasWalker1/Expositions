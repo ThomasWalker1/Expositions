{
 "cells": [
  {
   "cell_type": "code",
   "execution_count": 1,
   "metadata": {},
   "outputs": [],
   "source": [
    "import numpy as np\n",
    "import os"
   ]
  },
  {
   "cell_type": "code",
   "execution_count": 2,
   "metadata": {},
   "outputs": [],
   "source": [
    "FILTER_DEPTH=64\n",
    "FILTER_DIMENSION=3"
   ]
  },
  {
   "cell_type": "code",
   "execution_count": 3,
   "metadata": {},
   "outputs": [],
   "source": [
    "def density_filter(filter_depth,filter_dimension,k,p):\n",
    "    stored_files = os.listdir('trained_cnns')\n",
    "    npy_weight_files=[str for str in stored_files if 'weights' in str and 'epoch1' in str]\n",
    "    num_weight_vectors = len(npy_weight_files)\n",
    "    filters=np.zeros((num_weight_vectors*filter_depth,filter_dimension**2))\n",
    "    for n in range(num_weight_vectors):\n",
    "        loaded_array=np.load('trained_cnns/'+npy_weight_files[n])\n",
    "        for m,filter in enumerate(loaded_array):\n",
    "            filters[n*filter_depth+m]=filter[0].reshape(1,filter_dimension**2)[0]\n",
    "\n",
    "    filters-=np.mean(filters)\n",
    "    filters/=np.std(filters)\n",
    "\n",
    "    return filters"
   ]
  },
  {
   "cell_type": "code",
   "execution_count": 4,
   "metadata": {},
   "outputs": [],
   "source": [
    "np.save('filters/density_filter_epoch1',density_filter(FILTER_DEPTH,FILTER_DIMENSION,15,0.5))\n",
    "np.save('filters/density_filter_epoch4',density_filter(FILTER_DEPTH,FILTER_DIMENSION,15,0.5))\n",
    "np.save('filters/density_filter_epoch9',density_filter(FILTER_DEPTH,FILTER_DIMENSION,15,0.5))"
   ]
  }
 ],
 "metadata": {
  "kernelspec": {
   "display_name": "Python 3",
   "language": "python",
   "name": "python3"
  },
  "language_info": {
   "codemirror_mode": {
    "name": "ipython",
    "version": 3
   },
   "file_extension": ".py",
   "mimetype": "text/x-python",
   "name": "python",
   "nbconvert_exporter": "python",
   "pygments_lexer": "ipython3",
   "version": "3.9.5"
  }
 },
 "nbformat": 4,
 "nbformat_minor": 2
}
