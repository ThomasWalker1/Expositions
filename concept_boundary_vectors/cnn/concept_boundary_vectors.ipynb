{
 "cells": [
  {
   "cell_type": "code",
   "execution_count": 11,
   "metadata": {},
   "outputs": [],
   "source": [
    "import torch\n",
    "import os\n",
    "\n",
    "from src import *\n",
    "\n",
    "from tqdm import tqdm\n",
    "import pickle\n",
    "import numpy as np\n",
    "\n",
    "external_path=''"
   ]
  },
  {
   "cell_type": "code",
   "execution_count": 12,
   "metadata": {},
   "outputs": [],
   "source": [
    "def get_cbv_vectors(positive_digit,negative_digit,num_steps=10000,lr=1e-3):\n",
    "    if not(os.path.exists(f'{external_path}\\\\concept_boundary_vectors\\\\log.txt')):\n",
    "        log_file=open(f'{external_path}\\\\concept_boundary_vectors\\\\log.txt','w')\n",
    "    else:\n",
    "        log_file=open(f'{external_path}\\\\concept_boundary_vectors\\\\log.txt','a')\n",
    "\n",
    "    normals=np.load(f'{external_path}\\\\boundary_info\\\\normals\\\\{positive_digit}_{negative_digit}.npy')\n",
    "    normals=torch.tensor(normals).float()\n",
    "\n",
    "    optimized_vector=torch.rand((normals.shape[1]))\n",
    "    optimized_vector=(optimized_vector/torch.norm(optimized_vector)).requires_grad_()\n",
    "\n",
    "    norm_opt=torch.optim.SGD([optimized_vector],lr=lr)\n",
    "\n",
    "    steps=0\n",
    "    while steps<num_steps:\n",
    "        epoch_loss=0\n",
    "        for k in range(normals.shape[0]):\n",
    "            norm_opt.zero_grad()\n",
    "            dot=torch.dot(optimized_vector,normals[k,:])/torch.norm(optimized_vector)\n",
    "            loss=torch.abs(1-dot)\n",
    "            loss.backward()\n",
    "            norm_opt.step()\n",
    "            epoch_loss+=loss\n",
    "            steps+=1\n",
    "    np.save(f'{external_path}\\\\concept_boundary_vectors\\\\{positive_digit}_{negative_digit}.npy',optimized_vector.detach().numpy())\n",
    "    log_file.write(f'{positive_digit}_{negative_digit}:loss={epoch_loss/normals.shape[0]}')\n",
    "    log_file.close()"
   ]
  },
  {
   "cell_type": "code",
   "execution_count": 16,
   "metadata": {},
   "outputs": [
    {
     "name": "stderr",
     "output_type": "stream",
     "text": [
      "8/9: 100%|██████████| 10/10 [06:14<00:00, 37.47s/it]\n"
     ]
    }
   ],
   "source": [
    "pbar=tqdm(range(10))\n",
    "for positive_digit in pbar:\n",
    "    for negative_digit in range(10):\n",
    "        if positive_digit==negative_digit:\n",
    "            continue\n",
    "        pbar.set_description(f'{negative_digit}/9')\n",
    "        get_cbv_vectors(positive_digit,negative_digit)"
   ]
  }
 ],
 "metadata": {
  "kernelspec": {
   "display_name": "transformers",
   "language": "python",
   "name": "python3"
  },
  "language_info": {
   "codemirror_mode": {
    "name": "ipython",
    "version": 3
   },
   "file_extension": ".py",
   "mimetype": "text/x-python",
   "name": "python",
   "nbconvert_exporter": "python",
   "pygments_lexer": "ipython3",
   "version": "3.12.3"
  }
 },
 "nbformat": 4,
 "nbformat_minor": 2
}
