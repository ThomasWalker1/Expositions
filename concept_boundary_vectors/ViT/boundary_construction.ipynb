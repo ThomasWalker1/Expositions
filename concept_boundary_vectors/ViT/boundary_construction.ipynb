{
 "cells": [
  {
   "cell_type": "code",
   "execution_count": 1,
   "metadata": {},
   "outputs": [],
   "source": [
    "import torch\n",
    "import numpy as np\n",
    "from tqdm import tqdm\n",
    "import os\n",
    "import pickle\n",
    "\n",
    "external_path=''"
   ]
  },
  {
   "cell_type": "code",
   "execution_count": 2,
   "metadata": {},
   "outputs": [],
   "source": [
    "concepts=['airplane','automobile','bird','cat','deer','dog','frog','horse','ship','truck']"
   ]
  },
  {
   "cell_type": "code",
   "execution_count": 3,
   "metadata": {},
   "outputs": [],
   "source": [
    "def boundary_pairs(positive_concept,negative_concept,layer):\n",
    "    for k in range(1,11):\n",
    "        if k==1:\n",
    "            positive_concept_activations=torch.load(f'{external_path}\\\\concept_token_activations\\\\{positive_concept}\\\\layer{layer}_{k}.pt').squeeze(1)\n",
    "        else:\n",
    "            activations=torch.load(f'{external_path}\\\\concept_token_activations\\\\{positive_concept}\\\\layer{layer}_{k}.pt').squeeze(1)\n",
    "            positive_concept_activations=torch.cat([positive_concept_activations,activations])\n",
    "    \n",
    "    for k in range(1,11):\n",
    "        if k==1:\n",
    "            negative_concept_activations=torch.load(f'{external_path}\\\\concept_token_activations\\\\{negative_concept}\\\\layer{layer}_{k}.pt').squeeze(1)\n",
    "        else:\n",
    "            activations=torch.load(f'{external_path}\\\\concept_token_activations\\\\{negative_concept}\\\\layer{layer}_{k}.pt').squeeze(1)\n",
    "            negative_concept_activations=torch.cat([negative_concept_activations,activations])\n",
    "\n",
    "    pairs_from_positive=[]\n",
    "    negative_idxs=[]\n",
    "\n",
    "    for k in range(positive_concept_activations.shape[0]):\n",
    "        positive_latent=positive_concept_activations[k,:]\n",
    "        distances=np.zeros(negative_concept_activations.shape[0])\n",
    "        for l in range(negative_concept_activations.shape[0]):\n",
    "            distances[l]=torch.norm(positive_latent-negative_concept_activations[l,:])\n",
    "        pairs_from_positive.append([k,distances.argmin()])\n",
    "        negative_idxs.append(distances.argmin())\n",
    "\n",
    "    negative_idxs=list(set(negative_idxs))\n",
    "\n",
    "    positive_idxs=[]\n",
    "    pairs_from_negative=[]\n",
    "\n",
    "    for k in range(negative_concept_activations.shape[0]):\n",
    "        negative_latent=negative_concept_activations[k,:]\n",
    "        distances=np.zeros(positive_concept_activations.shape[0])\n",
    "        for l in range(positive_concept_activations.shape[0]):\n",
    "            distances[l]=torch.norm(negative_latent-positive_concept_activations[l,:])\n",
    "        pairs_from_negative.append([distances.argmin(),k])\n",
    "        positive_idxs.append(distances.argmin())\n",
    "\n",
    "    positive_idxs=list(set(positive_idxs))\n",
    "\n",
    "    pairs=[]\n",
    "\n",
    "    for pair in pairs_from_positive:\n",
    "        if pair[0] in positive_idxs:\n",
    "            pairs.append(pair)\n",
    "        \n",
    "    for pair in pairs_from_negative:\n",
    "        if pair[1] in negative_idxs:\n",
    "            if not(pair in pairs):\n",
    "                pairs.append(pair)\n",
    "\n",
    "    return pairs"
   ]
  },
  {
   "cell_type": "code",
   "execution_count": 7,
   "metadata": {},
   "outputs": [
    {
     "name": "stderr",
     "output_type": "stream",
     "text": [
      "Layer 11: truck_ship: 100%|██████████| 1/1 [46:22<00:00, 2782.29s/it]\n"
     ]
    }
   ],
   "source": [
    "pbar=tqdm(range(11,12))\n",
    "for layer in pbar:\n",
    "    if not(os.path.exists(f'{external_path}\\\\boundary_info\\\\{layer}\\\\pairs')):\n",
    "        os.makedirs(f'{external_path}\\\\boundary_info\\\\{layer}\\\\pairs')\n",
    "    for positive_concept in concepts:\n",
    "        for negative_concept in concepts:\n",
    "            if positive_concept==negative_concept:\n",
    "                continue\n",
    "            pbar.set_description(f'Layer {layer}: {positive_concept}_{negative_concept}')\n",
    "            if os.path.exists(f'{external_path}\\\\boundary_info\\\\{layer}\\\\pairs\\\\{negative_concept}_{positive_concept}.npy'):\n",
    "                pairs_reversed=np.load(f'{external_path}\\\\boundary_info\\\\{layer}\\\\pairs\\\\{negative_concept}_{positive_concept}.npy')\n",
    "                pairs=[[pair[1],pair[0]] for pair in pairs_reversed]\n",
    "            else:\n",
    "                pairs=boundary_pairs(positive_concept,negative_concept,layer)\n",
    "            np.save(f'{external_path}\\\\boundary_info\\\\{layer}\\\\pairs\\\\{positive_concept}_{negative_concept}.npy',np.array(pairs))"
   ]
  },
  {
   "cell_type": "code",
   "execution_count": 8,
   "metadata": {},
   "outputs": [],
   "source": [
    "def boundary_distances(positive_concept,negative_concept,layer):\n",
    "    pairs=np.load(f'{external_path}\\\\boundary_info\\\\{layer}\\\\pairs\\\\{positive_concept}_{negative_concept}.npy')\n",
    "\n",
    "    for k in range(1,11):\n",
    "        if k==1:\n",
    "            positive_concept_activations=torch.load(f'{external_path}\\\\concept_token_activations\\\\{positive_concept}\\\\layer{layer}_{k}.pt').squeeze(1)\n",
    "        else:\n",
    "            activations=torch.load(f'{external_path}\\\\concept_token_activations\\\\{positive_concept}\\\\layer{layer}_{k}.pt').squeeze(1)\n",
    "            positive_concept_activations=torch.cat([positive_concept_activations,activations])\n",
    "    \n",
    "    for k in range(1,11):\n",
    "        if k==1:\n",
    "            negative_concept_activations=torch.load(f'{external_path}\\\\concept_token_activations\\\\{negative_concept}\\\\layer{layer}_{k}.pt').squeeze(1)\n",
    "        else:\n",
    "            activations=torch.load(f'{external_path}\\\\concept_token_activations\\\\{negative_concept}\\\\layer{layer}_{k}.pt').squeeze(1)\n",
    "            negative_concept_activations=torch.cat([negative_concept_activations,activations])\n",
    "\n",
    "    distances=np.zeros(len(pairs))\n",
    "    for k,pair in enumerate(pairs):\n",
    "        positive_digit_latent=positive_concept_activations[pair[0],:]\n",
    "        negative_digit_latent=negative_concept_activations[pair[1],:]\n",
    "        distances[k]=torch.norm(positive_digit_latent-negative_digit_latent).item()\n",
    "        if not(os.path.exists(f'{external_path}\\\\boundary_info\\\\{layer}\\\\distances')):\n",
    "            os.makedirs(f'{external_path}\\\\boundary_info\\\\{layer}\\\\distances')\n",
    "    np.save(f'{external_path}\\\\boundary_info\\\\{layer}\\\\distances\\\\{positive_concept}_{negative_concept}.npy',distances)"
   ]
  },
  {
   "cell_type": "code",
   "execution_count": 9,
   "metadata": {},
   "outputs": [
    {
     "name": "stderr",
     "output_type": "stream",
     "text": [
      "Layer 11: truck_ship: 100%|██████████| 1/1 [00:02<00:00,  2.73s/it] \n"
     ]
    }
   ],
   "source": [
    "pbar=tqdm(range(11,12))\n",
    "for layer in pbar:\n",
    "    if not(os.path.exists(f'{external_path}\\\\boundary_info\\\\{layer}\\\\distances')):\n",
    "        os.makedirs(f'{external_path}\\\\boundary_info\\\\{layer}\\\\distances')\n",
    "    for positive_concept in concepts:\n",
    "        for negative_concept in concepts:\n",
    "            if positive_concept==negative_concept:\n",
    "                continue\n",
    "            pbar.set_description(f'Layer {layer}: {positive_concept}_{negative_concept}')\n",
    "            boundary_distances(positive_concept,negative_concept,layer)"
   ]
  },
  {
   "cell_type": "code",
   "execution_count": 10,
   "metadata": {},
   "outputs": [],
   "source": [
    "def boundary_normals(positive_concept,negative_concept,layer):\n",
    "    pairs=np.load(f'{external_path}\\\\boundary_info\\\\{layer}\\\\pairs\\\\{positive_concept}_{negative_concept}.npy')\n",
    "\n",
    "    for k in range(1,11):\n",
    "        if k==1:\n",
    "            positive_concept_activations=torch.load(f'{external_path}\\\\concept_token_activations\\\\{positive_concept}\\\\layer{layer}_{k}.pt').squeeze(1)\n",
    "        else:\n",
    "            activations=torch.load(f'{external_path}\\\\concept_token_activations\\\\{positive_concept}\\\\layer{layer}_{k}.pt').squeeze(1)\n",
    "            positive_concept_activations=torch.cat([positive_concept_activations,activations])\n",
    "    \n",
    "    for k in range(1,11):\n",
    "        if k==1:\n",
    "            negative_concept_activations=torch.load(f'{external_path}\\\\concept_token_activations\\\\{negative_concept}\\\\layer{layer}_{k}.pt').squeeze(1)\n",
    "        else:\n",
    "            activations=torch.load(f'{external_path}\\\\concept_token_activations\\\\{negative_concept}\\\\layer{layer}_{k}.pt').squeeze(1)\n",
    "            negative_concept_activations=torch.cat([negative_concept_activations,activations])\n",
    "\n",
    "    for k,pair in enumerate(pairs):\n",
    "        positive_digit_latent=positive_concept_activations[pair[0],:]\n",
    "        negative_digit_latent=negative_concept_activations[pair[1],:]\n",
    "        if k==0:\n",
    "            normal_vector=positive_digit_latent-negative_digit_latent\n",
    "            normal_vector/=torch.norm(normal_vector).item()\n",
    "            normals=normal_vector.unsqueeze(0).detach().numpy()\n",
    "        else:\n",
    "            normal_vector=positive_digit_latent-negative_digit_latent\n",
    "            normal_vector/=torch.norm(normal_vector).item()\n",
    "            normals=np.concatenate([normals,normal_vector.unsqueeze(0).detach().numpy()])\n",
    "    np.save(f'{external_path}\\\\boundary_info\\\\{layer}\\\\normals\\\\{positive_concept}_{negative_concept}.npy',normals)"
   ]
  },
  {
   "cell_type": "code",
   "execution_count": 11,
   "metadata": {},
   "outputs": [
    {
     "name": "stderr",
     "output_type": "stream",
     "text": [
      "Layer 11: truck_ship: 100%|██████████| 1/1 [00:02<00:00,  2.87s/it] \n"
     ]
    }
   ],
   "source": [
    "pbar=tqdm(range(11,12))\n",
    "for layer in pbar:\n",
    "    if not(os.path.exists(f'{external_path}\\\\boundary_info\\\\{layer}\\\\normals')):\n",
    "        os.makedirs(f'{external_path}\\\\boundary_info\\\\{layer}\\\\normals')\n",
    "    for positive_concept in concepts:\n",
    "        for negative_concept in concepts:\n",
    "            if positive_concept==negative_concept:\n",
    "                continue\n",
    "            pbar.set_description(f'Layer {layer}: {positive_concept}_{negative_concept}')\n",
    "            boundary_normals(positive_concept,negative_concept,layer)"
   ]
  },
  {
   "cell_type": "code",
   "execution_count": 21,
   "metadata": {},
   "outputs": [],
   "source": [
    "def boundary_dots_cav(positive_concept,negative_concept,layer):\n",
    "    normals=np.load(f'{external_path}\\\\boundary_info\\\\{layer}\\\\normals\\\\{positive_concept}_{negative_concept}.npy')\n",
    "    cav=torch.load(f'{external_path}\\\\concept_activation_vectors\\\\{layer}\\\\{positive_concept}_{negative_concept}.pt')\n",
    "    dots=np.zeros(len(normals))\n",
    "    for k,normal in enumerate(normals):\n",
    "        dots[k]=torch.dot(torch.tensor(normal),cav)\n",
    "    np.save(f'{external_path}\\\\boundary_info\\\\{layer}\\\\dots_cav\\\\{positive_concept}_{negative_concept}.npy',dots)\n",
    "\n",
    "def boundary_dots_cbv(positive_concept,negative_concept,layer):\n",
    "    normals=np.load(f'{external_path}\\\\boundary_info\\\\{layer}\\\\normals\\\\{positive_concept}_{negative_concept}.npy')\n",
    "    cbv=torch.load(f'{external_path}\\\\concept_boundary_vectors\\\\{layer}\\\\{positive_concept}_{negative_concept}.pt')\n",
    "    dots=np.zeros(len(normals))\n",
    "    for k,normal in enumerate(normals):\n",
    "        dots[k]=torch.dot(torch.tensor(normal),cbv)\n",
    "    np.save(f'{external_path}\\\\boundary_info\\\\{layer}\\\\dots_cbv\\\\{positive_concept}_{negative_concept}.npy',dots)"
   ]
  },
  {
   "cell_type": "code",
   "execution_count": 22,
   "metadata": {},
   "outputs": [
    {
     "name": "stderr",
     "output_type": "stream",
     "text": [
      "Layer 11: truck_ship: 100%|██████████| 1/1 [00:01<00:00,  1.18s/it] \n"
     ]
    }
   ],
   "source": [
    "pbar=tqdm(range(11,12))\n",
    "for layer in pbar:\n",
    "    if not(os.path.exists(f'{external_path}\\\\boundary_info\\\\{layer}\\\\dots_cav')):\n",
    "        os.makedirs(f'{external_path}\\\\boundary_info\\\\{layer}\\\\dots_cav')\n",
    "    if not(os.path.exists(f'{external_path}\\\\boundary_info\\\\{layer}\\\\dots_cbv')):\n",
    "        os.makedirs(f'{external_path}\\\\boundary_info\\\\{layer}\\\\dots_cbv')\n",
    "    for positive_concept in concepts:\n",
    "        for negative_concept in concepts:\n",
    "            if positive_concept==negative_concept:\n",
    "                continue\n",
    "            pbar.set_description(f'Layer {layer}: {positive_concept}_{negative_concept}')\n",
    "            #boundary_dots_cav(positive_concept,negative_concept,layer)\n",
    "            boundary_dots_cbv(positive_concept,negative_concept,layer)"
   ]
  }
 ],
 "metadata": {
  "kernelspec": {
   "display_name": "transformers",
   "language": "python",
   "name": "python3"
  },
  "language_info": {
   "codemirror_mode": {
    "name": "ipython",
    "version": 3
   },
   "file_extension": ".py",
   "mimetype": "text/x-python",
   "name": "python",
   "nbconvert_exporter": "python",
   "pygments_lexer": "ipython3",
   "version": "3.12.3"
  }
 },
 "nbformat": 4,
 "nbformat_minor": 2
}
