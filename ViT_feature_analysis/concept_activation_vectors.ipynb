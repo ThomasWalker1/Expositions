{
 "cells": [
  {
   "cell_type": "code",
   "execution_count": 3,
   "metadata": {},
   "outputs": [],
   "source": [
    "from transformers import ViTImageProcessor, ViTForImageClassification\n",
    "from tqdm import tqdm\n",
    "import numpy as np\n",
    "import matplotlib.pyplot as plt\n",
    "import torch\n",
    "import os\n",
    "import pickle\n",
    "\n",
    "import plotly.express as px\n",
    "import pandas as pd\n",
    "\n",
    "external_path=''"
   ]
  },
  {
   "cell_type": "code",
   "execution_count": 4,
   "metadata": {},
   "outputs": [],
   "source": [
    "class LinearClassifier(torch.nn.Module):\n",
    "    def __init__(self, in_dimension: int, bias=True):\n",
    "        super().__init__()\n",
    "        self.in_dimension=in_dimension\n",
    "        self.linear=torch.nn.Linear(in_dimension,1)\n",
    "        self.sigmoid=torch.nn.Sigmoid()\n",
    "\n",
    "    def forward(self, x: torch.Tensor) -> torch.Tensor:\n",
    "        return self.sigmoid(self.linear(x))"
   ]
  },
  {
   "cell_type": "code",
   "execution_count": 13,
   "metadata": {},
   "outputs": [],
   "source": [
    "def get_dataset(category,opposing_category,layer):\n",
    "    for k in range(1,11):\n",
    "        if k==1:\n",
    "            category_activations=torch.load(f'{external_path}\\\\class_token_activations\\\\{category}\\\\layer{layer}_{k}.pt')\n",
    "        else:\n",
    "            activations=torch.load(f'{external_path}\\\\class_token_activations\\\\{category}\\\\layer{layer}_{k}.pt')\n",
    "            category_activations=torch.cat([category_activations,activations])\n",
    "    for n,opp_category in enumerate(opposing_category):\n",
    "        for k in range(1,11):\n",
    "            if n==0 and k==1:\n",
    "                opp_category_activations=torch.load(f'{external_path}\\\\class_token_activations\\\\{opp_category}\\\\layer{layer}_{k}.pt')\n",
    "            else:\n",
    "                activations=torch.load(f'{external_path}\\\\class_token_activations\\\\{opp_category}\\\\layer{layer}_{k}.pt')\n",
    "                opp_category_activations=torch.cat([opp_category_activations,activations])\n",
    "    activation_dim=category_activations.shape[-1]\n",
    "    dataset_size=category_activations.shape[0]+opp_category_activations.shape[0]\n",
    "\n",
    "    dataset=torch.zeros((dataset_size,activation_dim+1))\n",
    "    for k,ten in enumerate(category_activations):\n",
    "        dataset[k,:activation_dim]=ten\n",
    "        dataset[k,-1]=1\n",
    "    for l, ten in enumerate(opp_category_activations):\n",
    "        dataset[k+l,:activation_dim]=ten\n",
    "        dataset[k+l,-1]=0\n",
    "    dataset=dataset[torch.randperm(dataset_size)]\n",
    "    return dataset,category_activations.shape[0],opp_category_activations.shape[0]"
   ]
  },
  {
   "cell_type": "code",
   "execution_count": 6,
   "metadata": {},
   "outputs": [],
   "source": [
    "def train(dataset,batch_size=64,lr=1e-3,epochs=100,verbose=False,shuffle=True):\n",
    "    activation_dim=dataset.shape[-1]-1\n",
    "    dataset_size=dataset.shape[0]\n",
    "    model=LinearClassifier(activation_dim)\n",
    "    optimizer=torch.optim.Adam(model.parameters(), lr=lr)\n",
    "    criterion=torch.nn.BCELoss()\n",
    "\n",
    "    if verbose:\n",
    "        progress_bar=tqdm(range(epochs))\n",
    "    else:\n",
    "        progress_bar=range(epochs)\n",
    "\n",
    "    for epoch in progress_bar:\n",
    "        epoch_loss=0\n",
    "        if shuffle:\n",
    "            dataset=dataset[torch.randperm(dataset_size)].detach()\n",
    "        epoch_cycles=dataset_size//batch_size\n",
    "        for k in range(epoch_cycles+1):\n",
    "            optimizer.zero_grad()\n",
    "            if k==epoch_cycles:\n",
    "                inputs=dataset[k*batch_size:,:activation_dim]\n",
    "                labels=dataset[k*batch_size:,-1]\n",
    "            else:\n",
    "                inputs=dataset[k*batch_size:(k+1)*batch_size,:activation_dim]\n",
    "                labels=dataset[k*batch_size:(k+1)*batch_size,-1]\n",
    "            outputs=model(inputs).reshape((len(labels),))\n",
    "            loss=criterion(outputs,labels)\n",
    "            loss.backward()\n",
    "            optimizer.step()\n",
    "            epoch_loss+=loss\n",
    "        if verbose:\n",
    "            progress_bar.set_description(f\"Loss={epoch_loss/dataset_size:.4f}\")\n",
    "        if loss<1e-5 and epoch>=49:\n",
    "            break\n",
    "    return model, epoch_loss/dataset_size, epoch"
   ]
  },
  {
   "cell_type": "code",
   "execution_count": 7,
   "metadata": {},
   "outputs": [],
   "source": [
    "def concept_vector(model):\n",
    "    cav=model.linear.weight[0].detach()\n",
    "    return cav/torch.norm(cav,p=2)"
   ]
  },
  {
   "cell_type": "code",
   "execution_count": 12,
   "metadata": {},
   "outputs": [
    {
     "name": "stderr",
     "output_type": "stream",
     "text": [
      "...processing airplane (1/10) layer 0...:   0%|          | 0/10 [00:00<?, ?it/s]"
     ]
    },
    {
     "name": "stdout",
     "output_type": "stream",
     "text": [
      "torch.Size([1, 768])\n",
      "torch.Size([1, 768])\n",
      "torch.Size([1, 768])\n",
      "torch.Size([1, 768])\n",
      "torch.Size([1, 768])\n",
      "torch.Size([1, 768])\n",
      "torch.Size([1, 768])\n",
      "torch.Size([1, 768])\n",
      "torch.Size([1, 768])\n",
      "torch.Size([1, 768])\n",
      "torch.Size([1, 768])\n",
      "torch.Size([1, 768])\n",
      "torch.Size([1, 768])\n",
      "torch.Size([1, 768])\n",
      "torch.Size([1, 768])\n",
      "torch.Size([1, 768])\n",
      "torch.Size([1, 768])\n",
      "torch.Size([1, 768])\n",
      "torch.Size([1, 768])\n",
      "torch.Size([1, 768])\n",
      "torch.Size([1, 768])\n",
      "torch.Size([1, 768])\n",
      "torch.Size([1, 768])\n",
      "torch.Size([1, 768])\n",
      "torch.Size([1, 768])\n",
      "torch.Size([1, 768])\n",
      "torch.Size([1, 768])\n",
      "torch.Size([1, 768])\n",
      "torch.Size([1, 768])\n",
      "torch.Size([1, 768])\n",
      "torch.Size([1, 768])\n",
      "torch.Size([1, 768])\n",
      "torch.Size([1, 768])\n",
      "torch.Size([1, 768])\n",
      "torch.Size([1, 768])\n",
      "torch.Size([1, 768])\n",
      "torch.Size([1, 768])\n",
      "torch.Size([1, 768])\n",
      "torch.Size([1, 768])\n",
      "torch.Size([1, 768])\n",
      "torch.Size([1, 768])\n",
      "torch.Size([1, 768])\n",
      "torch.Size([1, 768])\n",
      "torch.Size([1, 768])\n",
      "torch.Size([1, 768])\n",
      "torch.Size([1, 768])\n",
      "torch.Size([1, 768])\n",
      "torch.Size([1, 768])\n",
      "torch.Size([1, 768])\n",
      "torch.Size([1, 768])\n",
      "torch.Size([1, 768])\n",
      "torch.Size([1, 768])\n",
      "torch.Size([1, 768])\n",
      "torch.Size([1, 768])\n",
      "torch.Size([1, 768])\n",
      "torch.Size([1, 768])\n",
      "torch.Size([1, 768])\n",
      "torch.Size([1, 768])\n",
      "torch.Size([1, 768])\n",
      "torch.Size([1, 768])\n",
      "torch.Size([1, 768])\n",
      "torch.Size([1, 768])\n",
      "torch.Size([1, 768])\n",
      "torch.Size([1, 768])\n",
      "torch.Size([1, 768])\n",
      "torch.Size([1, 768])\n",
      "torch.Size([1, 768])\n",
      "torch.Size([1, 768])\n",
      "torch.Size([1, 768])\n",
      "torch.Size([1, 768])\n",
      "torch.Size([1, 768])\n",
      "torch.Size([1, 768])\n",
      "torch.Size([1, 768])\n",
      "torch.Size([1, 768])\n",
      "torch.Size([1, 768])\n",
      "torch.Size([1, 768])\n",
      "torch.Size([1, 768])\n",
      "torch.Size([1, 768])\n",
      "torch.Size([1, 768])\n",
      "torch.Size([1, 768])\n",
      "torch.Size([1, 768])\n",
      "torch.Size([1, 768])\n",
      "torch.Size([1, 768])\n",
      "torch.Size([1, 768])\n",
      "torch.Size([1, 768])\n",
      "torch.Size([1, 768])\n",
      "torch.Size([1, 768])\n",
      "torch.Size([1, 768])\n",
      "torch.Size([1, 768])\n",
      "torch.Size([1, 768])\n",
      "torch.Size([1, 768])\n",
      "torch.Size([1, 768])\n",
      "torch.Size([1, 768])\n",
      "torch.Size([1, 768])\n",
      "torch.Size([1, 768])\n",
      "torch.Size([1, 768])\n",
      "torch.Size([1, 768])\n",
      "torch.Size([1, 768])\n",
      "torch.Size([1, 768])\n",
      "torch.Size([1, 768])\n",
      "torch.Size([1, 768])\n",
      "torch.Size([1, 768])\n",
      "torch.Size([1, 768])\n",
      "torch.Size([1, 768])\n",
      "torch.Size([1, 768])\n",
      "torch.Size([1, 768])\n",
      "torch.Size([1, 768])\n",
      "torch.Size([1, 768])\n",
      "torch.Size([1, 768])\n",
      "torch.Size([1, 768])\n",
      "torch.Size([1, 768])\n",
      "torch.Size([1, 768])\n",
      "torch.Size([1, 768])\n",
      "torch.Size([1, 768])\n",
      "torch.Size([1, 768])\n",
      "torch.Size([1, 768])\n",
      "torch.Size([1, 768])\n",
      "torch.Size([1, 768])\n",
      "torch.Size([1, 768])\n",
      "torch.Size([1, 768])\n",
      "torch.Size([1, 768])\n",
      "torch.Size([1, 768])\n",
      "torch.Size([1, 768])\n",
      "torch.Size([1, 768])\n",
      "torch.Size([1, 768])\n",
      "torch.Size([1, 768])\n",
      "torch.Size([1, 768])\n",
      "torch.Size([1, 768])\n",
      "torch.Size([1, 768])\n",
      "torch.Size([1, 768])\n",
      "torch.Size([1, 768])\n",
      "torch.Size([1, 768])\n",
      "torch.Size([1, 768])\n",
      "torch.Size([1, 768])\n",
      "torch.Size([1, 768])\n",
      "torch.Size([1, 768])\n",
      "torch.Size([1, 768])\n",
      "torch.Size([1, 768])\n",
      "torch.Size([1, 768])\n",
      "torch.Size([1, 768])\n",
      "torch.Size([1, 768])\n",
      "torch.Size([1, 768])\n",
      "torch.Size([1, 768])\n",
      "torch.Size([1, 768])\n",
      "torch.Size([1, 768])\n",
      "torch.Size([1, 768])\n",
      "torch.Size([1, 768])\n",
      "torch.Size([1, 768])\n",
      "torch.Size([1, 768])\n",
      "torch.Size([1, 768])\n",
      "torch.Size([1, 768])\n",
      "torch.Size([1, 768])\n",
      "torch.Size([1, 768])\n",
      "torch.Size([1, 768])\n",
      "torch.Size([1, 768])\n",
      "torch.Size([1, 768])\n",
      "torch.Size([1, 768])\n",
      "torch.Size([1, 768])\n",
      "torch.Size([1, 768])\n",
      "torch.Size([1, 768])\n",
      "torch.Size([1, 768])\n",
      "torch.Size([1, 768])\n",
      "torch.Size([1, 768])\n",
      "torch.Size([1, 768])\n",
      "torch.Size([1, 768])\n",
      "torch.Size([1, 768])\n",
      "torch.Size([1, 768])\n",
      "torch.Size([1, 768])\n",
      "torch.Size([1, 768])\n",
      "torch.Size([1, 768])\n",
      "torch.Size([1, 768])\n",
      "torch.Size([1, 768])\n",
      "torch.Size([1, 768])\n",
      "torch.Size([1, 768])\n",
      "torch.Size([1, 768])\n",
      "torch.Size([1, 768])\n",
      "torch.Size([1, 768])\n",
      "torch.Size([1, 768])\n",
      "torch.Size([1, 768])\n",
      "torch.Size([1, 768])\n",
      "torch.Size([1, 768])\n",
      "torch.Size([1, 768])\n",
      "torch.Size([1, 768])\n",
      "torch.Size([1, 768])\n",
      "torch.Size([1, 768])\n",
      "torch.Size([1, 768])\n",
      "torch.Size([1, 768])\n",
      "torch.Size([1, 768])\n",
      "torch.Size([1, 768])\n",
      "torch.Size([1, 768])\n",
      "torch.Size([1, 768])\n",
      "torch.Size([1, 768])\n",
      "torch.Size([1, 768])\n",
      "torch.Size([1, 768])\n",
      "torch.Size([1, 768])\n",
      "torch.Size([1, 768])\n",
      "torch.Size([1, 768])\n",
      "torch.Size([1, 768])\n",
      "torch.Size([1, 768])\n",
      "torch.Size([1, 768])\n",
      "torch.Size([1, 768])\n",
      "torch.Size([1, 768])\n",
      "torch.Size([1, 768])\n",
      "torch.Size([1, 768])\n",
      "torch.Size([1, 768])\n",
      "torch.Size([1, 768])\n",
      "torch.Size([1, 768])\n",
      "torch.Size([1, 768])\n",
      "torch.Size([1, 768])\n",
      "torch.Size([1, 768])\n",
      "torch.Size([1, 768])\n",
      "torch.Size([1, 768])\n",
      "torch.Size([1, 768])\n",
      "torch.Size([1, 768])\n",
      "torch.Size([1, 768])\n",
      "torch.Size([1, 768])\n",
      "torch.Size([1, 768])\n",
      "torch.Size([1, 768])\n",
      "torch.Size([1, 768])\n",
      "torch.Size([1, 768])\n",
      "torch.Size([1, 768])\n",
      "torch.Size([1, 768])\n",
      "torch.Size([1, 768])\n",
      "torch.Size([1, 768])\n",
      "torch.Size([1, 768])\n",
      "torch.Size([1, 768])\n",
      "torch.Size([1, 768])\n",
      "torch.Size([1, 768])\n",
      "torch.Size([1, 768])\n",
      "torch.Size([1, 768])\n",
      "torch.Size([1, 768])\n",
      "torch.Size([1, 768])\n",
      "torch.Size([1, 768])\n",
      "torch.Size([1, 768])\n",
      "torch.Size([1, 768])\n",
      "torch.Size([1, 768])\n",
      "torch.Size([1, 768])\n",
      "torch.Size([1, 768])\n",
      "torch.Size([1, 768])\n",
      "torch.Size([1, 768])\n",
      "torch.Size([1, 768])\n",
      "torch.Size([1, 768])\n",
      "torch.Size([1, 768])\n",
      "torch.Size([1, 768])\n",
      "torch.Size([1, 768])\n",
      "torch.Size([1, 768])\n",
      "torch.Size([1, 768])\n",
      "torch.Size([1, 768])\n",
      "torch.Size([1, 768])\n",
      "torch.Size([1, 768])\n",
      "torch.Size([1, 768])\n",
      "torch.Size([1, 768])\n",
      "torch.Size([1, 768])\n",
      "torch.Size([1, 768])\n",
      "torch.Size([1, 768])\n",
      "torch.Size([1, 768])\n",
      "torch.Size([1, 768])\n",
      "torch.Size([1, 768])\n",
      "torch.Size([1, 768])\n",
      "torch.Size([1, 768])\n",
      "torch.Size([1, 768])\n",
      "torch.Size([1, 768])\n",
      "torch.Size([1, 768])\n",
      "torch.Size([1, 768])\n",
      "torch.Size([1, 768])\n",
      "torch.Size([1, 768])\n",
      "torch.Size([1, 768])\n",
      "torch.Size([1, 768])\n",
      "torch.Size([1, 768])\n",
      "torch.Size([1, 768])\n",
      "torch.Size([1, 768])\n",
      "torch.Size([1, 768])\n",
      "torch.Size([1, 768])\n",
      "torch.Size([1, 768])\n",
      "torch.Size([1, 768])\n",
      "torch.Size([1, 768])\n",
      "torch.Size([1, 768])\n",
      "torch.Size([1, 768])\n",
      "torch.Size([1, 768])\n",
      "torch.Size([1, 768])\n",
      "torch.Size([1, 768])\n",
      "torch.Size([1, 768])\n",
      "torch.Size([1, 768])\n",
      "torch.Size([1, 768])\n",
      "torch.Size([1, 768])\n",
      "torch.Size([1, 768])\n",
      "torch.Size([1, 768])\n",
      "torch.Size([1, 768])\n",
      "torch.Size([1, 768])\n",
      "torch.Size([1, 768])\n",
      "torch.Size([1, 768])\n",
      "torch.Size([1, 768])\n",
      "torch.Size([1, 768])\n",
      "torch.Size([1, 768])\n",
      "torch.Size([1, 768])\n",
      "torch.Size([1, 768])\n",
      "torch.Size([1, 768])\n",
      "torch.Size([1, 768])\n",
      "torch.Size([1, 768])\n",
      "torch.Size([1, 768])\n",
      "torch.Size([1, 768])\n",
      "torch.Size([1, 768])\n",
      "torch.Size([1, 768])\n",
      "torch.Size([1, 768])\n",
      "torch.Size([1, 768])\n",
      "torch.Size([1, 768])\n",
      "torch.Size([1, 768])\n",
      "torch.Size([1, 768])\n",
      "torch.Size([1, 768])\n",
      "torch.Size([1, 768])\n",
      "torch.Size([1, 768])\n",
      "torch.Size([1, 768])\n",
      "torch.Size([1, 768])\n",
      "torch.Size([1, 768])\n",
      "torch.Size([1, 768])\n",
      "torch.Size([1, 768])\n",
      "torch.Size([1, 768])\n",
      "torch.Size([1, 768])\n",
      "torch.Size([1, 768])\n",
      "torch.Size([1, 768])\n",
      "torch.Size([1, 768])\n",
      "torch.Size([1, 768])\n",
      "torch.Size([1, 768])\n",
      "torch.Size([1, 768])\n",
      "torch.Size([1, 768])\n",
      "torch.Size([1, 768])\n",
      "torch.Size([1, 768])\n",
      "torch.Size([1, 768])\n",
      "torch.Size([1, 768])\n",
      "torch.Size([1, 768])\n",
      "torch.Size([1, 768])\n",
      "torch.Size([1, 768])\n",
      "torch.Size([1, 768])\n",
      "torch.Size([1, 768])\n",
      "torch.Size([1, 768])\n",
      "torch.Size([1, 768])\n",
      "torch.Size([1, 768])\n",
      "torch.Size([1, 768])\n",
      "torch.Size([1, 768])\n",
      "torch.Size([1, 768])\n",
      "torch.Size([1, 768])\n",
      "torch.Size([1, 768])\n",
      "torch.Size([1, 768])\n",
      "torch.Size([1, 768])\n",
      "torch.Size([1, 768])\n",
      "torch.Size([1, 768])\n",
      "torch.Size([1, 768])\n",
      "torch.Size([1, 768])\n",
      "torch.Size([1, 768])\n",
      "torch.Size([1, 768])\n",
      "torch.Size([1, 768])\n",
      "torch.Size([1, 768])\n",
      "torch.Size([1, 768])\n",
      "torch.Size([1, 768])\n",
      "torch.Size([1, 768])\n",
      "torch.Size([1, 768])\n",
      "torch.Size([1, 768])\n",
      "torch.Size([1, 768])\n",
      "torch.Size([1, 768])\n",
      "torch.Size([1, 768])\n",
      "torch.Size([1, 768])\n",
      "torch.Size([1, 768])\n",
      "torch.Size([1, 768])\n",
      "torch.Size([1, 768])\n",
      "torch.Size([1, 768])\n",
      "torch.Size([1, 768])\n",
      "torch.Size([1, 768])\n",
      "torch.Size([1, 768])\n",
      "torch.Size([1, 768])\n",
      "torch.Size([1, 768])\n",
      "torch.Size([1, 768])\n",
      "torch.Size([1, 768])\n",
      "torch.Size([1, 768])\n",
      "torch.Size([1, 768])\n",
      "torch.Size([1, 768])\n",
      "torch.Size([1, 768])\n",
      "torch.Size([1, 768])\n",
      "torch.Size([1, 768])\n",
      "torch.Size([1, 768])\n",
      "torch.Size([1, 768])\n",
      "torch.Size([1, 768])\n",
      "torch.Size([1, 768])\n",
      "torch.Size([1, 768])\n",
      "torch.Size([1, 768])\n",
      "torch.Size([1, 768])\n",
      "torch.Size([1, 768])\n",
      "torch.Size([1, 768])\n",
      "torch.Size([1, 768])\n",
      "torch.Size([1, 768])\n",
      "torch.Size([1, 768])\n",
      "torch.Size([1, 768])\n",
      "torch.Size([1, 768])\n",
      "torch.Size([1, 768])\n",
      "torch.Size([1, 768])\n",
      "torch.Size([1, 768])\n",
      "torch.Size([1, 768])\n",
      "torch.Size([1, 768])\n",
      "torch.Size([1, 768])\n",
      "torch.Size([1, 768])\n",
      "torch.Size([1, 768])\n",
      "torch.Size([1, 768])\n",
      "torch.Size([1, 768])\n",
      "torch.Size([1, 768])\n",
      "torch.Size([1, 768])\n",
      "torch.Size([1, 768])\n",
      "torch.Size([1, 768])\n",
      "torch.Size([1, 768])\n",
      "torch.Size([1, 768])\n",
      "torch.Size([1, 768])\n",
      "torch.Size([1, 768])\n",
      "torch.Size([1, 768])\n",
      "torch.Size([1, 768])\n",
      "torch.Size([1, 768])\n",
      "torch.Size([1, 768])\n",
      "torch.Size([1, 768])\n",
      "torch.Size([1, 768])\n",
      "torch.Size([1, 768])\n",
      "torch.Size([1, 768])\n",
      "torch.Size([1, 768])\n",
      "torch.Size([1, 768])\n",
      "torch.Size([1, 768])\n",
      "torch.Size([1, 768])\n",
      "torch.Size([1, 768])\n",
      "torch.Size([1, 768])\n",
      "torch.Size([1, 768])\n",
      "torch.Size([1, 768])\n",
      "torch.Size([1, 768])\n",
      "torch.Size([1, 768])\n",
      "torch.Size([1, 768])\n",
      "torch.Size([1, 768])\n",
      "torch.Size([1, 768])\n",
      "torch.Size([1, 768])\n",
      "torch.Size([1, 768])\n",
      "torch.Size([1, 768])\n",
      "torch.Size([1, 768])\n",
      "torch.Size([1, 768])\n",
      "torch.Size([1, 768])\n",
      "torch.Size([1, 768])\n",
      "torch.Size([1, 768])\n",
      "torch.Size([1, 768])\n",
      "torch.Size([1, 768])\n",
      "torch.Size([1, 768])\n",
      "torch.Size([1, 768])\n",
      "torch.Size([1, 768])\n",
      "torch.Size([1, 768])\n",
      "torch.Size([1, 768])\n",
      "torch.Size([1, 768])\n",
      "torch.Size([1, 768])\n",
      "torch.Size([1, 768])\n",
      "torch.Size([1, 768])\n",
      "torch.Size([1, 768])\n",
      "torch.Size([1, 768])\n",
      "torch.Size([1, 768])\n",
      "torch.Size([1, 768])\n",
      "torch.Size([1, 768])\n",
      "torch.Size([1, 768])\n",
      "torch.Size([1, 768])\n",
      "torch.Size([1, 768])\n",
      "torch.Size([1, 768])\n",
      "torch.Size([1, 768])\n",
      "torch.Size([1, 768])\n",
      "torch.Size([1, 768])\n",
      "torch.Size([1, 768])\n",
      "torch.Size([1, 768])\n",
      "torch.Size([1, 768])\n",
      "torch.Size([1, 768])\n",
      "torch.Size([1, 768])\n",
      "torch.Size([1, 768])\n",
      "torch.Size([1, 768])\n",
      "torch.Size([1, 768])\n",
      "torch.Size([1, 768])\n",
      "torch.Size([1, 768])\n",
      "torch.Size([1, 768])\n",
      "torch.Size([1, 768])\n",
      "torch.Size([1, 768])\n",
      "torch.Size([1, 768])\n",
      "torch.Size([1, 768])\n",
      "torch.Size([1, 768])\n",
      "torch.Size([1, 768])\n",
      "torch.Size([1, 768])\n",
      "torch.Size([1, 768])\n",
      "torch.Size([1, 768])\n",
      "torch.Size([1, 768])\n",
      "torch.Size([1, 768])\n",
      "torch.Size([1, 768])\n",
      "torch.Size([1, 768])\n",
      "torch.Size([1, 768])\n",
      "torch.Size([1, 768])\n",
      "torch.Size([1, 768])\n",
      "torch.Size([1, 768])\n",
      "torch.Size([1, 768])\n",
      "torch.Size([1, 768])\n",
      "torch.Size([1, 768])\n",
      "torch.Size([1, 768])\n",
      "torch.Size([1, 768])\n",
      "torch.Size([1, 768])\n",
      "torch.Size([1, 768])\n",
      "torch.Size([1, 768])\n",
      "torch.Size([1, 768])\n",
      "torch.Size([1, 768])\n",
      "torch.Size([1, 768])\n",
      "torch.Size([1, 768])\n",
      "torch.Size([1, 768])\n",
      "torch.Size([1, 768])\n",
      "torch.Size([1, 768])\n",
      "torch.Size([1, 768])\n",
      "torch.Size([1, 768])\n",
      "torch.Size([1, 768])\n",
      "torch.Size([1, 768])\n",
      "torch.Size([1, 768])\n",
      "torch.Size([1, 768])\n",
      "torch.Size([1, 768])\n",
      "torch.Size([1, 768])\n",
      "torch.Size([1, 768])\n",
      "torch.Size([1, 768])\n",
      "torch.Size([1, 768])\n",
      "torch.Size([1, 768])\n",
      "torch.Size([1, 768])\n",
      "torch.Size([1, 768])\n",
      "torch.Size([1, 768])\n",
      "torch.Size([1, 768])\n",
      "torch.Size([1, 768])\n",
      "torch.Size([1, 768])\n",
      "torch.Size([1, 768])\n",
      "torch.Size([1, 768])\n",
      "torch.Size([1, 768])\n",
      "torch.Size([1, 768])\n",
      "torch.Size([1, 768])\n",
      "torch.Size([1, 768])\n",
      "torch.Size([1, 768])\n",
      "torch.Size([1, 768])\n",
      "torch.Size([1, 768])\n",
      "torch.Size([1, 768])\n",
      "torch.Size([1, 768])\n",
      "torch.Size([1, 768])\n",
      "torch.Size([1, 768])\n",
      "torch.Size([1, 768])\n",
      "torch.Size([1, 768])\n",
      "torch.Size([1, 768])\n",
      "torch.Size([1, 768])\n",
      "torch.Size([1, 768])\n",
      "torch.Size([1, 768])\n",
      "torch.Size([1, 768])\n",
      "torch.Size([1, 768])\n",
      "torch.Size([1, 768])\n",
      "torch.Size([1, 768])\n",
      "torch.Size([1, 768])\n",
      "torch.Size([1, 768])\n",
      "torch.Size([1, 768])\n",
      "torch.Size([1, 768])\n",
      "torch.Size([1, 768])\n",
      "torch.Size([1, 768])\n",
      "torch.Size([1, 768])\n",
      "torch.Size([1, 768])\n",
      "torch.Size([1, 768])\n",
      "torch.Size([1, 768])\n",
      "torch.Size([1, 768])\n",
      "torch.Size([1, 768])\n",
      "torch.Size([1, 768])\n",
      "torch.Size([1, 768])\n",
      "torch.Size([1, 768])\n",
      "torch.Size([1, 768])\n",
      "torch.Size([1, 768])\n",
      "torch.Size([1, 768])\n",
      "torch.Size([1, 768])\n",
      "torch.Size([1, 768])\n",
      "torch.Size([1, 768])\n",
      "torch.Size([1, 768])\n",
      "torch.Size([1, 768])\n",
      "torch.Size([1, 768])\n",
      "torch.Size([1, 768])\n",
      "torch.Size([1, 768])\n",
      "torch.Size([1, 768])\n",
      "torch.Size([1, 768])\n",
      "torch.Size([1, 768])\n",
      "torch.Size([1, 768])\n",
      "torch.Size([1, 768])\n",
      "torch.Size([1, 768])\n",
      "torch.Size([1, 768])\n",
      "torch.Size([1, 768])\n",
      "torch.Size([1, 768])\n",
      "torch.Size([1, 768])\n",
      "torch.Size([1, 768])\n",
      "torch.Size([1, 768])\n",
      "torch.Size([1, 768])\n",
      "torch.Size([1, 768])\n",
      "torch.Size([1, 768])\n",
      "torch.Size([1, 768])\n",
      "torch.Size([1, 768])\n",
      "torch.Size([1, 768])\n",
      "torch.Size([1, 768])\n",
      "torch.Size([1, 768])\n",
      "torch.Size([1, 768])\n",
      "torch.Size([1, 768])\n",
      "torch.Size([1, 768])\n",
      "torch.Size([1, 768])\n",
      "torch.Size([1, 768])\n",
      "torch.Size([1, 768])\n",
      "torch.Size([1, 768])\n",
      "torch.Size([1, 768])\n",
      "torch.Size([1, 768])\n",
      "torch.Size([1, 768])\n",
      "torch.Size([1, 768])\n",
      "torch.Size([1, 768])\n",
      "torch.Size([1, 768])\n",
      "torch.Size([1, 768])\n",
      "torch.Size([1, 768])\n",
      "torch.Size([1, 768])\n",
      "torch.Size([1, 768])\n",
      "torch.Size([1, 768])\n",
      "torch.Size([1, 768])\n",
      "torch.Size([1, 768])\n",
      "torch.Size([1, 768])\n",
      "torch.Size([1, 768])\n",
      "torch.Size([1, 768])\n",
      "torch.Size([1, 768])\n",
      "torch.Size([1, 768])\n",
      "torch.Size([1, 768])\n",
      "torch.Size([1, 768])\n",
      "torch.Size([1, 768])\n",
      "torch.Size([1, 768])\n",
      "torch.Size([1, 768])\n",
      "torch.Size([1, 768])\n",
      "torch.Size([1, 768])\n",
      "torch.Size([1, 768])\n",
      "torch.Size([1, 768])\n",
      "torch.Size([1, 768])\n",
      "torch.Size([1, 768])\n",
      "torch.Size([1, 768])\n",
      "torch.Size([1, 768])\n",
      "torch.Size([1, 768])\n",
      "torch.Size([1, 768])\n",
      "torch.Size([1, 768])\n",
      "torch.Size([1, 768])\n",
      "torch.Size([1, 768])\n",
      "torch.Size([1, 768])\n",
      "torch.Size([1, 768])\n",
      "torch.Size([1, 768])\n",
      "torch.Size([1, 768])\n",
      "torch.Size([1, 768])\n",
      "torch.Size([1, 768])\n",
      "torch.Size([1, 768])\n",
      "torch.Size([1, 768])\n",
      "torch.Size([1, 768])\n",
      "torch.Size([1, 768])\n",
      "torch.Size([1, 768])\n",
      "torch.Size([1, 768])\n",
      "torch.Size([1, 768])\n",
      "torch.Size([1, 768])\n",
      "torch.Size([1, 768])\n",
      "torch.Size([1, 768])\n",
      "torch.Size([1, 768])\n",
      "torch.Size([1, 768])\n",
      "torch.Size([1, 768])\n",
      "torch.Size([1, 768])\n",
      "torch.Size([1, 768])\n",
      "torch.Size([1, 768])\n",
      "torch.Size([1, 768])\n",
      "torch.Size([1, 768])\n",
      "torch.Size([1, 768])\n",
      "torch.Size([1, 768])\n",
      "torch.Size([1, 768])\n",
      "torch.Size([1, 768])\n",
      "torch.Size([1, 768])\n",
      "torch.Size([1, 768])\n",
      "torch.Size([1, 768])\n",
      "torch.Size([1, 768])\n",
      "torch.Size([1, 768])\n",
      "torch.Size([1, 768])\n",
      "torch.Size([1, 768])\n",
      "torch.Size([1, 768])\n",
      "torch.Size([1, 768])\n",
      "torch.Size([1, 768])\n",
      "torch.Size([1, 768])\n",
      "torch.Size([1, 768])\n",
      "torch.Size([1, 768])\n",
      "torch.Size([1, 768])\n",
      "torch.Size([1, 768])\n",
      "torch.Size([1, 768])\n",
      "torch.Size([1, 768])\n",
      "torch.Size([1, 768])\n",
      "torch.Size([1, 768])\n",
      "torch.Size([1, 768])\n",
      "torch.Size([1, 768])\n",
      "torch.Size([1, 768])\n",
      "torch.Size([1, 768])\n",
      "torch.Size([1, 768])\n",
      "torch.Size([1, 768])\n",
      "torch.Size([1, 768])\n",
      "torch.Size([1, 768])\n",
      "torch.Size([1, 768])\n",
      "torch.Size([1, 768])\n",
      "torch.Size([1, 768])\n",
      "torch.Size([1, 768])\n",
      "torch.Size([1, 768])\n",
      "torch.Size([1, 768])\n",
      "torch.Size([1, 768])\n",
      "torch.Size([1, 768])\n",
      "torch.Size([1, 768])\n",
      "torch.Size([1, 768])\n",
      "torch.Size([1, 768])\n",
      "torch.Size([1, 768])\n",
      "torch.Size([1, 768])\n",
      "torch.Size([1, 768])\n",
      "torch.Size([1, 768])\n",
      "torch.Size([1, 768])\n",
      "torch.Size([1, 768])\n",
      "torch.Size([1, 768])\n",
      "torch.Size([1, 768])\n",
      "torch.Size([1, 768])\n",
      "torch.Size([1, 768])\n",
      "torch.Size([1, 768])\n",
      "torch.Size([1, 768])\n",
      "torch.Size([1, 768])\n",
      "torch.Size([1, 768])\n",
      "torch.Size([1, 768])\n",
      "torch.Size([1, 768])\n",
      "torch.Size([1, 768])\n",
      "torch.Size([1, 768])\n",
      "torch.Size([1, 768])\n",
      "torch.Size([1, 768])\n",
      "torch.Size([1, 768])\n",
      "torch.Size([1, 768])\n",
      "torch.Size([1, 768])\n",
      "torch.Size([1, 768])\n",
      "torch.Size([1, 768])\n",
      "torch.Size([1, 768])\n",
      "torch.Size([1, 768])\n",
      "torch.Size([1, 768])\n",
      "torch.Size([1, 768])\n",
      "torch.Size([1, 768])\n",
      "torch.Size([1, 768])\n",
      "torch.Size([1, 768])\n",
      "torch.Size([1, 768])\n",
      "torch.Size([1, 768])\n",
      "torch.Size([1, 768])\n",
      "torch.Size([1, 768])\n",
      "torch.Size([1, 768])\n",
      "torch.Size([1, 768])\n",
      "torch.Size([1, 768])\n",
      "torch.Size([1, 768])\n",
      "torch.Size([1, 768])\n",
      "torch.Size([1, 768])\n",
      "torch.Size([1, 768])\n",
      "torch.Size([1, 768])\n",
      "torch.Size([1, 768])\n",
      "torch.Size([1, 768])\n",
      "torch.Size([1, 768])\n",
      "torch.Size([1, 768])\n",
      "torch.Size([1, 768])\n",
      "torch.Size([1, 768])\n",
      "torch.Size([1, 768])\n",
      "torch.Size([1, 768])\n",
      "torch.Size([1, 768])\n",
      "torch.Size([1, 768])\n",
      "torch.Size([1, 768])\n",
      "torch.Size([1, 768])\n",
      "torch.Size([1, 768])\n",
      "torch.Size([1, 768])\n",
      "torch.Size([1, 768])\n",
      "torch.Size([1, 768])\n",
      "torch.Size([1, 768])\n",
      "torch.Size([1, 768])\n",
      "torch.Size([1, 768])\n",
      "torch.Size([1, 768])\n",
      "torch.Size([1, 768])\n",
      "torch.Size([1, 768])\n",
      "torch.Size([1, 768])\n",
      "torch.Size([1, 768])\n",
      "torch.Size([1, 768])\n",
      "torch.Size([1, 768])\n",
      "torch.Size([1, 768])\n",
      "torch.Size([1, 768])\n",
      "torch.Size([1, 768])\n",
      "torch.Size([1, 768])\n",
      "torch.Size([1, 768])\n",
      "torch.Size([1, 768])\n",
      "torch.Size([1, 768])\n",
      "torch.Size([1, 768])\n",
      "torch.Size([1, 768])\n",
      "torch.Size([1, 768])\n",
      "torch.Size([1, 768])\n",
      "torch.Size([1, 768])\n",
      "torch.Size([1, 768])\n",
      "torch.Size([1, 768])\n",
      "torch.Size([1, 768])\n",
      "torch.Size([1, 768])\n",
      "torch.Size([1, 768])\n",
      "torch.Size([1, 768])\n",
      "torch.Size([1, 768])\n",
      "torch.Size([1, 768])\n",
      "torch.Size([1, 768])\n",
      "torch.Size([1, 768])\n",
      "torch.Size([1, 768])\n",
      "torch.Size([1, 768])\n",
      "torch.Size([1, 768])\n",
      "torch.Size([1, 768])\n",
      "torch.Size([1, 768])\n",
      "torch.Size([1, 768])\n",
      "torch.Size([1, 768])\n",
      "torch.Size([1, 768])\n",
      "torch.Size([1, 768])\n",
      "torch.Size([1, 768])\n",
      "torch.Size([1, 768])\n",
      "torch.Size([1, 768])\n",
      "torch.Size([1, 768])\n",
      "torch.Size([1, 768])\n",
      "torch.Size([1, 768])\n",
      "torch.Size([1, 768])\n",
      "torch.Size([1, 768])\n",
      "torch.Size([1, 768])\n",
      "torch.Size([1, 768])\n",
      "torch.Size([1, 768])\n",
      "torch.Size([1, 768])\n",
      "torch.Size([1, 768])\n",
      "torch.Size([1, 768])\n",
      "torch.Size([1, 768])\n",
      "torch.Size([1, 768])\n",
      "torch.Size([1, 768])\n",
      "torch.Size([1, 768])\n",
      "torch.Size([1, 768])\n",
      "torch.Size([1, 768])\n",
      "torch.Size([1, 768])\n",
      "torch.Size([1, 768])\n",
      "torch.Size([1, 768])\n",
      "torch.Size([1, 768])\n",
      "torch.Size([1, 768])\n",
      "torch.Size([1, 768])\n",
      "torch.Size([1, 768])\n",
      "torch.Size([1, 768])\n",
      "torch.Size([1, 768])\n",
      "torch.Size([1, 768])\n",
      "torch.Size([1, 768])\n",
      "torch.Size([1, 768])\n",
      "torch.Size([1, 768])\n",
      "torch.Size([1, 768])\n",
      "torch.Size([1, 768])\n",
      "torch.Size([1, 768])\n",
      "torch.Size([1, 768])\n",
      "torch.Size([1, 768])\n",
      "torch.Size([1, 768])\n",
      "torch.Size([1, 768])\n",
      "torch.Size([1, 768])\n",
      "torch.Size([1, 768])\n",
      "torch.Size([1, 768])\n",
      "torch.Size([1, 768])\n",
      "torch.Size([1, 768])\n",
      "torch.Size([1, 768])\n",
      "torch.Size([1, 768])\n",
      "torch.Size([1, 768])\n",
      "torch.Size([1, 768])\n",
      "torch.Size([1, 768])\n",
      "torch.Size([1, 768])\n",
      "torch.Size([1, 768])\n",
      "torch.Size([1, 768])\n",
      "torch.Size([1, 768])\n",
      "torch.Size([1, 768])\n",
      "torch.Size([1, 768])\n",
      "torch.Size([1, 768])\n",
      "torch.Size([1, 768])\n",
      "torch.Size([1, 768])\n",
      "torch.Size([1, 768])\n",
      "torch.Size([1, 768])\n",
      "torch.Size([1, 768])\n",
      "torch.Size([1, 768])\n",
      "torch.Size([1, 768])\n",
      "torch.Size([1, 768])\n",
      "torch.Size([1, 768])\n",
      "torch.Size([1, 768])\n",
      "torch.Size([1, 768])\n",
      "torch.Size([1, 768])\n",
      "torch.Size([1, 768])\n",
      "torch.Size([1, 768])\n",
      "torch.Size([1, 768])\n",
      "torch.Size([1, 768])\n",
      "torch.Size([1, 768])\n",
      "torch.Size([1, 768])\n",
      "torch.Size([1, 768])\n",
      "torch.Size([1, 768])\n",
      "torch.Size([1, 768])\n",
      "torch.Size([1, 768])\n",
      "torch.Size([1, 768])\n",
      "torch.Size([1, 768])\n",
      "torch.Size([1, 768])\n",
      "torch.Size([1, 768])\n",
      "torch.Size([1, 768])\n",
      "torch.Size([1, 768])\n",
      "torch.Size([1, 768])\n",
      "torch.Size([1, 768])\n",
      "torch.Size([1, 768])\n",
      "torch.Size([1, 768])\n",
      "torch.Size([1, 768])\n",
      "torch.Size([1, 768])\n",
      "torch.Size([1, 768])\n",
      "torch.Size([1, 768])\n",
      "torch.Size([1, 768])\n",
      "torch.Size([1, 768])\n",
      "torch.Size([1, 768])\n",
      "torch.Size([1, 768])\n",
      "torch.Size([1, 768])\n",
      "torch.Size([1, 768])\n",
      "torch.Size([1, 768])\n",
      "torch.Size([1, 768])\n",
      "torch.Size([1, 768])\n",
      "torch.Size([1, 768])\n",
      "torch.Size([1, 768])\n",
      "torch.Size([1, 768])\n",
      "torch.Size([1, 768])\n",
      "torch.Size([1, 768])\n",
      "torch.Size([1, 768])\n",
      "torch.Size([1, 768])\n",
      "torch.Size([1, 768])\n",
      "torch.Size([1, 768])\n",
      "torch.Size([1, 768])\n",
      "torch.Size([1, 768])\n",
      "torch.Size([1, 768])\n",
      "torch.Size([1, 768])\n",
      "torch.Size([1, 768])\n",
      "torch.Size([1, 768])\n",
      "torch.Size([1, 768])\n",
      "torch.Size([1, 768])\n",
      "torch.Size([1, 768])\n",
      "torch.Size([1, 768])\n",
      "torch.Size([1, 768])\n",
      "torch.Size([1, 768])\n",
      "torch.Size([1, 768])\n",
      "torch.Size([1, 768])\n",
      "torch.Size([1, 768])\n",
      "torch.Size([1, 768])\n",
      "torch.Size([1, 768])\n",
      "torch.Size([1, 768])\n",
      "torch.Size([1, 768])\n",
      "torch.Size([1, 768])\n",
      "torch.Size([1, 768])\n",
      "torch.Size([1, 768])\n",
      "torch.Size([1, 768])\n",
      "torch.Size([1, 768])\n",
      "torch.Size([1, 768])\n",
      "torch.Size([1, 768])\n",
      "torch.Size([1, 768])\n",
      "torch.Size([1, 768])\n",
      "torch.Size([1, 768])\n",
      "torch.Size([1, 768])\n",
      "torch.Size([1, 768])\n",
      "torch.Size([1, 768])\n",
      "torch.Size([1, 768])\n",
      "torch.Size([1, 768])\n",
      "torch.Size([1, 768])\n",
      "torch.Size([1, 768])\n",
      "torch.Size([1, 768])\n",
      "torch.Size([1, 768])\n",
      "torch.Size([1, 768])\n",
      "torch.Size([1, 768])\n",
      "torch.Size([1, 768])\n",
      "torch.Size([1, 768])\n",
      "torch.Size([1, 768])\n",
      "torch.Size([1, 768])\n",
      "torch.Size([1, 768])\n",
      "torch.Size([1, 768])\n",
      "torch.Size([1, 768])\n",
      "torch.Size([1, 768])\n",
      "torch.Size([1, 768])\n",
      "torch.Size([1, 768])\n",
      "torch.Size([1, 768])\n",
      "torch.Size([1, 768])\n",
      "torch.Size([1, 768])\n",
      "torch.Size([1, 768])\n",
      "torch.Size([1, 768])\n",
      "torch.Size([1, 768])\n",
      "torch.Size([1, 768])\n",
      "torch.Size([1, 768])\n",
      "torch.Size([1, 768])\n",
      "torch.Size([1, 768])\n",
      "torch.Size([1, 768])\n",
      "torch.Size([1, 768])\n",
      "torch.Size([1, 768])\n",
      "torch.Size([1, 768])\n",
      "torch.Size([1, 768])\n",
      "torch.Size([1, 768])\n",
      "torch.Size([1, 768])\n",
      "torch.Size([1, 768])\n",
      "torch.Size([9788, 769])\n"
     ]
    },
    {
     "name": "stderr",
     "output_type": "stream",
     "text": [
      "...processing airplane (1/10) layer 0...:   0%|          | 0/10 [00:01<?, ?it/s]\n"
     ]
    },
    {
     "ename": "KeyboardInterrupt",
     "evalue": "",
     "output_type": "error",
     "traceback": [
      "\u001b[1;31m---------------------------------------------------------------------------\u001b[0m",
      "\u001b[1;31mKeyboardInterrupt\u001b[0m                         Traceback (most recent call last)",
      "Cell \u001b[1;32mIn[12], line 19\u001b[0m\n\u001b[0;32m     17\u001b[0m dataset,num_cat_act,num_opp_cat_act\u001b[38;5;241m=\u001b[39mget_dataset(category,opp_categories,layer)\n\u001b[0;32m     18\u001b[0m \u001b[38;5;28mprint\u001b[39m(dataset\u001b[38;5;241m.\u001b[39mshape)\n\u001b[1;32m---> 19\u001b[0m model,loss,epoch\u001b[38;5;241m=\u001b[39m\u001b[43mtrain\u001b[49m\u001b[43m(\u001b[49m\u001b[43mdataset\u001b[49m\u001b[43m)\u001b[49m\n\u001b[0;32m     20\u001b[0m cav\u001b[38;5;241m=\u001b[39mconcept_vector(model)\n\u001b[0;32m     21\u001b[0m torch\u001b[38;5;241m.\u001b[39msave(cav,\u001b[38;5;124mf\u001b[39m\u001b[38;5;124m'\u001b[39m\u001b[38;5;132;01m{\u001b[39;00mexternal_path\u001b[38;5;132;01m}\u001b[39;00m\u001b[38;5;130;01m\\\\\u001b[39;00m\u001b[38;5;124mconcept_activation_vectors\u001b[39m\u001b[38;5;130;01m\\\\\u001b[39;00m\u001b[38;5;132;01m{\u001b[39;00mlayer\u001b[38;5;132;01m}\u001b[39;00m\u001b[38;5;130;01m\\\\\u001b[39;00m\u001b[38;5;132;01m{\u001b[39;00mcategory\u001b[38;5;132;01m}\u001b[39;00m\u001b[38;5;124m.pt\u001b[39m\u001b[38;5;124m'\u001b[39m)\n",
      "Cell \u001b[1;32mIn[6], line 26\u001b[0m, in \u001b[0;36mtrain\u001b[1;34m(dataset, batch_size, lr, epochs, verbose, shuffle)\u001b[0m\n\u001b[0;32m     24\u001b[0m     inputs\u001b[38;5;241m=\u001b[39mdataset[k\u001b[38;5;241m*\u001b[39mbatch_size:(k\u001b[38;5;241m+\u001b[39m\u001b[38;5;241m1\u001b[39m)\u001b[38;5;241m*\u001b[39mbatch_size,:activation_dim]\n\u001b[0;32m     25\u001b[0m     labels\u001b[38;5;241m=\u001b[39mdataset[k\u001b[38;5;241m*\u001b[39mbatch_size:(k\u001b[38;5;241m+\u001b[39m\u001b[38;5;241m1\u001b[39m)\u001b[38;5;241m*\u001b[39mbatch_size,\u001b[38;5;241m-\u001b[39m\u001b[38;5;241m1\u001b[39m]\n\u001b[1;32m---> 26\u001b[0m outputs\u001b[38;5;241m=\u001b[39m\u001b[43mmodel\u001b[49m\u001b[43m(\u001b[49m\u001b[43minputs\u001b[49m\u001b[43m)\u001b[49m\u001b[38;5;241m.\u001b[39mreshape((\u001b[38;5;28mlen\u001b[39m(labels),))\n\u001b[0;32m     27\u001b[0m loss\u001b[38;5;241m=\u001b[39mcriterion(outputs,labels)\n\u001b[0;32m     28\u001b[0m loss\u001b[38;5;241m.\u001b[39mbackward()\n",
      "File \u001b[1;32mc:\\anaconda\\envs\\transformers\\Lib\\site-packages\\torch\\nn\\modules\\module.py:1532\u001b[0m, in \u001b[0;36mModule._wrapped_call_impl\u001b[1;34m(self, *args, **kwargs)\u001b[0m\n\u001b[0;32m   1530\u001b[0m     \u001b[38;5;28;01mreturn\u001b[39;00m \u001b[38;5;28mself\u001b[39m\u001b[38;5;241m.\u001b[39m_compiled_call_impl(\u001b[38;5;241m*\u001b[39margs, \u001b[38;5;241m*\u001b[39m\u001b[38;5;241m*\u001b[39mkwargs)  \u001b[38;5;66;03m# type: ignore[misc]\u001b[39;00m\n\u001b[0;32m   1531\u001b[0m \u001b[38;5;28;01melse\u001b[39;00m:\n\u001b[1;32m-> 1532\u001b[0m     \u001b[38;5;28;01mreturn\u001b[39;00m \u001b[38;5;28;43mself\u001b[39;49m\u001b[38;5;241;43m.\u001b[39;49m\u001b[43m_call_impl\u001b[49m\u001b[43m(\u001b[49m\u001b[38;5;241;43m*\u001b[39;49m\u001b[43margs\u001b[49m\u001b[43m,\u001b[49m\u001b[43m \u001b[49m\u001b[38;5;241;43m*\u001b[39;49m\u001b[38;5;241;43m*\u001b[39;49m\u001b[43mkwargs\u001b[49m\u001b[43m)\u001b[49m\n",
      "File \u001b[1;32mc:\\anaconda\\envs\\transformers\\Lib\\site-packages\\torch\\nn\\modules\\module.py:1541\u001b[0m, in \u001b[0;36mModule._call_impl\u001b[1;34m(self, *args, **kwargs)\u001b[0m\n\u001b[0;32m   1536\u001b[0m \u001b[38;5;66;03m# If we don't have any hooks, we want to skip the rest of the logic in\u001b[39;00m\n\u001b[0;32m   1537\u001b[0m \u001b[38;5;66;03m# this function, and just call forward.\u001b[39;00m\n\u001b[0;32m   1538\u001b[0m \u001b[38;5;28;01mif\u001b[39;00m \u001b[38;5;129;01mnot\u001b[39;00m (\u001b[38;5;28mself\u001b[39m\u001b[38;5;241m.\u001b[39m_backward_hooks \u001b[38;5;129;01mor\u001b[39;00m \u001b[38;5;28mself\u001b[39m\u001b[38;5;241m.\u001b[39m_backward_pre_hooks \u001b[38;5;129;01mor\u001b[39;00m \u001b[38;5;28mself\u001b[39m\u001b[38;5;241m.\u001b[39m_forward_hooks \u001b[38;5;129;01mor\u001b[39;00m \u001b[38;5;28mself\u001b[39m\u001b[38;5;241m.\u001b[39m_forward_pre_hooks\n\u001b[0;32m   1539\u001b[0m         \u001b[38;5;129;01mor\u001b[39;00m _global_backward_pre_hooks \u001b[38;5;129;01mor\u001b[39;00m _global_backward_hooks\n\u001b[0;32m   1540\u001b[0m         \u001b[38;5;129;01mor\u001b[39;00m _global_forward_hooks \u001b[38;5;129;01mor\u001b[39;00m _global_forward_pre_hooks):\n\u001b[1;32m-> 1541\u001b[0m     \u001b[38;5;28;01mreturn\u001b[39;00m \u001b[43mforward_call\u001b[49m\u001b[43m(\u001b[49m\u001b[38;5;241;43m*\u001b[39;49m\u001b[43margs\u001b[49m\u001b[43m,\u001b[49m\u001b[43m \u001b[49m\u001b[38;5;241;43m*\u001b[39;49m\u001b[38;5;241;43m*\u001b[39;49m\u001b[43mkwargs\u001b[49m\u001b[43m)\u001b[49m\n\u001b[0;32m   1543\u001b[0m \u001b[38;5;28;01mtry\u001b[39;00m:\n\u001b[0;32m   1544\u001b[0m     result \u001b[38;5;241m=\u001b[39m \u001b[38;5;28;01mNone\u001b[39;00m\n",
      "Cell \u001b[1;32mIn[4], line 9\u001b[0m, in \u001b[0;36mLinearClassifier.forward\u001b[1;34m(self, x)\u001b[0m\n\u001b[0;32m      8\u001b[0m \u001b[38;5;28;01mdef\u001b[39;00m \u001b[38;5;21mforward\u001b[39m(\u001b[38;5;28mself\u001b[39m, x: torch\u001b[38;5;241m.\u001b[39mTensor) \u001b[38;5;241m-\u001b[39m\u001b[38;5;241m>\u001b[39m torch\u001b[38;5;241m.\u001b[39mTensor:\n\u001b[1;32m----> 9\u001b[0m     \u001b[38;5;28;01mreturn\u001b[39;00m \u001b[38;5;28mself\u001b[39m\u001b[38;5;241m.\u001b[39msigmoid(\u001b[38;5;28;43mself\u001b[39;49m\u001b[38;5;241;43m.\u001b[39;49m\u001b[43mlinear\u001b[49m\u001b[43m(\u001b[49m\u001b[43mx\u001b[49m\u001b[43m)\u001b[49m)\n",
      "File \u001b[1;32mc:\\anaconda\\envs\\transformers\\Lib\\site-packages\\torch\\nn\\modules\\module.py:1532\u001b[0m, in \u001b[0;36mModule._wrapped_call_impl\u001b[1;34m(self, *args, **kwargs)\u001b[0m\n\u001b[0;32m   1530\u001b[0m     \u001b[38;5;28;01mreturn\u001b[39;00m \u001b[38;5;28mself\u001b[39m\u001b[38;5;241m.\u001b[39m_compiled_call_impl(\u001b[38;5;241m*\u001b[39margs, \u001b[38;5;241m*\u001b[39m\u001b[38;5;241m*\u001b[39mkwargs)  \u001b[38;5;66;03m# type: ignore[misc]\u001b[39;00m\n\u001b[0;32m   1531\u001b[0m \u001b[38;5;28;01melse\u001b[39;00m:\n\u001b[1;32m-> 1532\u001b[0m     \u001b[38;5;28;01mreturn\u001b[39;00m \u001b[38;5;28;43mself\u001b[39;49m\u001b[38;5;241;43m.\u001b[39;49m\u001b[43m_call_impl\u001b[49m\u001b[43m(\u001b[49m\u001b[38;5;241;43m*\u001b[39;49m\u001b[43margs\u001b[49m\u001b[43m,\u001b[49m\u001b[43m \u001b[49m\u001b[38;5;241;43m*\u001b[39;49m\u001b[38;5;241;43m*\u001b[39;49m\u001b[43mkwargs\u001b[49m\u001b[43m)\u001b[49m\n",
      "File \u001b[1;32mc:\\anaconda\\envs\\transformers\\Lib\\site-packages\\torch\\nn\\modules\\module.py:1541\u001b[0m, in \u001b[0;36mModule._call_impl\u001b[1;34m(self, *args, **kwargs)\u001b[0m\n\u001b[0;32m   1536\u001b[0m \u001b[38;5;66;03m# If we don't have any hooks, we want to skip the rest of the logic in\u001b[39;00m\n\u001b[0;32m   1537\u001b[0m \u001b[38;5;66;03m# this function, and just call forward.\u001b[39;00m\n\u001b[0;32m   1538\u001b[0m \u001b[38;5;28;01mif\u001b[39;00m \u001b[38;5;129;01mnot\u001b[39;00m (\u001b[38;5;28mself\u001b[39m\u001b[38;5;241m.\u001b[39m_backward_hooks \u001b[38;5;129;01mor\u001b[39;00m \u001b[38;5;28mself\u001b[39m\u001b[38;5;241m.\u001b[39m_backward_pre_hooks \u001b[38;5;129;01mor\u001b[39;00m \u001b[38;5;28mself\u001b[39m\u001b[38;5;241m.\u001b[39m_forward_hooks \u001b[38;5;129;01mor\u001b[39;00m \u001b[38;5;28mself\u001b[39m\u001b[38;5;241m.\u001b[39m_forward_pre_hooks\n\u001b[0;32m   1539\u001b[0m         \u001b[38;5;129;01mor\u001b[39;00m _global_backward_pre_hooks \u001b[38;5;129;01mor\u001b[39;00m _global_backward_hooks\n\u001b[0;32m   1540\u001b[0m         \u001b[38;5;129;01mor\u001b[39;00m _global_forward_hooks \u001b[38;5;129;01mor\u001b[39;00m _global_forward_pre_hooks):\n\u001b[1;32m-> 1541\u001b[0m     \u001b[38;5;28;01mreturn\u001b[39;00m \u001b[43mforward_call\u001b[49m\u001b[43m(\u001b[49m\u001b[38;5;241;43m*\u001b[39;49m\u001b[43margs\u001b[49m\u001b[43m,\u001b[49m\u001b[43m \u001b[49m\u001b[38;5;241;43m*\u001b[39;49m\u001b[38;5;241;43m*\u001b[39;49m\u001b[43mkwargs\u001b[49m\u001b[43m)\u001b[49m\n\u001b[0;32m   1543\u001b[0m \u001b[38;5;28;01mtry\u001b[39;00m:\n\u001b[0;32m   1544\u001b[0m     result \u001b[38;5;241m=\u001b[39m \u001b[38;5;28;01mNone\u001b[39;00m\n",
      "File \u001b[1;32mc:\\anaconda\\envs\\transformers\\Lib\\site-packages\\torch\\nn\\modules\\linear.py:116\u001b[0m, in \u001b[0;36mLinear.forward\u001b[1;34m(self, input)\u001b[0m\n\u001b[0;32m    115\u001b[0m \u001b[38;5;28;01mdef\u001b[39;00m \u001b[38;5;21mforward\u001b[39m(\u001b[38;5;28mself\u001b[39m, \u001b[38;5;28minput\u001b[39m: Tensor) \u001b[38;5;241m-\u001b[39m\u001b[38;5;241m>\u001b[39m Tensor:\n\u001b[1;32m--> 116\u001b[0m     \u001b[38;5;28;01mreturn\u001b[39;00m \u001b[43mF\u001b[49m\u001b[38;5;241;43m.\u001b[39;49m\u001b[43mlinear\u001b[49m\u001b[43m(\u001b[49m\u001b[38;5;28;43minput\u001b[39;49m\u001b[43m,\u001b[49m\u001b[43m \u001b[49m\u001b[38;5;28;43mself\u001b[39;49m\u001b[38;5;241;43m.\u001b[39;49m\u001b[43mweight\u001b[49m\u001b[43m,\u001b[49m\u001b[43m \u001b[49m\u001b[38;5;28;43mself\u001b[39;49m\u001b[38;5;241;43m.\u001b[39;49m\u001b[43mbias\u001b[49m\u001b[43m)\u001b[49m\n",
      "\u001b[1;31mKeyboardInterrupt\u001b[0m: "
     ]
    }
   ],
   "source": [
    "for layer in range(13):\n",
    "    if not(os.path.exists(f'{external_path}\\\\concept_activation_vectors\\\\{layer}')):\n",
    "        os.mkdir(f'{external_path}\\\\concept_activation_vectors\\\\{layer}')\n",
    "\n",
    "losses={}\n",
    "\n",
    "categories=os.listdir(f'{external_path}\\\\class_token_activations')\n",
    "progress_bar=tqdm(categories)\n",
    "N=len(categories)\n",
    "category_num=1\n",
    "for category in progress_bar:\n",
    "    if not(os.path.exists(f'{external_path}\\\\concept_activation_vectors\\\\{layer}\\\\{category}')):\n",
    "        os.mkdir(f'{external_path}\\\\concept_activation_vectors\\\\{layer}\\\\{category}')\n",
    "    for layer in range(0,13):\n",
    "        progress_bar.set_description(f'...processing {category} ({category_num}/{N}) layer {layer}...')\n",
    "        opp_categories=[cat for cat in categories if cat!=category]\n",
    "        dataset,num_cat_act,num_opp_cat_act=get_dataset(category,opp_categories,layer)\n",
    "        model,loss,epoch=train(dataset)\n",
    "        cav=concept_vector(model)\n",
    "        torch.save(cav,f'{external_path}\\\\concept_activation_vectors\\\\{layer}\\\\{category}.pt')\n",
    "\n",
    "        if layer in losses.keys():\n",
    "            losses[layer][category]=loss.item()\n",
    "        else:\n",
    "            losses[layer]={category:loss.item()}\n",
    "    category_num+=1\n",
    "\n",
    "for layer in range(13):\n",
    "    losses_file=open(f'{external_path}\\\\concept_activation_vectors\\\\{layer}\\\\training_losses','wb')\n",
    "    pickle.dump(losses[layer],losses_file)\n",
    "    losses_file.close()"
   ]
  },
  {
   "cell_type": "code",
   "execution_count": 42,
   "metadata": {},
   "outputs": [
    {
     "data": {
      "image/png": "[encoded data removed]",
      "text/plain": [
       "<Figure size 1200x1000 with 101 Axes>"
      ]
     },
     "metadata": {},
     "output_type": "display_data"
    }
   ],
   "source": [
    "categories=os.listdir(f'{external_path}\\\\class_token_activations')\n",
    "N=len(categories)\n",
    "fig,axs=plt.subplots(nrows=N,ncols=N)\n",
    "fig.set_figheight(10)\n",
    "fig.set_figwidth(12)\n",
    "for n,cat_1 in enumerate(categories):\n",
    "    for m,cat_2 in enumerate(categories):\n",
    "        dot_products=np.ones((13,13))\n",
    "        for layer_1 in range(13):\n",
    "            for layer_2 in range(13):\n",
    "                cav_1=torch.load(f'{external_path}\\\\concept_activation_vectors\\\\{layer_1}\\\\{cat_1}.pt')\n",
    "                cav_2=torch.load(f'{external_path}\\\\concept_activation_vectors\\\\{layer_2}\\\\{cat_2}.pt')\n",
    "                dot_products[layer_1,layer_2]=torch.dot(cav_1,cav_2)\n",
    "                dot_products[layer_2,layer_1]=torch.dot(cav_2,cav_1)\n",
    "        im=axs[n][m].imshow(dot_products,aspect='auto',vmin=-1, vmax=1)\n",
    "        axs[n][m].xaxis.set_visible(False)\n",
    "        if m==0:\n",
    "            axs[n][m].set_ylabel(cat_1)\n",
    "        if n==0:\n",
    "            axs[n][m].set_title(cat_2,fontsize=10)\n",
    "        axs[n][m].tick_params(left=False, labelleft=False)\n",
    "\n",
    "fig.subplots_adjust(right=0.8)\n",
    "cbar_ax = fig.add_axes([0.85, 0.15, 0.05, 0.7])\n",
    "fig.colorbar(im, cax=cbar_ax)\n",
    "\n",
    "plt.show()"
   ]
  },
  {
   "cell_type": "code",
   "execution_count": 14,
   "metadata": {},
   "outputs": [
    {
     "data": {
      "application/vnd.plotly.v1+json": {
       "config": {
        "plotlyServerURL": "https://plot.ly"
       },
       "data": [
        {
         "hovertemplate": "variable=airplane<br>index=%{x}<br>value=%{y}<extra></extra>",
         "legendgroup": "airplane",
         "line": {
          "color": "#636efa",
          "dash": "solid"
         },
         "marker": {
          "symbol": "circle"
         },
         "mode": "lines",
         "name": "airplane",
         "orientation": "v",
         "showlegend": true,
         "type": "scatter",
         "x": [
          0,
          1,
          2,
          3,
          4,
          5,
          6,
          7,
          8,
          9,
          10,
          11,
          12
         ],
         "xaxis": "x",
         "y": [
          0.00509813753888011,
          0.0035353705752640963,
          0.0029475593473762274,
          0.0021560629829764366,
          0.0014312772545963526,
          0.0008688850793987513,
          0.00045577812124975026,
          0.00024100052542053163,
          0.00014304339129012078,
          0.00003445034599280916,
          0.000004390603407955496,
          0.000001205744069920911,
          0.0000010087883310916368
         ],
         "yaxis": "y"
        },
        {
         "hovertemplate": "variable=automobile<br>index=%{x}<br>value=%{y}<extra></extra>",
         "legendgroup": "automobile",
         "line": {
          "color": "#EF553B",
          "dash": "solid"
         },
         "marker": {
          "symbol": "circle"
         },
         "mode": "lines",
         "name": "automobile",
         "orientation": "v",
         "showlegend": true,
         "type": "scatter",
         "x": [
          0,
          1,
          2,
          3,
          4,
          5,
          6,
          7,
          8,
          9,
          10,
          11,
          12
         ],
         "xaxis": "x",
         "y": [
          0.0051055969670414925,
          0.0036786666605621576,
          0.0027338501531630754,
          0.0016292459331452847,
          0.0009382105199620128,
          0.0004896285245195031,
          0.00030514743411913514,
          0.0001595480425748974,
          0.0001405031216563657,
          0.00003732482218765654,
          0.000011125803212053142,
          0.0000012755215266224695,
          0.0000010179124956266605
         ],
         "yaxis": "y"
        },
        {
         "hovertemplate": "variable=bird<br>index=%{x}<br>value=%{y}<extra></extra>",
         "legendgroup": "bird",
         "line": {
          "color": "#00cc96",
          "dash": "solid"
         },
         "marker": {
          "symbol": "circle"
         },
         "mode": "lines",
         "name": "bird",
         "orientation": "v",
         "showlegend": true,
         "type": "scatter",
         "x": [
          0,
          1,
          2,
          3,
          4,
          5,
          6,
          7,
          8,
          9,
          10,
          11,
          12
         ],
         "xaxis": "x",
         "y": [
          0.005106091499328613,
          0.00433671660721302,
          0.0036168049555271864,
          0.002584205474704504,
          0.001887833932414651,
          0.0012861224822700024,
          0.000814586179330945,
          0.0004874423611909151,
          0.0003028190112672746,
          0.00015923590399324894,
          0.000009434967978450004,
          0.000001360995156574063,
          0.000001087930968424189
         ],
         "yaxis": "y"
        },
        {
         "hovertemplate": "variable=cat<br>index=%{x}<br>value=%{y}<extra></extra>",
         "legendgroup": "cat",
         "line": {
          "color": "#ab63fa",
          "dash": "solid"
         },
         "marker": {
          "symbol": "circle"
         },
         "mode": "lines",
         "name": "cat",
         "orientation": "v",
         "showlegend": true,
         "type": "scatter",
         "x": [
          0,
          1,
          2,
          3,
          4,
          5,
          6,
          7,
          8,
          9,
          10,
          11,
          12
         ],
         "xaxis": "x",
         "y": [
          0.005041787866503,
          0.004221739247441292,
          0.00368100474588573,
          0.0030158243607729673,
          0.0023496514186263084,
          0.0017686320934444666,
          0.0013989434810355306,
          0.001181014347821474,
          0.0008569055935367942,
          0.0004939924110658467,
          0.000017459526134189218,
          0.000001405097464157734,
          0.0000011094531373601058
         ],
         "yaxis": "y"
        },
        {
         "hovertemplate": "variable=deer<br>index=%{x}<br>value=%{y}<extra></extra>",
         "legendgroup": "deer",
         "line": {
          "color": "#FFA15A",
          "dash": "solid"
         },
         "marker": {
          "symbol": "circle"
         },
         "mode": "lines",
         "name": "deer",
         "orientation": "v",
         "showlegend": true,
         "type": "scatter",
         "x": [
          0,
          1,
          2,
          3,
          4,
          5,
          6,
          7,
          8,
          9,
          10,
          11,
          12
         ],
         "xaxis": "x",
         "y": [
          0.00511311087757349,
          0.003992444835603237,
          0.0034330557100474834,
          0.0025190026499330997,
          0.001888024969957769,
          0.001311234780587256,
          0.000858094310387969,
          0.0006308646406978369,
          0.0004902862128801644,
          0.0003093550039920956,
          0.000015501442248933017,
          0.0000013392392474997905,
          9.960017450794112e-7
         ],
         "yaxis": "y"
        },
        {
         "hovertemplate": "variable=dog<br>index=%{x}<br>value=%{y}<extra></extra>",
         "legendgroup": "dog",
         "line": {
          "color": "#19d3f3",
          "dash": "solid"
         },
         "marker": {
          "symbol": "circle"
         },
         "mode": "lines",
         "name": "dog",
         "orientation": "v",
         "showlegend": true,
         "type": "scatter",
         "x": [
          0,
          1,
          2,
          3,
          4,
          5,
          6,
          7,
          8,
          9,
          10,
          11,
          12
         ],
         "xaxis": "x",
         "y": [
          0.0049536884762346745,
          0.0039191837422549725,
          0.0033261419739574194,
          0.002384109888225794,
          0.0017923510167747736,
          0.0013101005461066961,
          0.0010535594774410129,
          0.0008368907147087157,
          0.0006222377996891737,
          0.00043059198651462793,
          0.000016674448488629423,
          0.0000012846214758610586,
          0.0000010706816055972013
         ],
         "yaxis": "y"
        },
        {
         "hovertemplate": "variable=frog<br>index=%{x}<br>value=%{y}<extra></extra>",
         "legendgroup": "frog",
         "line": {
          "color": "#FF6692",
          "dash": "solid"
         },
         "marker": {
          "symbol": "circle"
         },
         "mode": "lines",
         "name": "frog",
         "orientation": "v",
         "showlegend": true,
         "type": "scatter",
         "x": [
          0,
          1,
          2,
          3,
          4,
          5,
          6,
          7,
          8,
          9,
          10,
          11,
          12
         ],
         "xaxis": "x",
         "y": [
          0.00514606386423111,
          0.0033690312411636114,
          0.0023494071792811155,
          0.0015873186057433486,
          0.0009594105067662895,
          0.000532905978616327,
          0.00025845036725513637,
          0.00010962186934193596,
          0.00005129049168317579,
          0.000019797384084085934,
          0.0000034581248655740637,
          0.0000010752764865173958,
          0.0000010344614338464453
         ],
         "yaxis": "y"
        },
        {
         "hovertemplate": "variable=horse<br>index=%{x}<br>value=%{y}<extra></extra>",
         "legendgroup": "horse",
         "line": {
          "color": "#B6E880",
          "dash": "solid"
         },
         "marker": {
          "symbol": "circle"
         },
         "mode": "lines",
         "name": "horse",
         "orientation": "v",
         "showlegend": true,
         "type": "scatter",
         "x": [
          0,
          1,
          2,
          3,
          4,
          5,
          6,
          7,
          8,
          9,
          10,
          11,
          12
         ],
         "xaxis": "x",
         "y": [
          0.005113940220326185,
          0.003882471239194274,
          0.0030375372152775526,
          0.0019001767504960299,
          0.00140627461951226,
          0.0009412704384885728,
          0.0005637717549689114,
          0.00037543114740401506,
          0.0003180000639986247,
          0.00012075010454282165,
          0.000004108374923816882,
          0.0000011199897471669829,
          0.0000010167788104809006
         ],
         "yaxis": "y"
        },
        {
         "hovertemplate": "variable=ship<br>index=%{x}<br>value=%{y}<extra></extra>",
         "legendgroup": "ship",
         "line": {
          "color": "#FF97FF",
          "dash": "solid"
         },
         "marker": {
          "symbol": "circle"
         },
         "mode": "lines",
         "name": "ship",
         "orientation": "v",
         "showlegend": true,
         "type": "scatter",
         "x": [
          0,
          1,
          2,
          3,
          4,
          5,
          6,
          7,
          8,
          9,
          10,
          11,
          12
         ],
         "xaxis": "x",
         "y": [
          0.005128285847604275,
          0.00309548107907176,
          0.0025742335710674524,
          0.0015730538871139288,
          0.0009666833793744445,
          0.0005978159024380147,
          0.0002804225077852607,
          0.00013088037667330354,
          0.00007351148087764159,
          0.000010302507689630147,
          0.000002806436668834067,
          0.0000010132092711501173,
          0.0000011053958814954967
         ],
         "yaxis": "y"
        },
        {
         "hovertemplate": "variable=truck<br>index=%{x}<br>value=%{y}<extra></extra>",
         "legendgroup": "truck",
         "line": {
          "color": "#FECB52",
          "dash": "solid"
         },
         "marker": {
          "symbol": "circle"
         },
         "mode": "lines",
         "name": "truck",
         "orientation": "v",
         "showlegend": true,
         "type": "scatter",
         "x": [
          0,
          1,
          2,
          3,
          4,
          5,
          6,
          7,
          8,
          9,
          10,
          11,
          12
         ],
         "xaxis": "x",
         "y": [
          0.005057387053966522,
          0.003582123201340437,
          0.002658384619280696,
          0.0014930287143215537,
          0.0009719170047901571,
          0.0006323314155451953,
          0.00035510887391865253,
          0.0002012306358665228,
          0.00012857532419729978,
          0.00003489137816359289,
          0.000006373616542987293,
          0.0000011651795830402989,
          0.000001009339598567749
         ],
         "yaxis": "y"
        }
       ],
       "layout": {
        "legend": {
         "title": {
          "text": "Concept"
         },
         "tracegroupgap": 0
        },
        "margin": {
         "t": 60
        },
        "template": {
         "data": {
          "bar": [
           {
            "error_x": {
             "color": "#2a3f5f"
            },
            "error_y": {
             "color": "#2a3f5f"
            },
            "marker": {
             "line": {
              "color": "#E5ECF6",
              "width": 0.5
             },
             "pattern": {
              "fillmode": "overlay",
              "size": 10,
              "solidity": 0.2
             }
            },
            "type": "bar"
           }
          ],
          "barpolar": [
           {
            "marker": {
             "line": {
              "color": "#E5ECF6",
              "width": 0.5
             },
             "pattern": {
              "fillmode": "overlay",
              "size": 10,
              "solidity": 0.2
             }
            },
            "type": "barpolar"
           }
          ],
          "carpet": [
           {
            "aaxis": {
             "endlinecolor": "#2a3f5f",
             "gridcolor": "white",
             "linecolor": "white",
             "minorgridcolor": "white",
             "startlinecolor": "#2a3f5f"
            },
            "baxis": {
             "endlinecolor": "#2a3f5f",
             "gridcolor": "white",
             "linecolor": "white",
             "minorgridcolor": "white",
             "startlinecolor": "#2a3f5f"
            },
            "type": "carpet"
           }
          ],
          "choropleth": [
           {
            "colorbar": {
             "outlinewidth": 0,
             "ticks": ""
            },
            "type": "choropleth"
           }
          ],
          "contour": [
           {
            "colorbar": {
             "outlinewidth": 0,
             "ticks": ""
            },
            "colorscale": [
             [
              0,
              "#0d0887"
             ],
             [
              0.1111111111111111,
              "#46039f"
             ],
             [
              0.2222222222222222,
              "#7201a8"
             ],
             [
              0.3333333333333333,
              "#9c179e"
             ],
             [
              0.4444444444444444,
              "#bd3786"
             ],
             [
              0.5555555555555556,
              "#d8576b"
             ],
             [
              0.6666666666666666,
              "#ed7953"
             ],
             [
              0.7777777777777778,
              "#fb9f3a"
             ],
             [
              0.8888888888888888,
              "#fdca26"
             ],
             [
              1,
              "#f0f921"
             ]
            ],
            "type": "contour"
           }
          ],
          "contourcarpet": [
           {
            "colorbar": {
             "outlinewidth": 0,
             "ticks": ""
            },
            "type": "contourcarpet"
           }
          ],
          "heatmap": [
           {
            "colorbar": {
             "outlinewidth": 0,
             "ticks": ""
            },
            "colorscale": [
             [
              0,
              "#0d0887"
             ],
             [
              0.1111111111111111,
              "#46039f"
             ],
             [
              0.2222222222222222,
              "#7201a8"
             ],
             [
              0.3333333333333333,
              "#9c179e"
             ],
             [
              0.4444444444444444,
              "#bd3786"
             ],
             [
              0.5555555555555556,
              "#d8576b"
             ],
             [
              0.6666666666666666,
              "#ed7953"
             ],
             [
              0.7777777777777778,
              "#fb9f3a"
             ],
             [
              0.8888888888888888,
              "#fdca26"
             ],
             [
              1,
              "#f0f921"
             ]
            ],
            "type": "heatmap"
           }
          ],
          "heatmapgl": [
           {
            "colorbar": {
             "outlinewidth": 0,
             "ticks": ""
            },
            "colorscale": [
             [
              0,
              "#0d0887"
             ],
             [
              0.1111111111111111,
              "#46039f"
             ],
             [
              0.2222222222222222,
              "#7201a8"
             ],
             [
              0.3333333333333333,
              "#9c179e"
             ],
             [
              0.4444444444444444,
              "#bd3786"
             ],
             [
              0.5555555555555556,
              "#d8576b"
             ],
             [
              0.6666666666666666,
              "#ed7953"
             ],
             [
              0.7777777777777778,
              "#fb9f3a"
             ],
             [
              0.8888888888888888,
              "#fdca26"
             ],
             [
              1,
              "#f0f921"
             ]
            ],
            "type": "heatmapgl"
           }
          ],
          "histogram": [
           {
            "marker": {
             "pattern": {
              "fillmode": "overlay",
              "size": 10,
              "solidity": 0.2
             }
            },
            "type": "histogram"
           }
          ],
          "histogram2d": [
           {
            "colorbar": {
             "outlinewidth": 0,
             "ticks": ""
            },
            "colorscale": [
             [
              0,
              "#0d0887"
             ],
             [
              0.1111111111111111,
              "#46039f"
             ],
             [
              0.2222222222222222,
              "#7201a8"
             ],
             [
              0.3333333333333333,
              "#9c179e"
             ],
             [
              0.4444444444444444,
              "#bd3786"
             ],
             [
              0.5555555555555556,
              "#d8576b"
             ],
             [
              0.6666666666666666,
              "#ed7953"
             ],
             [
              0.7777777777777778,
              "#fb9f3a"
             ],
             [
              0.8888888888888888,
              "#fdca26"
             ],
             [
              1,
              "#f0f921"
             ]
            ],
            "type": "histogram2d"
           }
          ],
          "histogram2dcontour": [
           {
            "colorbar": {
             "outlinewidth": 0,
             "ticks": ""
            },
            "colorscale": [
             [
              0,
              "#0d0887"
             ],
             [
              0.1111111111111111,
              "#46039f"
             ],
             [
              0.2222222222222222,
              "#7201a8"
             ],
             [
              0.3333333333333333,
              "#9c179e"
             ],
             [
              0.4444444444444444,
              "#bd3786"
             ],
             [
              0.5555555555555556,
              "#d8576b"
             ],
             [
              0.6666666666666666,
              "#ed7953"
             ],
             [
              0.7777777777777778,
              "#fb9f3a"
             ],
             [
              0.8888888888888888,
              "#fdca26"
             ],
             [
              1,
              "#f0f921"
             ]
            ],
            "type": "histogram2dcontour"
           }
          ],
          "mesh3d": [
           {
            "colorbar": {
             "outlinewidth": 0,
             "ticks": ""
            },
            "type": "mesh3d"
           }
          ],
          "parcoords": [
           {
            "line": {
             "colorbar": {
              "outlinewidth": 0,
              "ticks": ""
             }
            },
            "type": "parcoords"
           }
          ],
          "pie": [
           {
            "automargin": true,
            "type": "pie"
           }
          ],
          "scatter": [
           {
            "fillpattern": {
             "fillmode": "overlay",
             "size": 10,
             "solidity": 0.2
            },
            "type": "scatter"
           }
          ],
          "scatter3d": [
           {
            "line": {
             "colorbar": {
              "outlinewidth": 0,
              "ticks": ""
             }
            },
            "marker": {
             "colorbar": {
              "outlinewidth": 0,
              "ticks": ""
             }
            },
            "type": "scatter3d"
           }
          ],
          "scattercarpet": [
           {
            "marker": {
             "colorbar": {
              "outlinewidth": 0,
              "ticks": ""
             }
            },
            "type": "scattercarpet"
           }
          ],
          "scattergeo": [
           {
            "marker": {
             "colorbar": {
              "outlinewidth": 0,
              "ticks": ""
             }
            },
            "type": "scattergeo"
           }
          ],
          "scattergl": [
           {
            "marker": {
             "colorbar": {
              "outlinewidth": 0,
              "ticks": ""
             }
            },
            "type": "scattergl"
           }
          ],
          "scattermapbox": [
           {
            "marker": {
             "colorbar": {
              "outlinewidth": 0,
              "ticks": ""
             }
            },
            "type": "scattermapbox"
           }
          ],
          "scatterpolar": [
           {
            "marker": {
             "colorbar": {
              "outlinewidth": 0,
              "ticks": ""
             }
            },
            "type": "scatterpolar"
           }
          ],
          "scatterpolargl": [
           {
            "marker": {
             "colorbar": {
              "outlinewidth": 0,
              "ticks": ""
             }
            },
            "type": "scatterpolargl"
           }
          ],
          "scatterternary": [
           {
            "marker": {
             "colorbar": {
              "outlinewidth": 0,
              "ticks": ""
             }
            },
            "type": "scatterternary"
           }
          ],
          "surface": [
           {
            "colorbar": {
             "outlinewidth": 0,
             "ticks": ""
            },
            "colorscale": [
             [
              0,
              "#0d0887"
             ],
             [
              0.1111111111111111,
              "#46039f"
             ],
             [
              0.2222222222222222,
              "#7201a8"
             ],
             [
              0.3333333333333333,
              "#9c179e"
             ],
             [
              0.4444444444444444,
              "#bd3786"
             ],
             [
              0.5555555555555556,
              "#d8576b"
             ],
             [
              0.6666666666666666,
              "#ed7953"
             ],
             [
              0.7777777777777778,
              "#fb9f3a"
             ],
             [
              0.8888888888888888,
              "#fdca26"
             ],
             [
              1,
              "#f0f921"
             ]
            ],
            "type": "surface"
           }
          ],
          "table": [
           {
            "cells": {
             "fill": {
              "color": "#EBF0F8"
             },
             "line": {
              "color": "white"
             }
            },
            "header": {
             "fill": {
              "color": "#C8D4E3"
             },
             "line": {
              "color": "white"
             }
            },
            "type": "table"
           }
          ]
         },
         "layout": {
          "annotationdefaults": {
           "arrowcolor": "#2a3f5f",
           "arrowhead": 0,
           "arrowwidth": 1
          },
          "autotypenumbers": "strict",
          "coloraxis": {
           "colorbar": {
            "outlinewidth": 0,
            "ticks": ""
           }
          },
          "colorscale": {
           "diverging": [
            [
             0,
             "#8e0152"
            ],
            [
             0.1,
             "#c51b7d"
            ],
            [
             0.2,
             "#de77ae"
            ],
            [
             0.3,
             "#f1b6da"
            ],
            [
             0.4,
             "#fde0ef"
            ],
            [
             0.5,
             "#f7f7f7"
            ],
            [
             0.6,
             "#e6f5d0"
            ],
            [
             0.7,
             "#b8e186"
            ],
            [
             0.8,
             "#7fbc41"
            ],
            [
             0.9,
             "#4d9221"
            ],
            [
             1,
             "#276419"
            ]
           ],
           "sequential": [
            [
             0,
             "#0d0887"
            ],
            [
             0.1111111111111111,
             "#46039f"
            ],
            [
             0.2222222222222222,
             "#7201a8"
            ],
            [
             0.3333333333333333,
             "#9c179e"
            ],
            [
             0.4444444444444444,
             "#bd3786"
            ],
            [
             0.5555555555555556,
             "#d8576b"
            ],
            [
             0.6666666666666666,
             "#ed7953"
            ],
            [
             0.7777777777777778,
             "#fb9f3a"
            ],
            [
             0.8888888888888888,
             "#fdca26"
            ],
            [
             1,
             "#f0f921"
            ]
           ],
           "sequentialminus": [
            [
             0,
             "#0d0887"
            ],
            [
             0.1111111111111111,
             "#46039f"
            ],
            [
             0.2222222222222222,
             "#7201a8"
            ],
            [
             0.3333333333333333,
             "#9c179e"
            ],
            [
             0.4444444444444444,
             "#bd3786"
            ],
            [
             0.5555555555555556,
             "#d8576b"
            ],
            [
             0.6666666666666666,
             "#ed7953"
            ],
            [
             0.7777777777777778,
             "#fb9f3a"
            ],
            [
             0.8888888888888888,
             "#fdca26"
            ],
            [
             1,
             "#f0f921"
            ]
           ]
          },
          "colorway": [
           "#636efa",
           "#EF553B",
           "#00cc96",
           "#ab63fa",
           "#FFA15A",
           "#19d3f3",
           "#FF6692",
           "#B6E880",
           "#FF97FF",
           "#FECB52"
          ],
          "font": {
           "color": "#2a3f5f"
          },
          "geo": {
           "bgcolor": "white",
           "lakecolor": "white",
           "landcolor": "#E5ECF6",
           "showlakes": true,
           "showland": true,
           "subunitcolor": "white"
          },
          "hoverlabel": {
           "align": "left"
          },
          "hovermode": "closest",
          "mapbox": {
           "style": "light"
          },
          "paper_bgcolor": "white",
          "plot_bgcolor": "#E5ECF6",
          "polar": {
           "angularaxis": {
            "gridcolor": "white",
            "linecolor": "white",
            "ticks": ""
           },
           "bgcolor": "#E5ECF6",
           "radialaxis": {
            "gridcolor": "white",
            "linecolor": "white",
            "ticks": ""
           }
          },
          "scene": {
           "xaxis": {
            "backgroundcolor": "#E5ECF6",
            "gridcolor": "white",
            "gridwidth": 2,
            "linecolor": "white",
            "showbackground": true,
            "ticks": "",
            "zerolinecolor": "white"
           },
           "yaxis": {
            "backgroundcolor": "#E5ECF6",
            "gridcolor": "white",
            "gridwidth": 2,
            "linecolor": "white",
            "showbackground": true,
            "ticks": "",
            "zerolinecolor": "white"
           },
           "zaxis": {
            "backgroundcolor": "#E5ECF6",
            "gridcolor": "white",
            "gridwidth": 2,
            "linecolor": "white",
            "showbackground": true,
            "ticks": "",
            "zerolinecolor": "white"
           }
          },
          "shapedefaults": {
           "line": {
            "color": "#2a3f5f"
           }
          },
          "ternary": {
           "aaxis": {
            "gridcolor": "white",
            "linecolor": "white",
            "ticks": ""
           },
           "baxis": {
            "gridcolor": "white",
            "linecolor": "white",
            "ticks": ""
           },
           "bgcolor": "#E5ECF6",
           "caxis": {
            "gridcolor": "white",
            "linecolor": "white",
            "ticks": ""
           }
          },
          "title": {
           "x": 0.05
          },
          "xaxis": {
           "automargin": true,
           "gridcolor": "white",
           "linecolor": "white",
           "ticks": "",
           "title": {
            "standoff": 15
           },
           "zerolinecolor": "white",
           "zerolinewidth": 2
          },
          "yaxis": {
           "automargin": true,
           "gridcolor": "white",
           "linecolor": "white",
           "ticks": "",
           "title": {
            "standoff": 15
           },
           "zerolinecolor": "white",
           "zerolinewidth": 2
          }
         }
        },
        "title": {
         "text": "CAV Training Losses"
        },
        "xaxis": {
         "anchor": "y",
         "domain": [
          0,
          1
         ],
         "title": {
          "text": "Layer"
         }
        },
        "yaxis": {
         "anchor": "x",
         "domain": [
          0,
          1
         ],
         "title": {
          "text": "Loss"
         }
        }
       }
      }
     },
     "metadata": {},
     "output_type": "display_data"
    }
   ],
   "source": [
    "cumulative_losses={}\n",
    "\n",
    "for layer in range(13):\n",
    "    layer_losses_file=open(f'{external_path}\\\\concept_activation_vectors\\\\{layer}\\\\training_losses','rb')\n",
    "    layer_losses=pickle.load(layer_losses_file)\n",
    "    layer_losses_file.close()\n",
    "\n",
    "    for relation in layer_losses.keys():\n",
    "        if relation in cumulative_losses.keys():\n",
    "            cumulative_losses[relation]=cumulative_losses[relation]+[layer_losses[relation]]\n",
    "        else:\n",
    "            cumulative_losses[relation]=[layer_losses[relation]]\n",
    "\n",
    "cumulative_losses_df=pd.DataFrame.from_dict(cumulative_losses)\n",
    "\n",
    "fig=px.line(cumulative_losses_df)\n",
    "\n",
    "fig.update_layout(title=\"CAV Training Losses\",xaxis_title=\"Layer\",yaxis_title=\"Loss\",legend_title=\"Concept\")\n",
    "\n",
    "fig.show()"
   ]
  },
  {
   "cell_type": "code",
   "execution_count": 8,
   "metadata": {},
   "outputs": [
    {
     "name": "stderr",
     "output_type": "stream",
     "text": [
      "...processing truck->ship (9/10) layer 12...: 100%|██████████| 10/10 [1:20:34<00:00, 483.43s/it]        \n"
     ]
    }
   ],
   "source": [
    "for layer in range(0,13):\n",
    "    if not(os.path.exists(f'{external_path}\\\\relative_concept_activation_vectors\\\\{layer}')):\n",
    "        os.mkdir(f'{external_path}\\\\relative_concept_activation_vectors\\\\{layer}')\n",
    "\n",
    "losses={}\n",
    "\n",
    "categories=os.listdir(f'{external_path}\\\\class_token_activations')\n",
    "progress_bar=tqdm(categories)\n",
    "N=len(categories)\n",
    "for cat_1 in progress_bar:\n",
    "    for k,cat_2 in enumerate(categories):\n",
    "        if cat_1==cat_2:\n",
    "            continue\n",
    "        for layer in range(0,13):\n",
    "            progress_bar.set_description(f'...processing {cat_1}->{cat_2} ({k+1}/{N}) layer {layer}...')\n",
    "            dataset,num_cat_act,num_opp_cat_act=get_dataset(cat_1,[cat_2],layer)\n",
    "            model,loss,epoch=train(dataset)\n",
    "            cav=concept_vector(model)\n",
    "            torch.save(cav,f'{external_path}\\\\relative_concept_activation_vectors\\\\{layer}\\\\{cat_1}_{cat_2}.pt')\n",
    "\n",
    "            if layer in losses.keys():\n",
    "                losses[layer][cat_1+'_'+cat_2]=loss.item()\n",
    "            else:\n",
    "                losses[layer]={cat_1+'_'+cat_2:loss.item()}\n",
    "\n",
    "for layer in range(13):\n",
    "    losses_file=open(f'{external_path}\\\\relative_concept_activation_vectors\\\\{layer}\\\\training_losses','wb')\n",
    "    pickle.dump(losses[layer],losses_file)\n",
    "    losses_file.close()"
   ]
  },
  {
   "cell_type": "code",
   "execution_count": 37,
   "metadata": {},
   "outputs": [
    {
     "data": {
      "image/png": "[encoded data removed]",
      "text/plain": [
       "<Figure size 1000x1200 with 2 Axes>"
      ]
     },
     "metadata": {},
     "output_type": "display_data"
    }
   ],
   "source": [
    "layer=11\n",
    "category_to_category=os.listdir(f'{external_path}\\\\relative_concept_activation_vectors\\\\{layer}')\n",
    "category_to_category=[c_to_c for c_to_c in category_to_category if 'training' not in c_to_c]\n",
    "N=len(category_to_category)\n",
    "dots=np.ones((N,N))\n",
    "for n,c_to_c1 in enumerate(category_to_category):\n",
    "    rel_cav1=torch.load(f'{external_path}\\\\relative_concept_activation_vectors\\\\{layer}\\\\{c_to_c1}')\n",
    "    for m,c_to_c2 in enumerate(category_to_category):\n",
    "        rel_cav2=torch.load(f'{external_path}\\\\relative_concept_activation_vectors\\\\{layer}\\\\{c_to_c2}')\n",
    "        dots[n,m]=torch.dot(rel_cav1,rel_cav2)\n",
    "\n",
    "fig,ax=plt.subplots(nrows=1,ncols=1)\n",
    "fig.set_figheight(12)\n",
    "fig.set_figwidth(10)\n",
    "ax.set_yticks(ticks=np.arange(N),labels=[c_to_c.split('.')[0] for c_to_c in category_to_category],fontsize=8)\n",
    "ax.set_xticks(ticks=np.arange(N),labels=[c_to_c.split('.')[0] for c_to_c in category_to_category],rotation='vertical',fontsize=8)\n",
    "im=ax.imshow(dots,vmin=-1, vmax=1)\n",
    "fig.colorbar(im,shrink=0.5)\n",
    "plt.show()"
   ]
  },
  {
   "cell_type": "code",
   "execution_count": 10,
   "metadata": {},
   "outputs": [
    {
     "data": {
      "application/vnd.plotly.v1+json": {
       "config": {
        "plotlyServerURL": "https://plot.ly"
       },
       "data": [
        {
         "hovertemplate": "variable=airplane_automobile<br>index=%{x}<br>value=%{y}<extra></extra>",
         "legendgroup": "airplane_automobile",
         "line": {
          "color": "#636efa",
          "dash": "solid"
         },
         "marker": {
          "symbol": "circle"
         },
         "mode": "lines",
         "name": "airplane_automobile",
         "showlegend": true,
         "type": "scattergl",
         "x": [
          0,
          1,
          2,
          3,
          4,
          5,
          6,
          7,
          8,
          9,
          10,
          11,
          12
         ],
         "xaxis": "x",
         "y": [
          0.021906046196818352,
          0.011715947650372982,
          0.00852628517895937,
          0.00429754750803113,
          0.0014524623984470963,
          0.00043066474609076977,
          0.00012253008026164025,
          0.00003640120485215448,
          0.000056004839279921725,
          0.00003343927892274223,
          0.000017100443074014038,
          0.000011356325558153912,
          0.000009967670848709531
         ],
         "yaxis": "y"
        },
        {
         "hovertemplate": "variable=airplane_bird<br>index=%{x}<br>value=%{y}<extra></extra>",
         "legendgroup": "airplane_bird",
         "line": {
          "color": "#EF553B",
          "dash": "solid"
         },
         "marker": {
          "symbol": "circle"
         },
         "mode": "lines",
         "name": "airplane_bird",
         "showlegend": true,
         "type": "scattergl",
         "x": [
          0,
          1,
          2,
          3,
          4,
          5,
          6,
          7,
          8,
          9,
          10,
          11,
          12
         ],
         "xaxis": "x",
         "y": [
          0.021913111209869385,
          0.012664834037423134,
          0.00905591994524002,
          0.004627631977200508,
          0.001911022700369358,
          0.0005387892015278339,
          0.00017211823433171958,
          0.000049367445171810687,
          0.0001035251552821137,
          0.00005347344995243475,
          0.000023722754121990874,
          0.00001005681770038791,
          0.00001025433903123485
         ],
         "yaxis": "y"
        },
        {
         "hovertemplate": "variable=airplane_cat<br>index=%{x}<br>value=%{y}<extra></extra>",
         "legendgroup": "airplane_cat",
         "line": {
          "color": "#00cc96",
          "dash": "solid"
         },
         "marker": {
          "symbol": "circle"
         },
         "mode": "lines",
         "name": "airplane_cat",
         "showlegend": true,
         "type": "scattergl",
         "x": [
          0,
          1,
          2,
          3,
          4,
          5,
          6,
          7,
          8,
          9,
          10,
          11,
          12
         ],
         "xaxis": "x",
         "y": [
          0.02172745205461979,
          0.00908643752336502,
          0.005675139836966991,
          0.002812696620821953,
          0.0008814670145511627,
          0.00023064197739586234,
          0.00006316942017292604,
          0.000028634445698116906,
          0.000020871704691671766,
          0.0000174587476067245,
          0.000012776407857018057,
          0.000010851902516151313,
          0.000010594755622150842
         ],
         "yaxis": "y"
        },
        {
         "hovertemplate": "variable=airplane_deer<br>index=%{x}<br>value=%{y}<extra></extra>",
         "legendgroup": "airplane_deer",
         "line": {
          "color": "#ab63fa",
          "dash": "solid"
         },
         "marker": {
          "symbol": "circle"
         },
         "mode": "lines",
         "name": "airplane_deer",
         "showlegend": true,
         "type": "scattergl",
         "x": [
          0,
          1,
          2,
          3,
          4,
          5,
          6,
          7,
          8,
          9,
          10,
          11,
          12
         ],
         "xaxis": "x",
         "y": [
          0.02188224159181118,
          0.008345055393874645,
          0.005232895724475384,
          0.0021371087059378624,
          0.00065603107213974,
          0.00015711152809672058,
          0.00004638724203687161,
          0.00003471950549283065,
          0.000023471406166208908,
          0.00001741541564115323,
          0.000017357466276735067,
          0.000010809617378981784,
          0.000009051133929460775
         ],
         "yaxis": "y"
        },
        {
         "hovertemplate": "variable=airplane_dog<br>index=%{x}<br>value=%{y}<extra></extra>",
         "legendgroup": "airplane_dog",
         "line": {
          "color": "#FFA15A",
          "dash": "solid"
         },
         "marker": {
          "symbol": "circle"
         },
         "mode": "lines",
         "name": "airplane_dog",
         "showlegend": true,
         "type": "scattergl",
         "x": [
          0,
          1,
          2,
          3,
          4,
          5,
          6,
          7,
          8,
          9,
          10,
          11,
          12
         ],
         "xaxis": "x",
         "y": [
          0.02202652022242546,
          0.007833292707800865,
          0.004618708044290543,
          0.002760220319032669,
          0.00043062272015959024,
          0.000236554624279961,
          0.00006250854494282976,
          0.000044993972551310435,
          0.000031210121960612014,
          0.000023394173695123754,
          0.000014851340893073939,
          0.000011056925359298475,
          0.00001021890238916967
         ],
         "yaxis": "y"
        },
        {
         "hovertemplate": "variable=airplane_frog<br>index=%{x}<br>value=%{y}<extra></extra>",
         "legendgroup": "airplane_frog",
         "line": {
          "color": "#19d3f3",
          "dash": "solid"
         },
         "marker": {
          "symbol": "circle"
         },
         "mode": "lines",
         "name": "airplane_frog",
         "showlegend": true,
         "type": "scattergl",
         "x": [
          0,
          1,
          2,
          3,
          4,
          5,
          6,
          7,
          8,
          9,
          10,
          11,
          12
         ],
         "xaxis": "x",
         "y": [
          0.02178657427430153,
          0.006048985291272402,
          0.0034175110049545765,
          0.0015130083775147796,
          0.0003014794201590121,
          0.00008190851076506078,
          0.000036732708394993097,
          0.00002135907743650023,
          0.000022253017959883437,
          0.000023207310732686892,
          0.000015578414604533464,
          0.000009737590517033823,
          0.000010314402061339933
         ],
         "yaxis": "y"
        },
        {
         "hovertemplate": "variable=airplane_horse<br>index=%{x}<br>value=%{y}<extra></extra>",
         "legendgroup": "airplane_horse",
         "line": {
          "color": "#FF6692",
          "dash": "solid"
         },
         "marker": {
          "symbol": "circle"
         },
         "mode": "lines",
         "name": "airplane_horse",
         "showlegend": true,
         "type": "scattergl",
         "x": [
          0,
          1,
          2,
          3,
          4,
          5,
          6,
          7,
          8,
          9,
          10,
          11,
          12
         ],
         "xaxis": "x",
         "y": [
          0.021895892918109894,
          0.008000530302524567,
          0.005711006931960583,
          0.002155896509066224,
          0.0007879624026827514,
          0.0003483377513475716,
          0.00008355800673598424,
          0.00006378243415383622,
          0.0000380820274585858,
          0.000015767082004458643,
          0.000012495529517764226,
          0.00001022026663122233,
          0.000009474419130128808
         ],
         "yaxis": "y"
        },
        {
         "hovertemplate": "variable=airplane_ship<br>index=%{x}<br>value=%{y}<extra></extra>",
         "legendgroup": "airplane_ship",
         "line": {
          "color": "#B6E880",
          "dash": "solid"
         },
         "marker": {
          "symbol": "circle"
         },
         "mode": "lines",
         "name": "airplane_ship",
         "showlegend": true,
         "type": "scattergl",
         "x": [
          0,
          1,
          2,
          3,
          4,
          5,
          6,
          7,
          8,
          9,
          10,
          11,
          12
         ],
         "xaxis": "x",
         "y": [
          0.02185673825442791,
          0.01681537553668022,
          0.012784591875970364,
          0.006943866610527039,
          0.004134737886488438,
          0.0024788505397737026,
          0.0010390998795628548,
          0.0004365180793683976,
          0.0002384455583523959,
          0.00008019403321668506,
          0.000019859106032527052,
          0.000011587165317905601,
          0.000009972445695893839
         ],
         "yaxis": "y"
        },
        {
         "hovertemplate": "variable=airplane_truck<br>index=%{x}<br>value=%{y}<extra></extra>",
         "legendgroup": "airplane_truck",
         "line": {
          "color": "#FF97FF",
          "dash": "solid"
         },
         "marker": {
          "symbol": "circle"
         },
         "mode": "lines",
         "name": "airplane_truck",
         "showlegend": true,
         "type": "scattergl",
         "x": [
          0,
          1,
          2,
          3,
          4,
          5,
          6,
          7,
          8,
          9,
          10,
          11,
          12
         ],
         "xaxis": "x",
         "y": [
          0.02200736291706562,
          0.011924766935408115,
          0.00836609024554491,
          0.004506091121584177,
          0.0020282871555536985,
          0.001089756959117949,
          0.0005562461446970701,
          0.0013083908706903458,
          0.00021732096502091736,
          0.00009078362927539274,
          0.000024255470634670928,
          0.000010959382052533329,
          0.000009511956704955082
         ],
         "yaxis": "y"
        },
        {
         "hovertemplate": "variable=automobile_airplane<br>index=%{x}<br>value=%{y}<extra></extra>",
         "legendgroup": "automobile_airplane",
         "line": {
          "color": "#FECB52",
          "dash": "solid"
         },
         "marker": {
          "symbol": "circle"
         },
         "mode": "lines",
         "name": "automobile_airplane",
         "showlegend": true,
         "type": "scattergl",
         "x": [
          0,
          1,
          2,
          3,
          4,
          5,
          6,
          7,
          8,
          9,
          10,
          11,
          12
         ],
         "xaxis": "x",
         "y": [
          0.02188262529671192,
          0.011776142753660679,
          0.008496382273733616,
          0.0045759715139865875,
          0.001434579025954008,
          0.0004328516370151192,
          0.0001177559097413905,
          0.00003448419738560915,
          0.00003133756035822444,
          0.000035382938222028315,
          0.000018409078620607033,
          0.000010918510270130355,
          0.00001045319459080929
         ],
         "yaxis": "y"
        },
        {
         "hovertemplate": "variable=automobile_bird<br>index=%{x}<br>value=%{y}<extra></extra>",
         "legendgroup": "automobile_bird",
         "line": {
          "color": "#636efa",
          "dash": "solid"
         },
         "marker": {
          "symbol": "circle"
         },
         "mode": "lines",
         "name": "automobile_bird",
         "showlegend": true,
         "type": "scattergl",
         "x": [
          0,
          1,
          2,
          3,
          4,
          5,
          6,
          7,
          8,
          9,
          10,
          11,
          12
         ],
         "xaxis": "x",
         "y": [
          0.021922869607806206,
          0.009484078735113144,
          0.005339625291526318,
          0.001135246711783111,
          0.000231469253776595,
          0.00003546944208210334,
          0.000019646098735393025,
          0.00001692098521743901,
          0.000017628031855565496,
          0.000013605921594717074,
          0.000012121431609557476,
          0.000009591194611857645,
          0.000008248977792391088
         ],
         "yaxis": "y"
        },
        {
         "hovertemplate": "variable=automobile_cat<br>index=%{x}<br>value=%{y}<extra></extra>",
         "legendgroup": "automobile_cat",
         "line": {
          "color": "#EF553B",
          "dash": "solid"
         },
         "marker": {
          "symbol": "circle"
         },
         "mode": "lines",
         "name": "automobile_cat",
         "showlegend": true,
         "type": "scattergl",
         "x": [
          0,
          1,
          2,
          3,
          4,
          5,
          6,
          7,
          8,
          9,
          10,
          11,
          12
         ],
         "xaxis": "x",
         "y": [
          0.021678749471902847,
          0.010507757775485516,
          0.006160349119454622,
          0.0020531376358121634,
          0.0004402088525239378,
          0.00007587944128317758,
          0.00002353406307520345,
          0.000015083225662237965,
          0.00001494086336606415,
          0.00001980883644137066,
          0.000013112173292029183,
          0.000010688269867387135,
          0.000008983994121081196
         ],
         "yaxis": "y"
        },
        {
         "hovertemplate": "variable=automobile_deer<br>index=%{x}<br>value=%{y}<extra></extra>",
         "legendgroup": "automobile_deer",
         "line": {
          "color": "#00cc96",
          "dash": "solid"
         },
         "marker": {
          "symbol": "circle"
         },
         "mode": "lines",
         "name": "automobile_deer",
         "showlegend": true,
         "type": "scattergl",
         "x": [
          0,
          1,
          2,
          3,
          4,
          5,
          6,
          7,
          8,
          9,
          10,
          11,
          12
         ],
         "xaxis": "x",
         "y": [
          0.02178306132555008,
          0.007695578970015049,
          0.004270965699106455,
          0.0009000547579489648,
          0.0001207898385473527,
          0.00003225554246455431,
          0.000016845762729644775,
          0.00001546174826216884,
          0.000013912705071561504,
          0.000013505265087587759,
          0.000010949715942842886,
          0.000009072788998309989,
          0.000010246820238535292
         ],
         "yaxis": "y"
        },
        {
         "hovertemplate": "variable=automobile_dog<br>index=%{x}<br>value=%{y}<extra></extra>",
         "legendgroup": "automobile_dog",
         "line": {
          "color": "#ab63fa",
          "dash": "solid"
         },
         "marker": {
          "symbol": "circle"
         },
         "mode": "lines",
         "name": "automobile_dog",
         "showlegend": true,
         "type": "scattergl",
         "x": [
          0,
          1,
          2,
          3,
          4,
          5,
          6,
          7,
          8,
          9,
          10,
          11,
          12
         ],
         "xaxis": "x",
         "y": [
          0.02201700210571289,
          0.008695258758962154,
          0.005049930419772863,
          0.0011028354056179523,
          0.00023589689226355404,
          0.00009383778524352238,
          0.00003829873094218783,
          0.00002629359187267255,
          0.00001835834154917393,
          0.00001765046181390062,
          0.000012029025128867943,
          0.000009607341780792922,
          0.000009855306416284293
         ],
         "yaxis": "y"
        },
        {
         "hovertemplate": "variable=automobile_frog<br>index=%{x}<br>value=%{y}<extra></extra>",
         "legendgroup": "automobile_frog",
         "line": {
          "color": "#FFA15A",
          "dash": "solid"
         },
         "marker": {
          "symbol": "circle"
         },
         "mode": "lines",
         "name": "automobile_frog",
         "showlegend": true,
         "type": "scattergl",
         "x": [
          0,
          1,
          2,
          3,
          4,
          5,
          6,
          7,
          8,
          9,
          10,
          11,
          12
         ],
         "xaxis": "x",
         "y": [
          0.021734798327088356,
          0.007283547893166542,
          0.002747215563431382,
          0.0007271071663126349,
          0.00009621985373087227,
          0.000028391503292368725,
          0.000020016686903545633,
          0.000015099472875590436,
          0.000012028684068354778,
          0.00001448686725780135,
          0.00001103703925764421,
          0.00000835193623061059,
          0.000008769660780671984
         ],
         "yaxis": "y"
        },
        {
         "hovertemplate": "variable=automobile_horse<br>index=%{x}<br>value=%{y}<extra></extra>",
         "legendgroup": "automobile_horse",
         "line": {
          "color": "#19d3f3",
          "dash": "solid"
         },
         "marker": {
          "symbol": "circle"
         },
         "mode": "lines",
         "name": "automobile_horse",
         "showlegend": true,
         "type": "scattergl",
         "x": [
          0,
          1,
          2,
          3,
          4,
          5,
          6,
          7,
          8,
          9,
          10,
          11,
          12
         ],
         "xaxis": "x",
         "y": [
          0.021823197603225708,
          0.010000430047512054,
          0.006248569115996361,
          0.0012718455400317907,
          0.0003158207982778549,
          0.000051501770940376446,
          0.00003367437602719292,
          0.000021241297872620635,
          0.000014994155208114535,
          0.000013967853192298207,
          0.000012528231309261173,
          0.000010681597814254928,
          0.00000995068512565922
         ],
         "yaxis": "y"
        },
        {
         "hovertemplate": "variable=automobile_ship<br>index=%{x}<br>value=%{y}<extra></extra>",
         "legendgroup": "automobile_ship",
         "line": {
          "color": "#FF6692",
          "dash": "solid"
         },
         "marker": {
          "symbol": "circle"
         },
         "mode": "lines",
         "name": "automobile_ship",
         "showlegend": true,
         "type": "scattergl",
         "x": [
          0,
          1,
          2,
          3,
          4,
          5,
          6,
          7,
          8,
          9,
          10,
          11,
          12
         ],
         "xaxis": "x",
         "y": [
          0.02185462787747383,
          0.012129892595112324,
          0.008008040487766266,
          0.0033796890638768673,
          0.0014101192355155945,
          0.0006833148654550314,
          0.0002786373079288751,
          0.0001064863899955526,
          0.00006873480015201494,
          0.000022473033823189326,
          0.000014511149856843986,
          0.000008933166100177914,
          0.000010396594916528556
         ],
         "yaxis": "y"
        },
        {
         "hovertemplate": "variable=automobile_truck<br>index=%{x}<br>value=%{y}<extra></extra>",
         "legendgroup": "automobile_truck",
         "line": {
          "color": "#B6E880",
          "dash": "solid"
         },
         "marker": {
          "symbol": "circle"
         },
         "mode": "lines",
         "name": "automobile_truck",
         "showlegend": true,
         "type": "scattergl",
         "x": [
          0,
          1,
          2,
          3,
          4,
          5,
          6,
          7,
          8,
          9,
          10,
          11,
          12
         ],
         "xaxis": "x",
         "y": [
          0.021960681304335594,
          0.018329329788684845,
          0.014080329798161983,
          0.0076210228726267815,
          0.004283958580344915,
          0.0024418006651103497,
          0.0015270757721737027,
          0.0008048435556702316,
          0.000646483211312443,
          0.00027127686189487576,
          0.00010648756142472848,
          0.000015321324099204503,
          0.000010621492037898861
         ],
         "yaxis": "y"
        },
        {
         "hovertemplate": "variable=bird_airplane<br>index=%{x}<br>value=%{y}<extra></extra>",
         "legendgroup": "bird_airplane",
         "line": {
          "color": "#FF97FF",
          "dash": "solid"
         },
         "marker": {
          "symbol": "circle"
         },
         "mode": "lines",
         "name": "bird_airplane",
         "showlegend": true,
         "type": "scattergl",
         "x": [
          0,
          1,
          2,
          3,
          4,
          5,
          6,
          7,
          8,
          9,
          10,
          11,
          12
         ],
         "xaxis": "x",
         "y": [
          0.021959124132990837,
          0.012648518197238445,
          0.008941837586462498,
          0.00462526036426425,
          0.001859702984802425,
          0.0006143030477687716,
          0.00017893518088385463,
          0.00009419161506230012,
          0.00006358435348374769,
          0.00002512020910216961,
          0.000024499595383531414,
          0.000011855690900119953,
          0.000009999846042774152
         ],
         "yaxis": "y"
        },
        {
         "hovertemplate": "variable=bird_automobile<br>index=%{x}<br>value=%{y}<extra></extra>",
         "legendgroup": "bird_automobile",
         "line": {
          "color": "#FECB52",
          "dash": "solid"
         },
         "marker": {
          "symbol": "circle"
         },
         "mode": "lines",
         "name": "bird_automobile",
         "showlegend": true,
         "type": "scattergl",
         "x": [
          0,
          1,
          2,
          3,
          4,
          5,
          6,
          7,
          8,
          9,
          10,
          11,
          12
         ],
         "xaxis": "x",
         "y": [
          0.021891163662075996,
          0.009371720254421234,
          0.005451965145766735,
          0.0011248254450038075,
          0.00023465264530386776,
          0.00004447622995940037,
          0.00001813474955270067,
          0.000018144874047720805,
          0.000017125803424278274,
          0.00001311530559178209,
          0.0000123924564832123,
          0.000010582773938949686,
          0.000010298474990122486
         ],
         "yaxis": "y"
        },
        {
         "hovertemplate": "variable=bird_cat<br>index=%{x}<br>value=%{y}<extra></extra>",
         "legendgroup": "bird_cat",
         "line": {
          "color": "#636efa",
          "dash": "solid"
         },
         "marker": {
          "symbol": "circle"
         },
         "mode": "lines",
         "name": "bird_cat",
         "showlegend": true,
         "type": "scattergl",
         "x": [
          0,
          1,
          2,
          3,
          4,
          5,
          6,
          7,
          8,
          9,
          10,
          11,
          12
         ],
         "xaxis": "x",
         "y": [
          0.02172379195690155,
          0.016123997047543526,
          0.013143637217581272,
          0.0076062860898673534,
          0.004357901867479086,
          0.0025460394099354744,
          0.0009799603139981627,
          0.0007052433211356401,
          0.00038012207369320095,
          0.0001425733498763293,
          0.000017996799215325154,
          0.000012603748473338783,
          0.000009946718819264788
         ],
         "yaxis": "y"
        },
        {
         "hovertemplate": "variable=bird_deer<br>index=%{x}<br>value=%{y}<extra></extra>",
         "legendgroup": "bird_deer",
         "line": {
          "color": "#EF553B",
          "dash": "solid"
         },
         "marker": {
          "symbol": "circle"
         },
         "mode": "lines",
         "name": "bird_deer",
         "showlegend": true,
         "type": "scattergl",
         "x": [
          0,
          1,
          2,
          3,
          4,
          5,
          6,
          7,
          8,
          9,
          10,
          11,
          12
         ],
         "xaxis": "x",
         "y": [
          0.021870316937565804,
          0.01827554777264595,
          0.013420222327113152,
          0.008385835215449333,
          0.005623758304864168,
          0.0037232900504022837,
          0.002053922275081277,
          0.001030660467222333,
          0.0006191576248966157,
          0.00024816207587718964,
          0.00004046842877869494,
          0.000012573817002703436,
          0.000009483018402534071
         ],
         "yaxis": "y"
        },
        {
         "hovertemplate": "variable=bird_dog<br>index=%{x}<br>value=%{y}<extra></extra>",
         "legendgroup": "bird_dog",
         "line": {
          "color": "#00cc96",
          "dash": "solid"
         },
         "marker": {
          "symbol": "circle"
         },
         "mode": "lines",
         "name": "bird_dog",
         "showlegend": true,
         "type": "scattergl",
         "x": [
          0,
          1,
          2,
          3,
          4,
          5,
          6,
          7,
          8,
          9,
          10,
          11,
          12
         ],
         "xaxis": "x",
         "y": [
          0.02199883759021759,
          0.016243528574705124,
          0.013075621798634529,
          0.006851350888609886,
          0.003394152270630002,
          0.001385216019116342,
          0.0005019027157686651,
          0.0003184346132911742,
          0.00018765154527500272,
          0.0001803960622055456,
          0.000025794974135351367,
          0.000012548721315397415,
          0.000010482797733857296
         ],
         "yaxis": "y"
        },
        {
         "hovertemplate": "variable=bird_frog<br>index=%{x}<br>value=%{y}<extra></extra>",
         "legendgroup": "bird_frog",
         "line": {
          "color": "#ab63fa",
          "dash": "solid"
         },
         "marker": {
          "symbol": "circle"
         },
         "mode": "lines",
         "name": "bird_frog",
         "showlegend": true,
         "type": "scattergl",
         "x": [
          0,
          1,
          2,
          3,
          4,
          5,
          6,
          7,
          8,
          9,
          10,
          11,
          12
         ],
         "xaxis": "x",
         "y": [
          0.02176019363105297,
          0.01494659949094057,
          0.01084123458713293,
          0.006126350723206997,
          0.003386210650205612,
          0.0014424438122659922,
          0.0005344304954633117,
          0.0001880520721897483,
          0.00007548904250143096,
          0.000038104924897197634,
          0.00001961960515473038,
          0.000011815731340902857,
          0.000010256262612529099
         ],
         "yaxis": "y"
        },
        {
         "hovertemplate": "variable=bird_horse<br>index=%{x}<br>value=%{y}<extra></extra>",
         "legendgroup": "bird_horse",
         "line": {
          "color": "#FFA15A",
          "dash": "solid"
         },
         "marker": {
          "symbol": "circle"
         },
         "mode": "lines",
         "name": "bird_horse",
         "showlegend": true,
         "type": "scattergl",
         "x": [
          0,
          1,
          2,
          3,
          4,
          5,
          6,
          7,
          8,
          9,
          10,
          11,
          12
         ],
         "xaxis": "x",
         "y": [
          0.0218333899974823,
          0.014480357989668846,
          0.009885823354125023,
          0.0049838474951684475,
          0.002814220730215311,
          0.0012642394285649061,
          0.00046965040382929146,
          0.00018371995247434825,
          0.00009745611168909818,
          0.000057248878874816,
          0.00002954973024316132,
          0.000010962244232359808,
          0.000009777379091246985
         ],
         "yaxis": "y"
        },
        {
         "hovertemplate": "variable=bird_ship<br>index=%{x}<br>value=%{y}<extra></extra>",
         "legendgroup": "bird_ship",
         "line": {
          "color": "#19d3f3",
          "dash": "solid"
         },
         "marker": {
          "symbol": "circle"
         },
         "mode": "lines",
         "name": "bird_ship",
         "showlegend": true,
         "type": "scattergl",
         "x": [
          0,
          1,
          2,
          3,
          4,
          5,
          6,
          7,
          8,
          9,
          10,
          11,
          12
         ],
         "xaxis": "x",
         "y": [
          0.021838512271642685,
          0.00901061948388815,
          0.005752944387495518,
          0.0017096989322453737,
          0.00045905873412266374,
          0.0000927726796362549,
          0.000030112385502434336,
          0.00002947719804069493,
          0.000022285026716417633,
          0.000019656148651847616,
          0.000014708219168824144,
          0.000010309617209713906,
          0.000009512272299616598
         ],
         "yaxis": "y"
        },
        {
         "hovertemplate": "variable=bird_truck<br>index=%{x}<br>value=%{y}<extra></extra>",
         "legendgroup": "bird_truck",
         "line": {
          "color": "#FF6692",
          "dash": "solid"
         },
         "marker": {
          "symbol": "circle"
         },
         "mode": "lines",
         "name": "bird_truck",
         "showlegend": true,
         "type": "scattergl",
         "x": [
          0,
          1,
          2,
          3,
          4,
          5,
          6,
          7,
          8,
          9,
          10,
          11,
          12
         ],
         "xaxis": "x",
         "y": [
          0.022040894255042076,
          0.009460091590881348,
          0.004523733165115118,
          0.0008341814973391593,
          0.00031082823988981545,
          0.00010700085840653628,
          0.00004781853567692451,
          0.000027134676201967523,
          0.000019701081328094006,
          0.000017616725017433055,
          0.000011864161933772266,
          0.000009684506039775442,
          0.000008877508662408218
         ],
         "yaxis": "y"
        },
        {
         "hovertemplate": "variable=cat_airplane<br>index=%{x}<br>value=%{y}<extra></extra>",
         "legendgroup": "cat_airplane",
         "line": {
          "color": "#B6E880",
          "dash": "solid"
         },
         "marker": {
          "symbol": "circle"
         },
         "mode": "lines",
         "name": "cat_airplane",
         "showlegend": true,
         "type": "scattergl",
         "x": [
          0,
          1,
          2,
          3,
          4,
          5,
          6,
          7,
          8,
          9,
          10,
          11,
          12
         ],
         "xaxis": "x",
         "y": [
          0.021767599508166313,
          0.008966374211013317,
          0.005654704757034779,
          0.0028328311163932085,
          0.0008257494773715734,
          0.00024143468181136996,
          0.00007733692473266274,
          0.000030582854378735647,
          0.000019889164832420647,
          0.00001664745832385961,
          0.00001618021087779198,
          0.000010154453775612637,
          0.00001037731362885097
         ],
         "yaxis": "y"
        },
        {
         "hovertemplate": "variable=cat_automobile<br>index=%{x}<br>value=%{y}<extra></extra>",
         "legendgroup": "cat_automobile",
         "line": {
          "color": "#FF97FF",
          "dash": "solid"
         },
         "marker": {
          "symbol": "circle"
         },
         "mode": "lines",
         "name": "cat_automobile",
         "showlegend": true,
         "type": "scattergl",
         "x": [
          0,
          1,
          2,
          3,
          4,
          5,
          6,
          7,
          8,
          9,
          10,
          11,
          12
         ],
         "xaxis": "x",
         "y": [
          0.0217254851013422,
          0.010566148906946182,
          0.006083786021918058,
          0.00201776041649282,
          0.00047078265924938023,
          0.0000816412502899766,
          0.00002071607013931498,
          0.000022959231500863098,
          0.00001717481791274622,
          0.000015900617654551752,
          0.000012739283192786388,
          0.000008930666808737442,
          0.000009984676580643281
         ],
         "yaxis": "y"
        },
        {
         "hovertemplate": "variable=cat_bird<br>index=%{x}<br>value=%{y}<extra></extra>",
         "legendgroup": "cat_bird",
         "line": {
          "color": "#FECB52",
          "dash": "solid"
         },
         "marker": {
          "symbol": "circle"
         },
         "mode": "lines",
         "name": "cat_bird",
         "showlegend": true,
         "type": "scattergl",
         "x": [
          0,
          1,
          2,
          3,
          4,
          5,
          6,
          7,
          8,
          9,
          10,
          11,
          12
         ],
         "xaxis": "x",
         "y": [
          0.021706009283661842,
          0.01621135324239731,
          0.013323448598384857,
          0.007595522329211235,
          0.004209852311760187,
          0.002463320270180702,
          0.0010059522464871407,
          0.0007014091243036091,
          0.0003588120162021369,
          0.0001584338751854375,
          0.000021316651327651925,
          0.000011692380212480202,
          0.000009673944077803753
         ],
         "yaxis": "y"
        },
        {
         "hovertemplate": "variable=cat_deer<br>index=%{x}<br>value=%{y}<extra></extra>",
         "legendgroup": "cat_deer",
         "line": {
          "color": "#636efa",
          "dash": "solid"
         },
         "marker": {
          "symbol": "circle"
         },
         "mode": "lines",
         "name": "cat_deer",
         "showlegend": true,
         "type": "scattergl",
         "x": [
          0,
          1,
          2,
          3,
          4,
          5,
          6,
          7,
          8,
          9,
          10,
          11,
          12
         ],
         "xaxis": "x",
         "y": [
          0.022053906694054604,
          0.01498742401599884,
          0.011416388675570488,
          0.0070877582766115665,
          0.004435631446540356,
          0.002898729406297207,
          0.002388698048889637,
          0.001346201286651194,
          0.0010971886804327369,
          0.0007271155482158065,
          0.00007340702723013237,
          0.000011788312804128509,
          0.000009192651305056643
         ],
         "yaxis": "y"
        },
        {
         "hovertemplate": "variable=cat_dog<br>index=%{x}<br>value=%{y}<extra></extra>",
         "legendgroup": "cat_dog",
         "line": {
          "color": "#EF553B",
          "dash": "solid"
         },
         "marker": {
          "symbol": "circle"
         },
         "mode": "lines",
         "name": "cat_dog",
         "showlegend": true,
         "type": "scattergl",
         "x": [
          0,
          1,
          2,
          3,
          4,
          5,
          6,
          7,
          8,
          9,
          10,
          11,
          12
         ],
         "xaxis": "x",
         "y": [
          0.021822810173034668,
          0.02006908506155014,
          0.017940247431397438,
          0.013360492885112762,
          0.010280999355018139,
          0.007086626719683409,
          0.005583008285611868,
          0.004829848185181618,
          0.0033815717324614525,
          0.002046587411314249,
          0.00011596830154303461,
          0.0000220447254832834,
          0.000011021166756108869
         ],
         "yaxis": "y"
        },
        {
         "hovertemplate": "variable=cat_frog<br>index=%{x}<br>value=%{y}<extra></extra>",
         "legendgroup": "cat_frog",
         "line": {
          "color": "#00cc96",
          "dash": "solid"
         },
         "marker": {
          "symbol": "circle"
         },
         "mode": "lines",
         "name": "cat_frog",
         "showlegend": true,
         "type": "scattergl",
         "x": [
          0,
          1,
          2,
          3,
          4,
          5,
          6,
          7,
          8,
          9,
          10,
          11,
          12
         ],
         "xaxis": "x",
         "y": [
          0.021944142878055573,
          0.014649703167378902,
          0.009882895275950432,
          0.006730282679200172,
          0.0032164156436920166,
          0.0013980286894366145,
          0.0007098953356035054,
          0.0004201564297545701,
          0.0002139823918696493,
          0.00009341957047581673,
          0.000038360558392014354,
          0.000011544161679921672,
          0.000010019377441494726
         ],
         "yaxis": "y"
        },
        {
         "hovertemplate": "variable=cat_horse<br>index=%{x}<br>value=%{y}<extra></extra>",
         "legendgroup": "cat_horse",
         "line": {
          "color": "#ab63fa",
          "dash": "solid"
         },
         "marker": {
          "symbol": "circle"
         },
         "mode": "lines",
         "name": "cat_horse",
         "showlegend": true,
         "type": "scattergl",
         "x": [
          0,
          1,
          2,
          3,
          4,
          5,
          6,
          7,
          8,
          9,
          10,
          11,
          12
         ],
         "xaxis": "x",
         "y": [
          0.0220334455370903,
          0.015575625002384186,
          0.011390640400350094,
          0.005617345683276653,
          0.0031534794252365828,
          0.002071983180940151,
          0.001402216381393373,
          0.0005268465029075742,
          0.0005957850953564048,
          0.00036037084646523,
          0.000024116474378388375,
          0.000010413296877231915,
          0.000010182501682720613
         ],
         "yaxis": "y"
        },
        {
         "hovertemplate": "variable=cat_ship<br>index=%{x}<br>value=%{y}<extra></extra>",
         "legendgroup": "cat_ship",
         "line": {
          "color": "#FFA15A",
          "dash": "solid"
         },
         "marker": {
          "symbol": "circle"
         },
         "mode": "lines",
         "name": "cat_ship",
         "showlegend": true,
         "type": "scattergl",
         "x": [
          0,
          1,
          2,
          3,
          4,
          5,
          6,
          7,
          8,
          9,
          10,
          11,
          12
         ],
         "xaxis": "x",
         "y": [
          0.022003721445798874,
          0.007842288352549076,
          0.0051046498119831085,
          0.0020613609813153744,
          0.0005681460024788976,
          0.0002206950739491731,
          0.00012045645416947082,
          0.000048608075303491205,
          0.00003740827742149122,
          0.000020060500901308842,
          0.00001220537433255231,
          0.000009466364645049907,
          0.000009952828804671299
         ],
         "yaxis": "y"
        },
        {
         "hovertemplate": "variable=cat_truck<br>index=%{x}<br>value=%{y}<extra></extra>",
         "legendgroup": "cat_truck",
         "line": {
          "color": "#19d3f3",
          "dash": "solid"
         },
         "marker": {
          "symbol": "circle"
         },
         "mode": "lines",
         "name": "cat_truck",
         "showlegend": true,
         "type": "scattergl",
         "x": [
          0,
          1,
          2,
          3,
          4,
          5,
          6,
          7,
          8,
          9,
          10,
          11,
          12
         ],
         "xaxis": "x",
         "y": [
          0.021816030144691467,
          0.010191758163273335,
          0.005270074121654034,
          0.002006675349548459,
          0.0005270698457024992,
          0.00008351830911124125,
          0.00003356992601766251,
          0.000017682223187875934,
          0.000015534991689492017,
          0.0000161809912242461,
          0.000014752101378689986,
          0.000010551847481110599,
          0.000008823509233479854
         ],
         "yaxis": "y"
        },
        {
         "hovertemplate": "variable=deer_airplane<br>index=%{x}<br>value=%{y}<extra></extra>",
         "legendgroup": "deer_airplane",
         "line": {
          "color": "#FF6692",
          "dash": "solid"
         },
         "marker": {
          "symbol": "circle"
         },
         "mode": "lines",
         "name": "deer_airplane",
         "showlegend": true,
         "type": "scattergl",
         "x": [
          0,
          1,
          2,
          3,
          4,
          5,
          6,
          7,
          8,
          9,
          10,
          11,
          12
         ],
         "xaxis": "x",
         "y": [
          0.02187543734908104,
          0.008406486362218857,
          0.005271649453788996,
          0.002162487246096134,
          0.0006317213410511613,
          0.00016085289826150984,
          0.00004358717706054449,
          0.00004573577461997047,
          0.000025738771000760607,
          0.000019952141883550212,
          0.00001674963095865678,
          0.00001022932065097848,
          0.000010081074833578896
         ],
         "yaxis": "y"
        },
        {
         "hovertemplate": "variable=deer_automobile<br>index=%{x}<br>value=%{y}<extra></extra>",
         "legendgroup": "deer_automobile",
         "line": {
          "color": "#B6E880",
          "dash": "solid"
         },
         "marker": {
          "symbol": "circle"
         },
         "mode": "lines",
         "name": "deer_automobile",
         "showlegend": true,
         "type": "scattergl",
         "x": [
          0,
          1,
          2,
          3,
          4,
          5,
          6,
          7,
          8,
          9,
          10,
          11,
          12
         ],
         "xaxis": "x",
         "y": [
          0.021810442209243774,
          0.007738926913589239,
          0.004164574202150106,
          0.0008612458477728069,
          0.00013278079859446734,
          0.000024244511223514564,
          0.0000199398746190127,
          0.00001656337917665951,
          0.000012582665476656985,
          0.000012969246199645568,
          0.000012743622392008547,
          0.000008931884622143116,
          0.00001007016544463113
         ],
         "yaxis": "y"
        },
        {
         "hovertemplate": "variable=deer_bird<br>index=%{x}<br>value=%{y}<extra></extra>",
         "legendgroup": "deer_bird",
         "line": {
          "color": "#FF97FF",
          "dash": "solid"
         },
         "marker": {
          "symbol": "circle"
         },
         "mode": "lines",
         "name": "deer_bird",
         "showlegend": true,
         "type": "scattergl",
         "x": [
          0,
          1,
          2,
          3,
          4,
          5,
          6,
          7,
          8,
          9,
          10,
          11,
          12
         ],
         "xaxis": "x",
         "y": [
          0.02186109498143196,
          0.018327075988054276,
          0.013412353582680225,
          0.008516918867826462,
          0.005702565889805555,
          0.0036595980636775494,
          0.002113201655447483,
          0.0010263407602906227,
          0.0007037270697765052,
          0.0002874897327274084,
          0.000053688232583226636,
          0.000011722505405487027,
          0.000010298755114490632
         ],
         "yaxis": "y"
        },
        {
         "hovertemplate": "variable=deer_cat<br>index=%{x}<br>value=%{y}<extra></extra>",
         "legendgroup": "deer_cat",
         "line": {
          "color": "#FECB52",
          "dash": "solid"
         },
         "marker": {
          "symbol": "circle"
         },
         "mode": "lines",
         "name": "deer_cat",
         "showlegend": true,
         "type": "scattergl",
         "x": [
          0,
          1,
          2,
          3,
          4,
          5,
          6,
          7,
          8,
          9,
          10,
          11,
          12
         ],
         "xaxis": "x",
         "y": [
          0.022012997418642044,
          0.014911964535713196,
          0.011440565809607506,
          0.007032711524516344,
          0.004330313298851252,
          0.003089912934228778,
          0.0016425458015874028,
          0.0010494282469153404,
          0.001182766747660935,
          0.0007435079314745963,
          0.00007171145989559591,
          0.000012892917766293976,
          0.000010715080861700699
         ],
         "yaxis": "y"
        },
        {
         "hovertemplate": "variable=deer_dog<br>index=%{x}<br>value=%{y}<extra></extra>",
         "legendgroup": "deer_dog",
         "line": {
          "color": "#636efa",
          "dash": "solid"
         },
         "marker": {
          "symbol": "circle"
         },
         "mode": "lines",
         "name": "deer_dog",
         "showlegend": true,
         "type": "scattergl",
         "x": [
          0,
          1,
          2,
          3,
          4,
          5,
          6,
          7,
          8,
          9,
          10,
          11,
          12
         ],
         "xaxis": "x",
         "y": [
          0.02190643548965454,
          0.014923988841474056,
          0.010524459183216095,
          0.0061407312750816345,
          0.0031079205218702555,
          0.0014401312218979,
          0.00048016736400313675,
          0.0003153787984047085,
          0.00022342655574902892,
          0.00012729817535728216,
          0.000038286503695417196,
          0.000011524607543833554,
          0.000010165906132897362
         ],
         "yaxis": "y"
        },
        {
         "hovertemplate": "variable=deer_frog<br>index=%{x}<br>value=%{y}<extra></extra>",
         "legendgroup": "deer_frog",
         "line": {
          "color": "#EF553B",
          "dash": "solid"
         },
         "marker": {
          "symbol": "circle"
         },
         "mode": "lines",
         "name": "deer_frog",
         "showlegend": true,
         "type": "scattergl",
         "x": [
          0,
          1,
          2,
          3,
          4,
          5,
          6,
          7,
          8,
          9,
          10,
          11,
          12
         ],
         "xaxis": "x",
         "y": [
          0.021717555820941925,
          0.016574086621403694,
          0.010427952744066715,
          0.005097806453704834,
          0.0025395043194293976,
          0.0008486309088766575,
          0.00022212651674635708,
          0.00009231650619767606,
          0.00004300055297790095,
          0.000026449055440025404,
          0.000014393401215784252,
          0.000010111254596267827,
          0.000009813778888201341
         ],
         "yaxis": "y"
        },
        {
         "hovertemplate": "variable=deer_horse<br>index=%{x}<br>value=%{y}<extra></extra>",
         "legendgroup": "deer_horse",
         "line": {
          "color": "#00cc96",
          "dash": "solid"
         },
         "marker": {
          "symbol": "circle"
         },
         "mode": "lines",
         "name": "deer_horse",
         "showlegend": true,
         "type": "scattergl",
         "x": [
          0,
          1,
          2,
          3,
          4,
          5,
          6,
          7,
          8,
          9,
          10,
          11,
          12
         ],
         "xaxis": "x",
         "y": [
          0.021801671013236046,
          0.015115668997168541,
          0.011750382371246815,
          0.006646500434726477,
          0.004237204324454069,
          0.002443999517709017,
          0.001455857651308179,
          0.0008388549322262406,
          0.000661094207316637,
          0.0003969720855820924,
          0.00002630569360917434,
          0.000013661795492225792,
          0.000008612295459897723
         ],
         "yaxis": "y"
        },
        {
         "hovertemplate": "variable=deer_ship<br>index=%{x}<br>value=%{y}<extra></extra>",
         "legendgroup": "deer_ship",
         "line": {
          "color": "#ab63fa",
          "dash": "solid"
         },
         "marker": {
          "symbol": "circle"
         },
         "mode": "lines",
         "name": "deer_ship",
         "showlegend": true,
         "type": "scattergl",
         "x": [
          0,
          1,
          2,
          3,
          4,
          5,
          6,
          7,
          8,
          9,
          10,
          11,
          12
         ],
         "xaxis": "x",
         "y": [
          0.02176314778625965,
          0.006540109869092703,
          0.004931530449539423,
          0.0013018599711358547,
          0.0003098479937762022,
          0.00005566400432144292,
          0.00002258961831103079,
          0.000028518836188595742,
          0.000021127963918843307,
          0.000015605952285113744,
          0.000012690759831457399,
          0.000010564444892224856,
          0.000010098731763719115
         ],
         "yaxis": "y"
        },
        {
         "hovertemplate": "variable=deer_truck<br>index=%{x}<br>value=%{y}<extra></extra>",
         "legendgroup": "deer_truck",
         "line": {
          "color": "#FFA15A",
          "dash": "solid"
         },
         "marker": {
          "symbol": "circle"
         },
         "mode": "lines",
         "name": "deer_truck",
         "showlegend": true,
         "type": "scattergl",
         "x": [
          0,
          1,
          2,
          3,
          4,
          5,
          6,
          7,
          8,
          9,
          10,
          11,
          12
         ],
         "xaxis": "x",
         "y": [
          0.021980643272399902,
          0.0078284852206707,
          0.0043380470015108585,
          0.0009461807203479111,
          0.00017138976545538753,
          0.00006024763570167124,
          0.000038966030842857435,
          0.000021758356524514966,
          0.000020118521206313744,
          0.00001637312743696384,
          0.000012753263945342042,
          0.000010707367437134963,
          0.00000999788062472362
         ],
         "yaxis": "y"
        },
        {
         "hovertemplate": "variable=dog_airplane<br>index=%{x}<br>value=%{y}<extra></extra>",
         "legendgroup": "dog_airplane",
         "line": {
          "color": "#19d3f3",
          "dash": "solid"
         },
         "marker": {
          "symbol": "circle"
         },
         "mode": "lines",
         "name": "dog_airplane",
         "showlegend": true,
         "type": "scattergl",
         "x": [
          0,
          1,
          2,
          3,
          4,
          5,
          6,
          7,
          8,
          9,
          10,
          11,
          12
         ],
         "xaxis": "x",
         "y": [
          0.02206171117722988,
          0.00786456186324358,
          0.004683366976678371,
          0.0019544907845556736,
          0.0003906313795596361,
          0.00015029424685053527,
          0.00008601826993981376,
          0.00005019345189793967,
          0.000034595108445500955,
          0.00002245421455882024,
          0.000014035400454304181,
          0.000009516948011878412,
          0.000009328206033387687
         ],
         "yaxis": "y"
        },
        {
         "hovertemplate": "variable=dog_automobile<br>index=%{x}<br>value=%{y}<extra></extra>",
         "legendgroup": "dog_automobile",
         "line": {
          "color": "#FF6692",
          "dash": "solid"
         },
         "marker": {
          "symbol": "circle"
         },
         "mode": "lines",
         "name": "dog_automobile",
         "showlegend": true,
         "type": "scattergl",
         "x": [
          0,
          1,
          2,
          3,
          4,
          5,
          6,
          7,
          8,
          9,
          10,
          11,
          12
         ],
         "xaxis": "x",
         "y": [
          0.021988747641444206,
          0.00873728096485138,
          0.005125506315380335,
          0.001158243278041482,
          0.00025714648654684424,
          0.000054134794481797144,
          0.000044975222408538684,
          0.00002746135214692913,
          0.00002081128150166478,
          0.000015950326996971853,
          0.000012688182323472574,
          0.000009964122000383213,
          0.000010408793968963437
         ],
         "yaxis": "y"
        },
        {
         "hovertemplate": "variable=dog_bird<br>index=%{x}<br>value=%{y}<extra></extra>",
         "legendgroup": "dog_bird",
         "line": {
          "color": "#B6E880",
          "dash": "solid"
         },
         "marker": {
          "symbol": "circle"
         },
         "mode": "lines",
         "name": "dog_bird",
         "showlegend": true,
         "type": "scattergl",
         "x": [
          0,
          1,
          2,
          3,
          4,
          5,
          6,
          7,
          8,
          9,
          10,
          11,
          12
         ],
         "xaxis": "x",
         "y": [
          0.0219971165060997,
          0.016392895951867104,
          0.013034122064709663,
          0.0067734927870333195,
          0.0032790235709398985,
          0.0012410066556185484,
          0.00048126804176717997,
          0.0003602048382163048,
          0.0001949054276337847,
          0.0001793367409845814,
          0.00003624297823989764,
          0.000011451928003225476,
          0.000008658722435939126
         ],
         "yaxis": "y"
        },
        {
         "hovertemplate": "variable=dog_cat<br>index=%{x}<br>value=%{y}<extra></extra>",
         "legendgroup": "dog_cat",
         "line": {
          "color": "#FF97FF",
          "dash": "solid"
         },
         "marker": {
          "symbol": "circle"
         },
         "mode": "lines",
         "name": "dog_cat",
         "showlegend": true,
         "type": "scattergl",
         "x": [
          0,
          1,
          2,
          3,
          4,
          5,
          6,
          7,
          8,
          9,
          10,
          11,
          12
         ],
         "xaxis": "x",
         "y": [
          0.02182719111442566,
          0.01998598501086235,
          0.018032392486929893,
          0.013356534764170647,
          0.0101382527500391,
          0.007026843726634979,
          0.0056627108715474606,
          0.004840696230530739,
          0.0031616995111107826,
          0.0022241328842937946,
          0.00012188355321995914,
          0.00001917629924719222,
          0.000012439360943972133
         ],
         "yaxis": "y"
        },
        {
         "hovertemplate": "variable=dog_deer<br>index=%{x}<br>value=%{y}<extra></extra>",
         "legendgroup": "dog_deer",
         "line": {
          "color": "#FECB52",
          "dash": "solid"
         },
         "marker": {
          "symbol": "circle"
         },
         "mode": "lines",
         "name": "dog_deer",
         "showlegend": true,
         "type": "scattergl",
         "x": [
          0,
          1,
          2,
          3,
          4,
          5,
          6,
          7,
          8,
          9,
          10,
          11,
          12
         ],
         "xaxis": "x",
         "y": [
          0.02194199338555336,
          0.014992197044193745,
          0.010493888519704342,
          0.006031654309481382,
          0.003105820855125785,
          0.0014492657501250505,
          0.0004996340139769018,
          0.00034595144097693264,
          0.00022899513714946806,
          0.00014244251360651106,
          0.00005383593088481575,
          0.000011135387467220426,
          0.000010741759979282506
         ],
         "yaxis": "y"
        },
        {
         "hovertemplate": "variable=dog_frog<br>index=%{x}<br>value=%{y}<extra></extra>",
         "legendgroup": "dog_frog",
         "line": {
          "color": "#636efa",
          "dash": "solid"
         },
         "marker": {
          "symbol": "circle"
         },
         "mode": "lines",
         "name": "dog_frog",
         "showlegend": true,
         "type": "scattergl",
         "x": [
          0,
          1,
          2,
          3,
          4,
          5,
          6,
          7,
          8,
          9,
          10,
          11,
          12
         ],
         "xaxis": "x",
         "y": [
          0.021831296384334564,
          0.012897592969238758,
          0.008254804648458958,
          0.004056886769831181,
          0.0014101410051807761,
          0.00038161041447892785,
          0.00011145295138703659,
          0.00006333152850857005,
          0.00002938600846391637,
          0.00008361675281776115,
          0.000018129054296878166,
          0.000010619184649840463,
          0.000009913276699080598
         ],
         "yaxis": "y"
        },
        {
         "hovertemplate": "variable=dog_horse<br>index=%{x}<br>value=%{y}<extra></extra>",
         "legendgroup": "dog_horse",
         "line": {
          "color": "#EF553B",
          "dash": "solid"
         },
         "marker": {
          "symbol": "circle"
         },
         "mode": "lines",
         "name": "dog_horse",
         "showlegend": true,
         "type": "scattergl",
         "x": [
          0,
          1,
          2,
          3,
          4,
          5,
          6,
          7,
          8,
          9,
          10,
          11,
          12
         ],
         "xaxis": "x",
         "y": [
          0.02197624184191227,
          0.016057971864938736,
          0.011618723161518574,
          0.006732985842972994,
          0.0038010578136891127,
          0.0022086878307163715,
          0.001197442994453013,
          0.0006640925421379507,
          0.0005432059988379478,
          0.00020410663273651153,
          0.000025990693757194094,
          0.000010634693353495095,
          0.000010841922630788758
         ],
         "yaxis": "y"
        },
        {
         "hovertemplate": "variable=dog_ship<br>index=%{x}<br>value=%{y}<extra></extra>",
         "legendgroup": "dog_ship",
         "line": {
          "color": "#00cc96",
          "dash": "solid"
         },
         "marker": {
          "symbol": "circle"
         },
         "mode": "lines",
         "name": "dog_ship",
         "showlegend": true,
         "type": "scattergl",
         "x": [
          0,
          1,
          2,
          3,
          4,
          5,
          6,
          7,
          8,
          9,
          10,
          11,
          12
         ],
         "xaxis": "x",
         "y": [
          0.021916765719652176,
          0.006767604034394026,
          0.003931630868464708,
          0.0009978533489629626,
          0.00022152333986014128,
          0.00003546449079294689,
          0.000029162978535168804,
          0.000027925261747441255,
          0.000020174176825094037,
          0.00001897198126243893,
          0.00001309571962337941,
          0.000010124873369932175,
          0.000009423451956536155
         ],
         "yaxis": "y"
        },
        {
         "hovertemplate": "variable=dog_truck<br>index=%{x}<br>value=%{y}<extra></extra>",
         "legendgroup": "dog_truck",
         "line": {
          "color": "#ab63fa",
          "dash": "solid"
         },
         "marker": {
          "symbol": "circle"
         },
         "mode": "lines",
         "name": "dog_truck",
         "showlegend": true,
         "type": "scattergl",
         "x": [
          0,
          1,
          2,
          3,
          4,
          5,
          6,
          7,
          8,
          9,
          10,
          11,
          12
         ],
         "xaxis": "x",
         "y": [
          0.021776000037789345,
          0.00832339096814394,
          0.003865456208586693,
          0.0011581777362152934,
          0.00032943551195785403,
          0.00005679723835783079,
          0.000027471978683024645,
          0.000022491833078674972,
          0.000015358795280917548,
          0.000018418240870232694,
          0.000011792892109951936,
          0.000010444326107972302,
          0.000010233461580355652
         ],
         "yaxis": "y"
        },
        {
         "hovertemplate": "variable=frog_airplane<br>index=%{x}<br>value=%{y}<extra></extra>",
         "legendgroup": "frog_airplane",
         "line": {
          "color": "#FFA15A",
          "dash": "solid"
         },
         "marker": {
          "symbol": "circle"
         },
         "mode": "lines",
         "name": "frog_airplane",
         "showlegend": true,
         "type": "scattergl",
         "x": [
          0,
          1,
          2,
          3,
          4,
          5,
          6,
          7,
          8,
          9,
          10,
          11,
          12
         ],
         "xaxis": "x",
         "y": [
          0.021772760897874832,
          0.006029000040143728,
          0.003412304213270545,
          0.0015214357990771532,
          0.00028678029775619507,
          0.00008006402640603483,
          0.00003651655788416974,
          0.00002932358802354429,
          0.00003453349927440286,
          0.00002852795660146512,
          0.000018068176359520294,
          0.00000948923025134718,
          0.000010089037459692918
         ],
         "yaxis": "y"
        },
        {
         "hovertemplate": "variable=frog_automobile<br>index=%{x}<br>value=%{y}<extra></extra>",
         "legendgroup": "frog_automobile",
         "line": {
          "color": "#19d3f3",
          "dash": "solid"
         },
         "marker": {
          "symbol": "circle"
         },
         "mode": "lines",
         "name": "frog_automobile",
         "showlegend": true,
         "type": "scattergl",
         "x": [
          0,
          1,
          2,
          3,
          4,
          5,
          6,
          7,
          8,
          9,
          10,
          11,
          12
         ],
         "xaxis": "x",
         "y": [
          0.021771015599370003,
          0.007381961215287447,
          0.0027717219199985266,
          0.0007020810153335333,
          0.00009653779852669686,
          0.000029479668228304945,
          0.000011669028936012182,
          0.000012728433830488939,
          0.000015957873984007165,
          0.000013302800653036684,
          0.000011875717063958291,
          0.000009128249985224102,
          0.000008202952813007869
         ],
         "yaxis": "y"
        },
        {
         "hovertemplate": "variable=frog_bird<br>index=%{x}<br>value=%{y}<extra></extra>",
         "legendgroup": "frog_bird",
         "line": {
          "color": "#FF6692",
          "dash": "solid"
         },
         "marker": {
          "symbol": "circle"
         },
         "mode": "lines",
         "name": "frog_bird",
         "showlegend": true,
         "type": "scattergl",
         "x": [
          0,
          1,
          2,
          3,
          4,
          5,
          6,
          7,
          8,
          9,
          10,
          11,
          12
         ],
         "xaxis": "x",
         "y": [
          0.021768024191260338,
          0.014941860921680927,
          0.010799567215144634,
          0.0061548613011837006,
          0.0032989424653351307,
          0.001402064342983067,
          0.0005773080047219992,
          0.00016302947187796235,
          0.00006330363248707727,
          0.00003887360799126327,
          0.000021694902898161672,
          0.000011620486475294456,
          0.000008405975677305833
         ],
         "yaxis": "y"
        },
        {
         "hovertemplate": "variable=frog_cat<br>index=%{x}<br>value=%{y}<extra></extra>",
         "legendgroup": "frog_cat",
         "line": {
          "color": "#B6E880",
          "dash": "solid"
         },
         "marker": {
          "symbol": "circle"
         },
         "mode": "lines",
         "name": "frog_cat",
         "showlegend": true,
         "type": "scattergl",
         "x": [
          0,
          1,
          2,
          3,
          4,
          5,
          6,
          7,
          8,
          9,
          10,
          11,
          12
         ],
         "xaxis": "x",
         "y": [
          0.021953534334897995,
          0.014742666855454445,
          0.009890399873256683,
          0.006644235458225012,
          0.0032754840794950724,
          0.0014256349531933665,
          0.000697790295816958,
          0.00040034318226389587,
          0.0002020527026616037,
          0.00017549836775287986,
          0.00004048201662953943,
          0.000011122931937279645,
          0.000008900774446374271
         ],
         "yaxis": "y"
        },
        {
         "hovertemplate": "variable=frog_deer<br>index=%{x}<br>value=%{y}<extra></extra>",
         "legendgroup": "frog_deer",
         "line": {
          "color": "#FF97FF",
          "dash": "solid"
         },
         "marker": {
          "symbol": "circle"
         },
         "mode": "lines",
         "name": "frog_deer",
         "showlegend": true,
         "type": "scattergl",
         "x": [
          0,
          1,
          2,
          3,
          4,
          5,
          6,
          7,
          8,
          9,
          10,
          11,
          12
         ],
         "xaxis": "x",
         "y": [
          0.021750733256340027,
          0.01659180037677288,
          0.010539846494793892,
          0.005115307401865721,
          0.0024860703852027655,
          0.0008574334206059575,
          0.00021555730199906975,
          0.00008032903133425862,
          0.000045464224967872724,
          0.000029789320251438767,
          0.000012593563042173628,
          0.000011061845725635067,
          0.000009674538887338713
         ],
         "yaxis": "y"
        },
        {
         "hovertemplate": "variable=frog_dog<br>index=%{x}<br>value=%{y}<extra></extra>",
         "legendgroup": "frog_dog",
         "line": {
          "color": "#FECB52",
          "dash": "solid"
         },
         "marker": {
          "symbol": "circle"
         },
         "mode": "lines",
         "name": "frog_dog",
         "showlegend": true,
         "type": "scattergl",
         "x": [
          0,
          1,
          2,
          3,
          4,
          5,
          6,
          7,
          8,
          9,
          10,
          11,
          12
         ],
         "xaxis": "x",
         "y": [
          0.021844584494829178,
          0.012936893850564957,
          0.008247152902185917,
          0.004002752248197794,
          0.0014341393252834678,
          0.00039597187424078584,
          0.00009778747335076332,
          0.0000793965082266368,
          0.000041151517507387325,
          0.000024960265363915823,
          0.000020721032342407852,
          0.000011580672435229644,
          0.000009378464710607659
         ],
         "yaxis": "y"
        },
        {
         "hovertemplate": "variable=frog_horse<br>index=%{x}<br>value=%{y}<extra></extra>",
         "legendgroup": "frog_horse",
         "line": {
          "color": "#636efa",
          "dash": "solid"
         },
         "marker": {
          "symbol": "circle"
         },
         "mode": "lines",
         "name": "frog_horse",
         "showlegend": true,
         "type": "scattergl",
         "x": [
          0,
          1,
          2,
          3,
          4,
          5,
          6,
          7,
          8,
          9,
          10,
          11,
          12
         ],
         "xaxis": "x",
         "y": [
          0.02169944904744625,
          0.012171723879873753,
          0.005815983284264803,
          0.0018300291849300265,
          0.0005899433745071292,
          0.00010049496631836519,
          0.000032991592888720334,
          0.000022913256543688476,
          0.0000154122753883712,
          0.000014237642062653322,
          0.000014242638826544862,
          0.000010022717106039636,
          0.000010269644008076284
         ],
         "yaxis": "y"
        },
        {
         "hovertemplate": "variable=frog_ship<br>index=%{x}<br>value=%{y}<extra></extra>",
         "legendgroup": "frog_ship",
         "line": {
          "color": "#EF553B",
          "dash": "solid"
         },
         "marker": {
          "symbol": "circle"
         },
         "mode": "lines",
         "name": "frog_ship",
         "showlegend": true,
         "type": "scattergl",
         "x": [
          0,
          1,
          2,
          3,
          4,
          5,
          6,
          7,
          8,
          9,
          10,
          11,
          12
         ],
         "xaxis": "x",
         "y": [
          0.022086940705776215,
          0.004794410429894924,
          0.0026476813945919275,
          0.0010214908979833126,
          0.0003736578510142863,
          0.00009713710460346192,
          0.00005188689101487398,
          0.00003178614497301169,
          0.000022494385120808147,
          0.000027079484425485134,
          0.00001524093204352539,
          0.000010259949704050086,
          0.00000886263842403423
         ],
         "yaxis": "y"
        },
        {
         "hovertemplate": "variable=frog_truck<br>index=%{x}<br>value=%{y}<extra></extra>",
         "legendgroup": "frog_truck",
         "line": {
          "color": "#00cc96",
          "dash": "solid"
         },
         "marker": {
          "symbol": "circle"
         },
         "mode": "lines",
         "name": "frog_truck",
         "showlegend": true,
         "type": "scattergl",
         "x": [
          0,
          1,
          2,
          3,
          4,
          5,
          6,
          7,
          8,
          9,
          10,
          11,
          12
         ],
         "xaxis": "x",
         "y": [
          0.02188827656209469,
          0.006750211119651794,
          0.0022162599489092827,
          0.0004077418998349458,
          0.00006570180266862735,
          0.000036137593269813806,
          0.00002418062649667263,
          0.00002111604408128187,
          0.000017504477000329643,
          0.00001748152863001451,
          0.000013593051335192285,
          0.00001004715795716038,
          0.00000937977802095702
         ],
         "yaxis": "y"
        },
        {
         "hovertemplate": "variable=horse_airplane<br>index=%{x}<br>value=%{y}<extra></extra>",
         "legendgroup": "horse_airplane",
         "line": {
          "color": "#ab63fa",
          "dash": "solid"
         },
         "marker": {
          "symbol": "circle"
         },
         "mode": "lines",
         "name": "horse_airplane",
         "showlegend": true,
         "type": "scattergl",
         "x": [
          0,
          1,
          2,
          3,
          4,
          5,
          6,
          7,
          8,
          9,
          10,
          11,
          12
         ],
         "xaxis": "x",
         "y": [
          0.021866532042622566,
          0.008016143925487995,
          0.005669109057635069,
          0.002147067803889513,
          0.0007425042567774653,
          0.00031313870567828417,
          0.00008915930811781436,
          0.00003523606574162841,
          0.000032718493457650766,
          0.00002022176886384841,
          0.000018654138330020942,
          0.000011054825336032081,
          0.000010651257071003783
         ],
         "yaxis": "y"
        },
        {
         "hovertemplate": "variable=horse_automobile<br>index=%{x}<br>value=%{y}<extra></extra>",
         "legendgroup": "horse_automobile",
         "line": {
          "color": "#FFA15A",
          "dash": "solid"
         },
         "marker": {
          "symbol": "circle"
         },
         "mode": "lines",
         "name": "horse_automobile",
         "showlegend": true,
         "type": "scattergl",
         "x": [
          0,
          1,
          2,
          3,
          4,
          5,
          6,
          7,
          8,
          9,
          10,
          11,
          12
         ],
         "xaxis": "x",
         "y": [
          0.02192000485956669,
          0.009956693276762962,
          0.006313206162303686,
          0.00130226940382272,
          0.0003371811471879482,
          0.00004979811274097301,
          0.000022454909412772395,
          0.000016568348655709997,
          0.000013412317457550671,
          0.00001674433224252425,
          0.00001213722316606436,
          0.000009856367796601262,
          0.000009499090992903803
         ],
         "yaxis": "y"
        },
        {
         "hovertemplate": "variable=horse_bird<br>index=%{x}<br>value=%{y}<extra></extra>",
         "legendgroup": "horse_bird",
         "line": {
          "color": "#19d3f3",
          "dash": "solid"
         },
         "marker": {
          "symbol": "circle"
         },
         "mode": "lines",
         "name": "horse_bird",
         "showlegend": true,
         "type": "scattergl",
         "x": [
          0,
          1,
          2,
          3,
          4,
          5,
          6,
          7,
          8,
          9,
          10,
          11,
          12
         ],
         "xaxis": "x",
         "y": [
          0.02188858576118946,
          0.014518192037940025,
          0.009955608285963535,
          0.004897261504083872,
          0.0026277087163180113,
          0.0012259262148290873,
          0.00046204854152165353,
          0.00017321862105745822,
          0.00010484228550922126,
          0.000052044699259568006,
          0.000024627519451314583,
          0.000009986511031456757,
          0.000008628241630503908
         ],
         "yaxis": "y"
        },
        {
         "hovertemplate": "variable=horse_cat<br>index=%{x}<br>value=%{y}<extra></extra>",
         "legendgroup": "horse_cat",
         "line": {
          "color": "#FF6692",
          "dash": "solid"
         },
         "marker": {
          "symbol": "circle"
         },
         "mode": "lines",
         "name": "horse_cat",
         "showlegend": true,
         "type": "scattergl",
         "x": [
          0,
          1,
          2,
          3,
          4,
          5,
          6,
          7,
          8,
          9,
          10,
          11,
          12
         ],
         "xaxis": "x",
         "y": [
          0.02205239050090313,
          0.015611464157700539,
          0.01171356625854969,
          0.005667057819664478,
          0.0030591769609600306,
          0.0017245584167540073,
          0.0014341245405375957,
          0.0006527385558001697,
          0.00047785730566829443,
          0.0004783874610438943,
          0.00003871504304697737,
          0.000010896943422267213,
          0.000010852929335669614
         ],
         "yaxis": "y"
        },
        {
         "hovertemplate": "variable=horse_deer<br>index=%{x}<br>value=%{y}<extra></extra>",
         "legendgroup": "horse_deer",
         "line": {
          "color": "#B6E880",
          "dash": "solid"
         },
         "marker": {
          "symbol": "circle"
         },
         "mode": "lines",
         "name": "horse_deer",
         "showlegend": true,
         "type": "scattergl",
         "x": [
          0,
          1,
          2,
          3,
          4,
          5,
          6,
          7,
          8,
          9,
          10,
          11,
          12
         ],
         "xaxis": "x",
         "y": [
          0.02184707671403885,
          0.015097418799996376,
          0.011771643534302711,
          0.006687972228974104,
          0.004311255645006895,
          0.0025069054681807756,
          0.0014348361873999238,
          0.0008685973007231951,
          0.000670024601276964,
          0.0003827547770924866,
          0.000022545653337147087,
          0.00001058374073181767,
          0.000009491438504483085
         ],
         "yaxis": "y"
        },
        {
         "hovertemplate": "variable=horse_dog<br>index=%{x}<br>value=%{y}<extra></extra>",
         "legendgroup": "horse_dog",
         "line": {
          "color": "#FF97FF",
          "dash": "solid"
         },
         "marker": {
          "symbol": "circle"
         },
         "mode": "lines",
         "name": "horse_dog",
         "showlegend": true,
         "type": "scattergl",
         "x": [
          0,
          1,
          2,
          3,
          4,
          5,
          6,
          7,
          8,
          9,
          10,
          11,
          12
         ],
         "xaxis": "x",
         "y": [
          0.02194795571267605,
          0.016037767753005028,
          0.011279888451099396,
          0.006797045469284058,
          0.0038175557274371386,
          0.0022368337959051132,
          0.0011890578316524625,
          0.0006837467662990093,
          0.0004669772752095014,
          0.0002110539353452623,
          0.00002964097075164318,
          0.00001129371412389446,
          0.000009925847734848503
         ],
         "yaxis": "y"
        },
        {
         "hovertemplate": "variable=horse_frog<br>index=%{x}<br>value=%{y}<extra></extra>",
         "legendgroup": "horse_frog",
         "line": {
          "color": "#FECB52",
          "dash": "solid"
         },
         "marker": {
          "symbol": "circle"
         },
         "mode": "lines",
         "name": "horse_frog",
         "showlegend": true,
         "type": "scattergl",
         "x": [
          0,
          1,
          2,
          3,
          4,
          5,
          6,
          7,
          8,
          9,
          10,
          11,
          12
         ],
         "xaxis": "x",
         "y": [
          0.021709974855184555,
          0.012136287987232208,
          0.005719574633985758,
          0.0018990279641002417,
          0.0005828572320751846,
          0.00011707667727023363,
          0.00003429578646318987,
          0.00003090973405051045,
          0.00002075146221613977,
          0.000015965537386364304,
          0.000011414927030273248,
          0.000009019913704833016,
          0.000009733357728691772
         ],
         "yaxis": "y"
        },
        {
         "hovertemplate": "variable=horse_ship<br>index=%{x}<br>value=%{y}<extra></extra>",
         "legendgroup": "horse_ship",
         "line": {
          "color": "#636efa",
          "dash": "solid"
         },
         "marker": {
          "symbol": "circle"
         },
         "mode": "lines",
         "name": "horse_ship",
         "showlegend": true,
         "type": "scattergl",
         "x": [
          0,
          1,
          2,
          3,
          4,
          5,
          6,
          7,
          8,
          9,
          10,
          11,
          12
         ],
         "xaxis": "x",
         "y": [
          0.021793682128190994,
          0.006259605288505554,
          0.004557858686894178,
          0.0011720451293513179,
          0.00041131593752652407,
          0.00008122571307467297,
          0.000026788768082042225,
          0.000016642125046928413,
          0.000014915241990820505,
          0.000015718209397164173,
          0.000011999564776488114,
          0.000010716670658439398,
          0.000008634453479317017
         ],
         "yaxis": "y"
        },
        {
         "hovertemplate": "variable=horse_truck<br>index=%{x}<br>value=%{y}<extra></extra>",
         "legendgroup": "horse_truck",
         "line": {
          "color": "#EF553B",
          "dash": "solid"
         },
         "marker": {
          "symbol": "circle"
         },
         "mode": "lines",
         "name": "horse_truck",
         "showlegend": true,
         "type": "scattergl",
         "x": [
          0,
          1,
          2,
          3,
          4,
          5,
          6,
          7,
          8,
          9,
          10,
          11,
          12
         ],
         "xaxis": "x",
         "y": [
          0.021965591236948967,
          0.011198214255273342,
          0.00706870062276721,
          0.0020623216405510902,
          0.0005829052533954382,
          0.00015960396558512002,
          0.00008947574679041281,
          0.0000439343748439569,
          0.000027393276468501426,
          0.000017340587874059565,
          0.000014003469004819635,
          0.00000886755788087612,
          0.000010158463737752754
         ],
         "yaxis": "y"
        },
        {
         "hovertemplate": "variable=ship_airplane<br>index=%{x}<br>value=%{y}<extra></extra>",
         "legendgroup": "ship_airplane",
         "line": {
          "color": "#00cc96",
          "dash": "solid"
         },
         "marker": {
          "symbol": "circle"
         },
         "mode": "lines",
         "name": "ship_airplane",
         "showlegend": true,
         "type": "scattergl",
         "x": [
          0,
          1,
          2,
          3,
          4,
          5,
          6,
          7,
          8,
          9,
          10,
          11,
          12
         ],
         "xaxis": "x",
         "y": [
          0.021839041262865067,
          0.016915204003453255,
          0.012585487216711044,
          0.0068855490535497665,
          0.004094074480235577,
          0.002466475823894143,
          0.0009958504233509302,
          0.00044657604303210974,
          0.00024053986999206245,
          0.000056763536122161895,
          0.000027571986720431596,
          0.000012009696547465865,
          0.000010853896128537599
         ],
         "yaxis": "y"
        },
        {
         "hovertemplate": "variable=ship_automobile<br>index=%{x}<br>value=%{y}<extra></extra>",
         "legendgroup": "ship_automobile",
         "line": {
          "color": "#ab63fa",
          "dash": "solid"
         },
         "marker": {
          "symbol": "circle"
         },
         "mode": "lines",
         "name": "ship_automobile",
         "showlegend": true,
         "type": "scattergl",
         "x": [
          0,
          1,
          2,
          3,
          4,
          5,
          6,
          7,
          8,
          9,
          10,
          11,
          12
         ],
         "xaxis": "x",
         "y": [
          0.02180251106619835,
          0.012133605778217316,
          0.008101742714643478,
          0.0033960826694965363,
          0.001400738605298102,
          0.000719564501196146,
          0.0002776770852506161,
          0.00011129991617053747,
          0.00008028746378840879,
          0.000023498818336520344,
          0.000018807246306096204,
          0.000010642333108989988,
          0.000009682239578978624
         ],
         "yaxis": "y"
        },
        {
         "hovertemplate": "variable=ship_bird<br>index=%{x}<br>value=%{y}<extra></extra>",
         "legendgroup": "ship_bird",
         "line": {
          "color": "#FFA15A",
          "dash": "solid"
         },
         "marker": {
          "symbol": "circle"
         },
         "mode": "lines",
         "name": "ship_bird",
         "showlegend": true,
         "type": "scattergl",
         "x": [
          0,
          1,
          2,
          3,
          4,
          5,
          6,
          7,
          8,
          9,
          10,
          11,
          12
         ],
         "xaxis": "x",
         "y": [
          0.021834317594766617,
          0.008995871059596539,
          0.005862241145223379,
          0.0017208987846970558,
          0.00045712641440331936,
          0.00009069934458239004,
          0.00009343373676529154,
          0.000040228584111901,
          0.00002399661752860993,
          0.00001990905002458021,
          0.00001537106800242327,
          0.00000942992846830748,
          0.000010093695891555399
         ],
         "yaxis": "y"
        },
        {
         "hovertemplate": "variable=ship_cat<br>index=%{x}<br>value=%{y}<extra></extra>",
         "legendgroup": "ship_cat",
         "line": {
          "color": "#19d3f3",
          "dash": "solid"
         },
         "marker": {
          "symbol": "circle"
         },
         "mode": "lines",
         "name": "ship_cat",
         "showlegend": true,
         "type": "scattergl",
         "x": [
          0,
          1,
          2,
          3,
          4,
          5,
          6,
          7,
          8,
          9,
          10,
          11,
          12
         ],
         "xaxis": "x",
         "y": [
          0.02204516902565956,
          0.008111242204904556,
          0.005663829389959574,
          0.002054481767117977,
          0.0005502122803591192,
          0.00019955738389398903,
          0.0000857360937516205,
          0.000037575540773104876,
          0.00003922824180335738,
          0.000022162781533552334,
          0.000014398669918591622,
          0.000010876351552724373,
          0.000010229093277303036
         ],
         "yaxis": "y"
        },
        {
         "hovertemplate": "variable=ship_deer<br>index=%{x}<br>value=%{y}<extra></extra>",
         "legendgroup": "ship_deer",
         "line": {
          "color": "#FF6692",
          "dash": "solid"
         },
         "marker": {
          "symbol": "circle"
         },
         "mode": "lines",
         "name": "ship_deer",
         "showlegend": true,
         "type": "scattergl",
         "x": [
          0,
          1,
          2,
          3,
          4,
          5,
          6,
          7,
          8,
          9,
          10,
          11,
          12
         ],
         "xaxis": "x",
         "y": [
          0.021761545911431313,
          0.006530290469527245,
          0.004981354344636202,
          0.0012608282268047333,
          0.0003195996687281877,
          0.000046247914724517614,
          0.000024615716029074974,
          0.00002766108445939608,
          0.000014189900866767857,
          0.000014317721252155025,
          0.000013272206160763744,
          0.00000964056198426988,
          0.00001019300634652609
         ],
         "yaxis": "y"
        },
        {
         "hovertemplate": "variable=ship_dog<br>index=%{x}<br>value=%{y}<extra></extra>",
         "legendgroup": "ship_dog",
         "line": {
          "color": "#B6E880",
          "dash": "solid"
         },
         "marker": {
          "symbol": "circle"
         },
         "mode": "lines",
         "name": "ship_dog",
         "showlegend": true,
         "type": "scattergl",
         "x": [
          0,
          1,
          2,
          3,
          4,
          5,
          6,
          7,
          8,
          9,
          10,
          11,
          12
         ],
         "xaxis": "x",
         "y": [
          0.02191087044775486,
          0.0067584821954369545,
          0.003955036401748657,
          0.0009634870802983642,
          0.00021925559849478304,
          0.00003596163878683001,
          0.00002668521301529836,
          0.00002692084490263369,
          0.000021386289517977275,
          0.000014296349945652764,
          0.00001275936756428564,
          0.000009972544830816332,
          0.000010748208296718076
         ],
         "yaxis": "y"
        },
        {
         "hovertemplate": "variable=ship_frog<br>index=%{x}<br>value=%{y}<extra></extra>",
         "legendgroup": "ship_frog",
         "line": {
          "color": "#FF97FF",
          "dash": "solid"
         },
         "marker": {
          "symbol": "circle"
         },
         "mode": "lines",
         "name": "ship_frog",
         "showlegend": true,
         "type": "scattergl",
         "x": [
          0,
          1,
          2,
          3,
          4,
          5,
          6,
          7,
          8,
          9,
          10,
          11,
          12
         ],
         "xaxis": "x",
         "y": [
          0.022057674825191498,
          0.004918408114463091,
          0.0025472173001617193,
          0.0011343525256961584,
          0.0003380729758646339,
          0.00012620302732102573,
          0.00004720841025118716,
          0.000029247545171529055,
          0.000028328477128525265,
          0.000018803269995260052,
          0.000012268708815099671,
          0.000010197809388046153,
          0.00000971173449215712
         ],
         "yaxis": "y"
        },
        {
         "hovertemplate": "variable=ship_horse<br>index=%{x}<br>value=%{y}<extra></extra>",
         "legendgroup": "ship_horse",
         "line": {
          "color": "#FECB52",
          "dash": "solid"
         },
         "marker": {
          "symbol": "circle"
         },
         "mode": "lines",
         "name": "ship_horse",
         "showlegend": true,
         "type": "scattergl",
         "x": [
          0,
          1,
          2,
          3,
          4,
          5,
          6,
          7,
          8,
          9,
          10,
          11,
          12
         ],
         "xaxis": "x",
         "y": [
          0.02176845259964466,
          0.0062149097211658955,
          0.004450653679668903,
          0.0011374371824786067,
          0.00038834611768834293,
          0.00007826081855455413,
          0.000027883792427019216,
          0.000016641735783196054,
          0.000018306300262338482,
          0.000016649359167786315,
          0.000013651433619088493,
          0.000010615010978654027,
          0.00000871204520080937
         ],
         "yaxis": "y"
        },
        {
         "hovertemplate": "variable=ship_truck<br>index=%{x}<br>value=%{y}<extra></extra>",
         "legendgroup": "ship_truck",
         "line": {
          "color": "#636efa",
          "dash": "solid"
         },
         "marker": {
          "symbol": "circle"
         },
         "mode": "lines",
         "name": "ship_truck",
         "showlegend": true,
         "type": "scattergl",
         "x": [
          0,
          1,
          2,
          3,
          4,
          5,
          6,
          7,
          8,
          9,
          10,
          11,
          12
         ],
         "xaxis": "x",
         "y": [
          0.021936915814876556,
          0.012376232072710991,
          0.008645589463412762,
          0.0037519598845392466,
          0.001536202384158969,
          0.000718813156709075,
          0.00021317400387488306,
          0.00009529701492283493,
          0.00006006757394061424,
          0.00003768235183088109,
          0.0000227146902034292,
          0.00001096420965041034,
          0.000010396774086984806
         ],
         "yaxis": "y"
        },
        {
         "hovertemplate": "variable=truck_airplane<br>index=%{x}<br>value=%{y}<extra></extra>",
         "legendgroup": "truck_airplane",
         "line": {
          "color": "#EF553B",
          "dash": "solid"
         },
         "marker": {
          "symbol": "circle"
         },
         "mode": "lines",
         "name": "truck_airplane",
         "showlegend": true,
         "type": "scattergl",
         "x": [
          0,
          1,
          2,
          3,
          4,
          5,
          6,
          7,
          8,
          9,
          10,
          11,
          12
         ],
         "xaxis": "x",
         "y": [
          0.0220556128770113,
          0.012323599308729172,
          0.008198154158890247,
          0.004392053000628948,
          0.002049947390332818,
          0.0011637230636551976,
          0.0005152600351721048,
          0.0002445740101393312,
          0.00020202079031150788,
          0.00008195237023755908,
          0.00002478293390595354,
          0.0000113126634460059,
          0.000009603499165677931
         ],
         "yaxis": "y"
        },
        {
         "hovertemplate": "variable=truck_automobile<br>index=%{x}<br>value=%{y}<extra></extra>",
         "legendgroup": "truck_automobile",
         "line": {
          "color": "#00cc96",
          "dash": "solid"
         },
         "marker": {
          "symbol": "circle"
         },
         "mode": "lines",
         "name": "truck_automobile",
         "showlegend": true,
         "type": "scattergl",
         "x": [
          0,
          1,
          2,
          3,
          4,
          5,
          6,
          7,
          8,
          9,
          10,
          11,
          12
         ],
         "xaxis": "x",
         "y": [
          0.022022759541869164,
          0.01819145865738392,
          0.014012615196406841,
          0.007701511960476637,
          0.004350307397544384,
          0.0026122084818780422,
          0.001437378698028624,
          0.0008202690514735878,
          0.0006741482065990567,
          0.00024686858523637056,
          0.00015829724725335836,
          0.000015085477571119554,
          0.00001069439258571947
         ],
         "yaxis": "y"
        },
        {
         "hovertemplate": "variable=truck_bird<br>index=%{x}<br>value=%{y}<extra></extra>",
         "legendgroup": "truck_bird",
         "line": {
          "color": "#ab63fa",
          "dash": "solid"
         },
         "marker": {
          "symbol": "circle"
         },
         "mode": "lines",
         "name": "truck_bird",
         "showlegend": true,
         "type": "scattergl",
         "x": [
          0,
          1,
          2,
          3,
          4,
          5,
          6,
          7,
          8,
          9,
          10,
          11,
          12
         ],
         "xaxis": "x",
         "y": [
          0.021959297358989716,
          0.010128931142389774,
          0.004513532388955355,
          0.0008471055189147592,
          0.00027225917438045144,
          0.00008699079626239836,
          0.000055067335779313,
          0.0000224853320105467,
          0.000023884957045083866,
          0.000016620482711005025,
          0.000011617813470365945,
          0.000008871576028468553,
          0.000010403515261714347
         ],
         "yaxis": "y"
        },
        {
         "hovertemplate": "variable=truck_cat<br>index=%{x}<br>value=%{y}<extra></extra>",
         "legendgroup": "truck_cat",
         "line": {
          "color": "#FFA15A",
          "dash": "solid"
         },
         "marker": {
          "symbol": "circle"
         },
         "mode": "lines",
         "name": "truck_cat",
         "showlegend": true,
         "type": "scattergl",
         "x": [
          0,
          1,
          2,
          3,
          4,
          5,
          6,
          7,
          8,
          9,
          10,
          11,
          12
         ],
         "xaxis": "x",
         "y": [
          0.021887538954615593,
          0.010214070789515972,
          0.005245971493422985,
          0.001993361860513687,
          0.0005238358280621469,
          0.00008751895074965432,
          0.00002925821354438085,
          0.00003499492959235795,
          0.000021125142666278407,
          0.000023129128749133088,
          0.000014029246813151985,
          0.000010672064490790945,
          0.000010414862117613666
         ],
         "yaxis": "y"
        },
        {
         "hovertemplate": "variable=truck_deer<br>index=%{x}<br>value=%{y}<extra></extra>",
         "legendgroup": "truck_deer",
         "line": {
          "color": "#19d3f3",
          "dash": "solid"
         },
         "marker": {
          "symbol": "circle"
         },
         "mode": "lines",
         "name": "truck_deer",
         "showlegend": true,
         "type": "scattergl",
         "x": [
          0,
          1,
          2,
          3,
          4,
          5,
          6,
          7,
          8,
          9,
          10,
          11,
          12
         ],
         "xaxis": "x",
         "y": [
          0.022004548460245132,
          0.007778378669172525,
          0.004365288186818361,
          0.000966312421951443,
          0.00014526411541737616,
          0.00009226798283634707,
          0.000041233663068851456,
          0.000022519578124047257,
          0.00001885104393295478,
          0.000014171060684020631,
          0.00001399674056301592,
          0.000010144233783648815,
          0.00000909864411369199
         ],
         "yaxis": "y"
        },
        {
         "hovertemplate": "variable=truck_dog<br>index=%{x}<br>value=%{y}<extra></extra>",
         "legendgroup": "truck_dog",
         "line": {
          "color": "#FF6692",
          "dash": "solid"
         },
         "marker": {
          "symbol": "circle"
         },
         "mode": "lines",
         "name": "truck_dog",
         "showlegend": true,
         "type": "scattergl",
         "x": [
          0,
          1,
          2,
          3,
          4,
          5,
          6,
          7,
          8,
          9,
          10,
          11,
          12
         ],
         "xaxis": "x",
         "y": [
          0.021753745153546333,
          0.008351769298315048,
          0.0038942701648920774,
          0.0011203091125935316,
          0.0003165711823385209,
          0.00006223545642569661,
          0.000022751575670554303,
          0.000015670539141865447,
          0.000016754274838604033,
          0.000014872080100758467,
          0.000011830877156171482,
          0.000010508007108001038,
          0.000010472487701917998
         ],
         "yaxis": "y"
        },
        {
         "hovertemplate": "variable=truck_frog<br>index=%{x}<br>value=%{y}<extra></extra>",
         "legendgroup": "truck_frog",
         "line": {
          "color": "#B6E880",
          "dash": "solid"
         },
         "marker": {
          "symbol": "circle"
         },
         "mode": "lines",
         "name": "truck_frog",
         "showlegend": true,
         "type": "scattergl",
         "x": [
          0,
          1,
          2,
          3,
          4,
          5,
          6,
          7,
          8,
          9,
          10,
          11,
          12
         ],
         "xaxis": "x",
         "y": [
          0.021879738196730614,
          0.0067905704490840435,
          0.002171941800042987,
          0.000409202475566417,
          0.00007401988841593266,
          0.000029310649551916867,
          0.000025448382075410336,
          0.000023627770133316517,
          0.00002128800770151429,
          0.000014515474504150916,
          0.000010828759513969999,
          0.000009989373211283237,
          0.000009908504580380395
         ],
         "yaxis": "y"
        },
        {
         "hovertemplate": "variable=truck_horse<br>index=%{x}<br>value=%{y}<extra></extra>",
         "legendgroup": "truck_horse",
         "line": {
          "color": "#FF97FF",
          "dash": "solid"
         },
         "marker": {
          "symbol": "circle"
         },
         "mode": "lines",
         "name": "truck_horse",
         "showlegend": true,
         "type": "scattergl",
         "x": [
          0,
          1,
          2,
          3,
          4,
          5,
          6,
          7,
          8,
          9,
          10,
          11,
          12
         ],
         "xaxis": "x",
         "y": [
          0.021956617012619972,
          0.011176803149282932,
          0.0072591290809214115,
          0.002054031938314438,
          0.0005626225611194968,
          0.00010539742652326822,
          0.00004619176979758777,
          0.000038214264350244775,
          0.00003101396941929124,
          0.000017704103811411187,
          0.000013511880752048455,
          0.000009157678505289368,
          0.00001013882956613088
         ],
         "yaxis": "y"
        },
        {
         "hovertemplate": "variable=truck_ship<br>index=%{x}<br>value=%{y}<extra></extra>",
         "legendgroup": "truck_ship",
         "line": {
          "color": "#FECB52",
          "dash": "solid"
         },
         "marker": {
          "symbol": "circle"
         },
         "mode": "lines",
         "name": "truck_ship",
         "showlegend": true,
         "type": "scattergl",
         "x": [
          0,
          1,
          2,
          3,
          4,
          5,
          6,
          7,
          8,
          9,
          10,
          11,
          12
         ],
         "xaxis": "x",
         "y": [
          0.021951060742139816,
          0.012423432432115078,
          0.008704467676579952,
          0.0038610626943409443,
          0.0014485882129520178,
          0.0007171776960603893,
          0.0002040236140601337,
          0.00010412770643597469,
          0.0000631271832389757,
          0.00003480296072666533,
          0.000018453949451213703,
          0.000010804389603435993,
          0.000009123548807110637
         ],
         "yaxis": "y"
        }
       ],
       "layout": {
        "legend": {
         "title": {
          "text": "Relation"
         },
         "tracegroupgap": 0
        },
        "margin": {
         "t": 60
        },
        "template": {
         "data": {
          "bar": [
           {
            "error_x": {
             "color": "#2a3f5f"
            },
            "error_y": {
             "color": "#2a3f5f"
            },
            "marker": {
             "line": {
              "color": "#E5ECF6",
              "width": 0.5
             },
             "pattern": {
              "fillmode": "overlay",
              "size": 10,
              "solidity": 0.2
             }
            },
            "type": "bar"
           }
          ],
          "barpolar": [
           {
            "marker": {
             "line": {
              "color": "#E5ECF6",
              "width": 0.5
             },
             "pattern": {
              "fillmode": "overlay",
              "size": 10,
              "solidity": 0.2
             }
            },
            "type": "barpolar"
           }
          ],
          "carpet": [
           {
            "aaxis": {
             "endlinecolor": "#2a3f5f",
             "gridcolor": "white",
             "linecolor": "white",
             "minorgridcolor": "white",
             "startlinecolor": "#2a3f5f"
            },
            "baxis": {
             "endlinecolor": "#2a3f5f",
             "gridcolor": "white",
             "linecolor": "white",
             "minorgridcolor": "white",
             "startlinecolor": "#2a3f5f"
            },
            "type": "carpet"
           }
          ],
          "choropleth": [
           {
            "colorbar": {
             "outlinewidth": 0,
             "ticks": ""
            },
            "type": "choropleth"
           }
          ],
          "contour": [
           {
            "colorbar": {
             "outlinewidth": 0,
             "ticks": ""
            },
            "colorscale": [
             [
              0,
              "#0d0887"
             ],
             [
              0.1111111111111111,
              "#46039f"
             ],
             [
              0.2222222222222222,
              "#7201a8"
             ],
             [
              0.3333333333333333,
              "#9c179e"
             ],
             [
              0.4444444444444444,
              "#bd3786"
             ],
             [
              0.5555555555555556,
              "#d8576b"
             ],
             [
              0.6666666666666666,
              "#ed7953"
             ],
             [
              0.7777777777777778,
              "#fb9f3a"
             ],
             [
              0.8888888888888888,
              "#fdca26"
             ],
             [
              1,
              "#f0f921"
             ]
            ],
            "type": "contour"
           }
          ],
          "contourcarpet": [
           {
            "colorbar": {
             "outlinewidth": 0,
             "ticks": ""
            },
            "type": "contourcarpet"
           }
          ],
          "heatmap": [
           {
            "colorbar": {
             "outlinewidth": 0,
             "ticks": ""
            },
            "colorscale": [
             [
              0,
              "#0d0887"
             ],
             [
              0.1111111111111111,
              "#46039f"
             ],
             [
              0.2222222222222222,
              "#7201a8"
             ],
             [
              0.3333333333333333,
              "#9c179e"
             ],
             [
              0.4444444444444444,
              "#bd3786"
             ],
             [
              0.5555555555555556,
              "#d8576b"
             ],
             [
              0.6666666666666666,
              "#ed7953"
             ],
             [
              0.7777777777777778,
              "#fb9f3a"
             ],
             [
              0.8888888888888888,
              "#fdca26"
             ],
             [
              1,
              "#f0f921"
             ]
            ],
            "type": "heatmap"
           }
          ],
          "heatmapgl": [
           {
            "colorbar": {
             "outlinewidth": 0,
             "ticks": ""
            },
            "colorscale": [
             [
              0,
              "#0d0887"
             ],
             [
              0.1111111111111111,
              "#46039f"
             ],
             [
              0.2222222222222222,
              "#7201a8"
             ],
             [
              0.3333333333333333,
              "#9c179e"
             ],
             [
              0.4444444444444444,
              "#bd3786"
             ],
             [
              0.5555555555555556,
              "#d8576b"
             ],
             [
              0.6666666666666666,
              "#ed7953"
             ],
             [
              0.7777777777777778,
              "#fb9f3a"
             ],
             [
              0.8888888888888888,
              "#fdca26"
             ],
             [
              1,
              "#f0f921"
             ]
            ],
            "type": "heatmapgl"
           }
          ],
          "histogram": [
           {
            "marker": {
             "pattern": {
              "fillmode": "overlay",
              "size": 10,
              "solidity": 0.2
             }
            },
            "type": "histogram"
           }
          ],
          "histogram2d": [
           {
            "colorbar": {
             "outlinewidth": 0,
             "ticks": ""
            },
            "colorscale": [
             [
              0,
              "#0d0887"
             ],
             [
              0.1111111111111111,
              "#46039f"
             ],
             [
              0.2222222222222222,
              "#7201a8"
             ],
             [
              0.3333333333333333,
              "#9c179e"
             ],
             [
              0.4444444444444444,
              "#bd3786"
             ],
             [
              0.5555555555555556,
              "#d8576b"
             ],
             [
              0.6666666666666666,
              "#ed7953"
             ],
             [
              0.7777777777777778,
              "#fb9f3a"
             ],
             [
              0.8888888888888888,
              "#fdca26"
             ],
             [
              1,
              "#f0f921"
             ]
            ],
            "type": "histogram2d"
           }
          ],
          "histogram2dcontour": [
           {
            "colorbar": {
             "outlinewidth": 0,
             "ticks": ""
            },
            "colorscale": [
             [
              0,
              "#0d0887"
             ],
             [
              0.1111111111111111,
              "#46039f"
             ],
             [
              0.2222222222222222,
              "#7201a8"
             ],
             [
              0.3333333333333333,
              "#9c179e"
             ],
             [
              0.4444444444444444,
              "#bd3786"
             ],
             [
              0.5555555555555556,
              "#d8576b"
             ],
             [
              0.6666666666666666,
              "#ed7953"
             ],
             [
              0.7777777777777778,
              "#fb9f3a"
             ],
             [
              0.8888888888888888,
              "#fdca26"
             ],
             [
              1,
              "#f0f921"
             ]
            ],
            "type": "histogram2dcontour"
           }
          ],
          "mesh3d": [
           {
            "colorbar": {
             "outlinewidth": 0,
             "ticks": ""
            },
            "type": "mesh3d"
           }
          ],
          "parcoords": [
           {
            "line": {
             "colorbar": {
              "outlinewidth": 0,
              "ticks": ""
             }
            },
            "type": "parcoords"
           }
          ],
          "pie": [
           {
            "automargin": true,
            "type": "pie"
           }
          ],
          "scatter": [
           {
            "fillpattern": {
             "fillmode": "overlay",
             "size": 10,
             "solidity": 0.2
            },
            "type": "scatter"
           }
          ],
          "scatter3d": [
           {
            "line": {
             "colorbar": {
              "outlinewidth": 0,
              "ticks": ""
             }
            },
            "marker": {
             "colorbar": {
              "outlinewidth": 0,
              "ticks": ""
             }
            },
            "type": "scatter3d"
           }
          ],
          "scattercarpet": [
           {
            "marker": {
             "colorbar": {
              "outlinewidth": 0,
              "ticks": ""
             }
            },
            "type": "scattercarpet"
           }
          ],
          "scattergeo": [
           {
            "marker": {
             "colorbar": {
              "outlinewidth": 0,
              "ticks": ""
             }
            },
            "type": "scattergeo"
           }
          ],
          "scattergl": [
           {
            "marker": {
             "colorbar": {
              "outlinewidth": 0,
              "ticks": ""
             }
            },
            "type": "scattergl"
           }
          ],
          "scattermapbox": [
           {
            "marker": {
             "colorbar": {
              "outlinewidth": 0,
              "ticks": ""
             }
            },
            "type": "scattermapbox"
           }
          ],
          "scatterpolar": [
           {
            "marker": {
             "colorbar": {
              "outlinewidth": 0,
              "ticks": ""
             }
            },
            "type": "scatterpolar"
           }
          ],
          "scatterpolargl": [
           {
            "marker": {
             "colorbar": {
              "outlinewidth": 0,
              "ticks": ""
             }
            },
            "type": "scatterpolargl"
           }
          ],
          "scatterternary": [
           {
            "marker": {
             "colorbar": {
              "outlinewidth": 0,
              "ticks": ""
             }
            },
            "type": "scatterternary"
           }
          ],
          "surface": [
           {
            "colorbar": {
             "outlinewidth": 0,
             "ticks": ""
            },
            "colorscale": [
             [
              0,
              "#0d0887"
             ],
             [
              0.1111111111111111,
              "#46039f"
             ],
             [
              0.2222222222222222,
              "#7201a8"
             ],
             [
              0.3333333333333333,
              "#9c179e"
             ],
             [
              0.4444444444444444,
              "#bd3786"
             ],
             [
              0.5555555555555556,
              "#d8576b"
             ],
             [
              0.6666666666666666,
              "#ed7953"
             ],
             [
              0.7777777777777778,
              "#fb9f3a"
             ],
             [
              0.8888888888888888,
              "#fdca26"
             ],
             [
              1,
              "#f0f921"
             ]
            ],
            "type": "surface"
           }
          ],
          "table": [
           {
            "cells": {
             "fill": {
              "color": "#EBF0F8"
             },
             "line": {
              "color": "white"
             }
            },
            "header": {
             "fill": {
              "color": "#C8D4E3"
             },
             "line": {
              "color": "white"
             }
            },
            "type": "table"
           }
          ]
         },
         "layout": {
          "annotationdefaults": {
           "arrowcolor": "#2a3f5f",
           "arrowhead": 0,
           "arrowwidth": 1
          },
          "autotypenumbers": "strict",
          "coloraxis": {
           "colorbar": {
            "outlinewidth": 0,
            "ticks": ""
           }
          },
          "colorscale": {
           "diverging": [
            [
             0,
             "#8e0152"
            ],
            [
             0.1,
             "#c51b7d"
            ],
            [
             0.2,
             "#de77ae"
            ],
            [
             0.3,
             "#f1b6da"
            ],
            [
             0.4,
             "#fde0ef"
            ],
            [
             0.5,
             "#f7f7f7"
            ],
            [
             0.6,
             "#e6f5d0"
            ],
            [
             0.7,
             "#b8e186"
            ],
            [
             0.8,
             "#7fbc41"
            ],
            [
             0.9,
             "#4d9221"
            ],
            [
             1,
             "#276419"
            ]
           ],
           "sequential": [
            [
             0,
             "#0d0887"
            ],
            [
             0.1111111111111111,
             "#46039f"
            ],
            [
             0.2222222222222222,
             "#7201a8"
            ],
            [
             0.3333333333333333,
             "#9c179e"
            ],
            [
             0.4444444444444444,
             "#bd3786"
            ],
            [
             0.5555555555555556,
             "#d8576b"
            ],
            [
             0.6666666666666666,
             "#ed7953"
            ],
            [
             0.7777777777777778,
             "#fb9f3a"
            ],
            [
             0.8888888888888888,
             "#fdca26"
            ],
            [
             1,
             "#f0f921"
            ]
           ],
           "sequentialminus": [
            [
             0,
             "#0d0887"
            ],
            [
             0.1111111111111111,
             "#46039f"
            ],
            [
             0.2222222222222222,
             "#7201a8"
            ],
            [
             0.3333333333333333,
             "#9c179e"
            ],
            [
             0.4444444444444444,
             "#bd3786"
            ],
            [
             0.5555555555555556,
             "#d8576b"
            ],
            [
             0.6666666666666666,
             "#ed7953"
            ],
            [
             0.7777777777777778,
             "#fb9f3a"
            ],
            [
             0.8888888888888888,
             "#fdca26"
            ],
            [
             1,
             "#f0f921"
            ]
           ]
          },
          "colorway": [
           "#636efa",
           "#EF553B",
           "#00cc96",
           "#ab63fa",
           "#FFA15A",
           "#19d3f3",
           "#FF6692",
           "#B6E880",
           "#FF97FF",
           "#FECB52"
          ],
          "font": {
           "color": "#2a3f5f"
          },
          "geo": {
           "bgcolor": "white",
           "lakecolor": "white",
           "landcolor": "#E5ECF6",
           "showlakes": true,
           "showland": true,
           "subunitcolor": "white"
          },
          "hoverlabel": {
           "align": "left"
          },
          "hovermode": "closest",
          "mapbox": {
           "style": "light"
          },
          "paper_bgcolor": "white",
          "plot_bgcolor": "#E5ECF6",
          "polar": {
           "angularaxis": {
            "gridcolor": "white",
            "linecolor": "white",
            "ticks": ""
           },
           "bgcolor": "#E5ECF6",
           "radialaxis": {
            "gridcolor": "white",
            "linecolor": "white",
            "ticks": ""
           }
          },
          "scene": {
           "xaxis": {
            "backgroundcolor": "#E5ECF6",
            "gridcolor": "white",
            "gridwidth": 2,
            "linecolor": "white",
            "showbackground": true,
            "ticks": "",
            "zerolinecolor": "white"
           },
           "yaxis": {
            "backgroundcolor": "#E5ECF6",
            "gridcolor": "white",
            "gridwidth": 2,
            "linecolor": "white",
            "showbackground": true,
            "ticks": "",
            "zerolinecolor": "white"
           },
           "zaxis": {
            "backgroundcolor": "#E5ECF6",
            "gridcolor": "white",
            "gridwidth": 2,
            "linecolor": "white",
            "showbackground": true,
            "ticks": "",
            "zerolinecolor": "white"
           }
          },
          "shapedefaults": {
           "line": {
            "color": "#2a3f5f"
           }
          },
          "ternary": {
           "aaxis": {
            "gridcolor": "white",
            "linecolor": "white",
            "ticks": ""
           },
           "baxis": {
            "gridcolor": "white",
            "linecolor": "white",
            "ticks": ""
           },
           "bgcolor": "#E5ECF6",
           "caxis": {
            "gridcolor": "white",
            "linecolor": "white",
            "ticks": ""
           }
          },
          "title": {
           "x": 0.05
          },
          "xaxis": {
           "automargin": true,
           "gridcolor": "white",
           "linecolor": "white",
           "ticks": "",
           "title": {
            "standoff": 15
           },
           "zerolinecolor": "white",
           "zerolinewidth": 2
          },
          "yaxis": {
           "automargin": true,
           "gridcolor": "white",
           "linecolor": "white",
           "ticks": "",
           "title": {
            "standoff": 15
           },
           "zerolinecolor": "white",
           "zerolinewidth": 2
          }
         }
        },
        "title": {
         "text": "CAV Training Losses"
        },
        "xaxis": {
         "anchor": "y",
         "domain": [
          0,
          1
         ],
         "title": {
          "text": "Layer"
         }
        },
        "yaxis": {
         "anchor": "x",
         "domain": [
          0,
          1
         ],
         "title": {
          "text": "Loss"
         }
        }
       }
      }
     },
     "metadata": {},
     "output_type": "display_data"
    }
   ],
   "source": [
    "cumulative_losses={}\n",
    "\n",
    "for layer in range(13):\n",
    "    layer_losses_file=open(f'{external_path}\\\\relative_concept_activation_vectors\\\\{layer}\\\\training_losses','rb')\n",
    "    layer_losses=pickle.load(layer_losses_file)\n",
    "    layer_losses_file.close()\n",
    "\n",
    "    for relation in layer_losses.keys():\n",
    "        if relation in cumulative_losses.keys():\n",
    "            cumulative_losses[relation]=cumulative_losses[relation]+[layer_losses[relation]]\n",
    "        else:\n",
    "            cumulative_losses[relation]=[layer_losses[relation]]\n",
    "\n",
    "cumulative_losses_df=pd.DataFrame.from_dict(cumulative_losses)\n",
    "\n",
    "fig=px.line(cumulative_losses_df)\n",
    "\n",
    "fig.update_layout(title=\"CAV Training Losses\",xaxis_title=\"Layer\",yaxis_title=\"Loss\",legend_title=\"Relation\")\n",
    "\n",
    "fig.show()"
   ]
  },
  {
   "cell_type": "code",
   "execution_count": 11,
   "metadata": {},
   "outputs": [],
   "source": [
    "class MLP(torch.nn.Module):\n",
    "    def __init__(self, in_dimension, out_dimension):\n",
    "        super().__init__()\n",
    "        self.layer=torch.nn.Linear(in_dimension,out_dimension)\n",
    "\n",
    "    def forward(self, x: torch.Tensor) -> torch.Tensor:\n",
    "        return self.layer(x)"
   ]
  },
  {
   "cell_type": "code",
   "execution_count": 12,
   "metadata": {},
   "outputs": [],
   "source": [
    "processor = ViTImageProcessor.from_pretrained('google/vit-base-patch16-224')\n",
    "model = ViTForImageClassification.from_pretrained('aaraki/vit-base-patch16-224-in21k-finetuned-cifar10')\n",
    "\n",
    "mlp=MLP(768,10)\n",
    "\n",
    "with torch.no_grad():\n",
    "    mlp.layer.weight=torch.nn.Parameter(model.classifier.weight)\n",
    "    mlp.layer.bias=torch.nn.Parameter(model.classifier.bias)"
   ]
  },
  {
   "cell_type": "code",
   "execution_count": 13,
   "metadata": {},
   "outputs": [],
   "source": [
    "def layer_accuracy(category,categories,layer,classifier):\n",
    "    for k in range(1,11):\n",
    "        if k==1:\n",
    "            activations=torch.load(f'{external_path}\\\\class_token_activations\\\\{category}\\\\layer{layer}_{k}.pt')\n",
    "        else:\n",
    "            activations=torch.cat([activations,torch.load(f'{external_path}\\\\class_token_activations\\\\{category}\\\\layer{layer}_{k}.pt')])\n",
    "    acc=0\n",
    "    count=0\n",
    "    for row in activations:\n",
    "        output=classifier(row)\n",
    "        predicted_category=categories[output.argmax().item()]\n",
    "        if predicted_category==category:\n",
    "            acc+=1\n",
    "        count+=1\n",
    "    return acc/count"
   ]
  },
  {
   "cell_type": "code",
   "execution_count": 14,
   "metadata": {},
   "outputs": [
    {
     "name": "stderr",
     "output_type": "stream",
     "text": [
      "...processing truck layer 12...: 100%|██████████| 10/10 [00:22<00:00,  2.27s/it]    \n"
     ]
    },
    {
     "data": {
      "application/vnd.plotly.v1+json": {
       "config": {
        "plotlyServerURL": "https://plot.ly"
       },
       "data": [
        {
         "hovertemplate": "variable=airplane<br>index=%{x}<br>value=%{y}<extra></extra>",
         "legendgroup": "airplane",
         "line": {
          "color": "#636efa",
          "dash": "solid"
         },
         "marker": {
          "symbol": "circle"
         },
         "mode": "lines",
         "name": "airplane",
         "orientation": "v",
         "showlegend": true,
         "type": "scatter",
         "x": [
          0,
          1,
          2,
          3,
          4,
          5,
          6,
          7,
          8,
          9,
          10,
          11,
          12
         ],
         "xaxis": "x",
         "y": [
          0,
          0,
          0,
          0,
          0,
          0,
          0,
          0.0010193679918450561,
          0.0061162079510703364,
          0.014271151885830785,
          0.19775739041794088,
          0.9949031600407747,
          1
         ],
         "yaxis": "y"
        },
        {
         "hovertemplate": "variable=automobile<br>index=%{x}<br>value=%{y}<extra></extra>",
         "legendgroup": "automobile",
         "line": {
          "color": "#EF553B",
          "dash": "solid"
         },
         "marker": {
          "symbol": "circle"
         },
         "mode": "lines",
         "name": "automobile",
         "orientation": "v",
         "showlegend": true,
         "type": "scatter",
         "x": [
          0,
          1,
          2,
          3,
          4,
          5,
          6,
          7,
          8,
          9,
          10,
          11,
          12
         ],
         "xaxis": "x",
         "y": [
          0,
          0,
          0,
          0,
          0,
          0,
          0,
          0,
          0,
          0,
          0.006091370558375634,
          0.9857868020304569,
          1
         ],
         "yaxis": "y"
        },
        {
         "hovertemplate": "variable=bird<br>index=%{x}<br>value=%{y}<extra></extra>",
         "legendgroup": "bird",
         "line": {
          "color": "#00cc96",
          "dash": "solid"
         },
         "marker": {
          "symbol": "circle"
         },
         "mode": "lines",
         "name": "bird",
         "orientation": "v",
         "showlegend": true,
         "type": "scatter",
         "x": [
          0,
          1,
          2,
          3,
          4,
          5,
          6,
          7,
          8,
          9,
          10,
          11,
          12
         ],
         "xaxis": "x",
         "y": [
          0,
          0,
          0,
          0,
          0.008138351983723296,
          0.26042726347914547,
          0.8250254323499492,
          0.9857578840284842,
          0.9989827060020345,
          0.9989827060020345,
          0.9979654120040692,
          0.9979654120040692,
          1
         ],
         "yaxis": "y"
        },
        {
         "hovertemplate": "variable=cat<br>index=%{x}<br>value=%{y}<extra></extra>",
         "legendgroup": "cat",
         "line": {
          "color": "#ab63fa",
          "dash": "solid"
         },
         "marker": {
          "symbol": "circle"
         },
         "mode": "lines",
         "name": "cat",
         "orientation": "v",
         "showlegend": true,
         "type": "scatter",
         "x": [
          0,
          1,
          2,
          3,
          4,
          5,
          6,
          7,
          8,
          9,
          10,
          11,
          12
         ],
         "xaxis": "x",
         "y": [
          0,
          0,
          0,
          0,
          0,
          0,
          0.002070393374741201,
          0.002070393374741201,
          0.005175983436853002,
          0.07246376811594203,
          0.6086956521739131,
          0.9834368530020704,
          1
         ],
         "yaxis": "y"
        },
        {
         "hovertemplate": "variable=deer<br>index=%{x}<br>value=%{y}<extra></extra>",
         "legendgroup": "deer",
         "line": {
          "color": "#FFA15A",
          "dash": "solid"
         },
         "marker": {
          "symbol": "circle"
         },
         "mode": "lines",
         "name": "deer",
         "orientation": "v",
         "showlegend": true,
         "type": "scatter",
         "x": [
          0,
          1,
          2,
          3,
          4,
          5,
          6,
          7,
          8,
          9,
          10,
          11,
          12
         ],
         "xaxis": "x",
         "y": [
          0,
          0,
          0,
          0,
          0,
          0.002026342451874367,
          0.0010131712259371835,
          0,
          0,
          0,
          0,
          0.9625126646403243,
          1
         ],
         "yaxis": "y"
        },
        {
         "hovertemplate": "variable=dog<br>index=%{x}<br>value=%{y}<extra></extra>",
         "legendgroup": "dog",
         "line": {
          "color": "#19d3f3",
          "dash": "solid"
         },
         "marker": {
          "symbol": "circle"
         },
         "mode": "lines",
         "name": "dog",
         "orientation": "v",
         "showlegend": true,
         "type": "scatter",
         "x": [
          0,
          1,
          2,
          3,
          4,
          5,
          6,
          7,
          8,
          9,
          10,
          11,
          12
         ],
         "xaxis": "x",
         "y": [
          0,
          0.970276008492569,
          0.9968152866242038,
          0.9670912951167728,
          0.9861995753715499,
          0.8938428874734607,
          0.5721868365180467,
          0.24416135881104034,
          0.40870488322717624,
          0.48089171974522293,
          0.89171974522293,
          0.9957537154989384,
          1
         ],
         "yaxis": "y"
        },
        {
         "hovertemplate": "variable=frog<br>index=%{x}<br>value=%{y}<extra></extra>",
         "legendgroup": "frog",
         "line": {
          "color": "#FF6692",
          "dash": "solid"
         },
         "marker": {
          "symbol": "circle"
         },
         "mode": "lines",
         "name": "frog",
         "orientation": "v",
         "showlegend": true,
         "type": "scatter",
         "x": [
          0,
          1,
          2,
          3,
          4,
          5,
          6,
          7,
          8,
          9,
          10,
          11,
          12
         ],
         "xaxis": "x",
         "y": [
          1,
          0.09246231155778895,
          0.032160804020100506,
          0.13165829145728644,
          0.005025125628140704,
          0.023115577889447236,
          0.12160804020100502,
          0.06934673366834171,
          0.07537688442211055,
          0.10854271356783919,
          0.6804020100502512,
          0.992964824120603,
          1
         ],
         "yaxis": "y"
        },
        {
         "hovertemplate": "variable=horse<br>index=%{x}<br>value=%{y}<extra></extra>",
         "legendgroup": "horse",
         "line": {
          "color": "#B6E880",
          "dash": "solid"
         },
         "marker": {
          "symbol": "circle"
         },
         "mode": "lines",
         "name": "horse",
         "orientation": "v",
         "showlegend": true,
         "type": "scatter",
         "x": [
          0,
          1,
          2,
          3,
          4,
          5,
          6,
          7,
          8,
          9,
          10,
          11,
          12
         ],
         "xaxis": "x",
         "y": [
          0,
          0,
          0,
          0.008105369807497468,
          0.004052684903748734,
          0.02735562310030395,
          0.060790273556231005,
          0.07193515704154002,
          0.020263424518743668,
          0.03546099290780142,
          0.47315096251266464,
          0.9959473150962512,
          1
         ],
         "yaxis": "y"
        },
        {
         "hovertemplate": "variable=ship<br>index=%{x}<br>value=%{y}<extra></extra>",
         "legendgroup": "ship",
         "line": {
          "color": "#FF97FF",
          "dash": "solid"
         },
         "marker": {
          "symbol": "circle"
         },
         "mode": "lines",
         "name": "ship",
         "orientation": "v",
         "showlegend": true,
         "type": "scatter",
         "x": [
          0,
          1,
          2,
          3,
          4,
          5,
          6,
          7,
          8,
          9,
          10,
          11,
          12
         ],
         "xaxis": "x",
         "y": [
          0,
          0,
          0,
          0,
          0,
          0.00101010101010101,
          0.020202020202020204,
          0.07676767676767676,
          0.09292929292929293,
          0.4727272727272727,
          0.8868686868686869,
          0.9939393939393939,
          1
         ],
         "yaxis": "y"
        },
        {
         "hovertemplate": "variable=truck<br>index=%{x}<br>value=%{y}<extra></extra>",
         "legendgroup": "truck",
         "line": {
          "color": "#FECB52",
          "dash": "solid"
         },
         "marker": {
          "symbol": "circle"
         },
         "mode": "lines",
         "name": "truck",
         "orientation": "v",
         "showlegend": true,
         "type": "scatter",
         "x": [
          0,
          1,
          2,
          3,
          4,
          5,
          6,
          7,
          8,
          9,
          10,
          11,
          12
         ],
         "xaxis": "x",
         "y": [
          0,
          0,
          0,
          0,
          0,
          0.00205761316872428,
          0.31069958847736623,
          0.808641975308642,
          0.8292181069958847,
          0.9547325102880658,
          0.9876543209876543,
          1,
          1
         ],
         "yaxis": "y"
        }
       ],
       "layout": {
        "legend": {
         "title": {
          "text": "Category"
         },
         "tracegroupgap": 0
        },
        "margin": {
         "t": 60
        },
        "template": {
         "data": {
          "bar": [
           {
            "error_x": {
             "color": "#2a3f5f"
            },
            "error_y": {
             "color": "#2a3f5f"
            },
            "marker": {
             "line": {
              "color": "#E5ECF6",
              "width": 0.5
             },
             "pattern": {
              "fillmode": "overlay",
              "size": 10,
              "solidity": 0.2
             }
            },
            "type": "bar"
           }
          ],
          "barpolar": [
           {
            "marker": {
             "line": {
              "color": "#E5ECF6",
              "width": 0.5
             },
             "pattern": {
              "fillmode": "overlay",
              "size": 10,
              "solidity": 0.2
             }
            },
            "type": "barpolar"
           }
          ],
          "carpet": [
           {
            "aaxis": {
             "endlinecolor": "#2a3f5f",
             "gridcolor": "white",
             "linecolor": "white",
             "minorgridcolor": "white",
             "startlinecolor": "#2a3f5f"
            },
            "baxis": {
             "endlinecolor": "#2a3f5f",
             "gridcolor": "white",
             "linecolor": "white",
             "minorgridcolor": "white",
             "startlinecolor": "#2a3f5f"
            },
            "type": "carpet"
           }
          ],
          "choropleth": [
           {
            "colorbar": {
             "outlinewidth": 0,
             "ticks": ""
            },
            "type": "choropleth"
           }
          ],
          "contour": [
           {
            "colorbar": {
             "outlinewidth": 0,
             "ticks": ""
            },
            "colorscale": [
             [
              0,
              "#0d0887"
             ],
             [
              0.1111111111111111,
              "#46039f"
             ],
             [
              0.2222222222222222,
              "#7201a8"
             ],
             [
              0.3333333333333333,
              "#9c179e"
             ],
             [
              0.4444444444444444,
              "#bd3786"
             ],
             [
              0.5555555555555556,
              "#d8576b"
             ],
             [
              0.6666666666666666,
              "#ed7953"
             ],
             [
              0.7777777777777778,
              "#fb9f3a"
             ],
             [
              0.8888888888888888,
              "#fdca26"
             ],
             [
              1,
              "#f0f921"
             ]
            ],
            "type": "contour"
           }
          ],
          "contourcarpet": [
           {
            "colorbar": {
             "outlinewidth": 0,
             "ticks": ""
            },
            "type": "contourcarpet"
           }
          ],
          "heatmap": [
           {
            "colorbar": {
             "outlinewidth": 0,
             "ticks": ""
            },
            "colorscale": [
             [
              0,
              "#0d0887"
             ],
             [
              0.1111111111111111,
              "#46039f"
             ],
             [
              0.2222222222222222,
              "#7201a8"
             ],
             [
              0.3333333333333333,
              "#9c179e"
             ],
             [
              0.4444444444444444,
              "#bd3786"
             ],
             [
              0.5555555555555556,
              "#d8576b"
             ],
             [
              0.6666666666666666,
              "#ed7953"
             ],
             [
              0.7777777777777778,
              "#fb9f3a"
             ],
             [
              0.8888888888888888,
              "#fdca26"
             ],
             [
              1,
              "#f0f921"
             ]
            ],
            "type": "heatmap"
           }
          ],
          "heatmapgl": [
           {
            "colorbar": {
             "outlinewidth": 0,
             "ticks": ""
            },
            "colorscale": [
             [
              0,
              "#0d0887"
             ],
             [
              0.1111111111111111,
              "#46039f"
             ],
             [
              0.2222222222222222,
              "#7201a8"
             ],
             [
              0.3333333333333333,
              "#9c179e"
             ],
             [
              0.4444444444444444,
              "#bd3786"
             ],
             [
              0.5555555555555556,
              "#d8576b"
             ],
             [
              0.6666666666666666,
              "#ed7953"
             ],
             [
              0.7777777777777778,
              "#fb9f3a"
             ],
             [
              0.8888888888888888,
              "#fdca26"
             ],
             [
              1,
              "#f0f921"
             ]
            ],
            "type": "heatmapgl"
           }
          ],
          "histogram": [
           {
            "marker": {
             "pattern": {
              "fillmode": "overlay",
              "size": 10,
              "solidity": 0.2
             }
            },
            "type": "histogram"
           }
          ],
          "histogram2d": [
           {
            "colorbar": {
             "outlinewidth": 0,
             "ticks": ""
            },
            "colorscale": [
             [
              0,
              "#0d0887"
             ],
             [
              0.1111111111111111,
              "#46039f"
             ],
             [
              0.2222222222222222,
              "#7201a8"
             ],
             [
              0.3333333333333333,
              "#9c179e"
             ],
             [
              0.4444444444444444,
              "#bd3786"
             ],
             [
              0.5555555555555556,
              "#d8576b"
             ],
             [
              0.6666666666666666,
              "#ed7953"
             ],
             [
              0.7777777777777778,
              "#fb9f3a"
             ],
             [
              0.8888888888888888,
              "#fdca26"
             ],
             [
              1,
              "#f0f921"
             ]
            ],
            "type": "histogram2d"
           }
          ],
          "histogram2dcontour": [
           {
            "colorbar": {
             "outlinewidth": 0,
             "ticks": ""
            },
            "colorscale": [
             [
              0,
              "#0d0887"
             ],
             [
              0.1111111111111111,
              "#46039f"
             ],
             [
              0.2222222222222222,
              "#7201a8"
             ],
             [
              0.3333333333333333,
              "#9c179e"
             ],
             [
              0.4444444444444444,
              "#bd3786"
             ],
             [
              0.5555555555555556,
              "#d8576b"
             ],
             [
              0.6666666666666666,
              "#ed7953"
             ],
             [
              0.7777777777777778,
              "#fb9f3a"
             ],
             [
              0.8888888888888888,
              "#fdca26"
             ],
             [
              1,
              "#f0f921"
             ]
            ],
            "type": "histogram2dcontour"
           }
          ],
          "mesh3d": [
           {
            "colorbar": {
             "outlinewidth": 0,
             "ticks": ""
            },
            "type": "mesh3d"
           }
          ],
          "parcoords": [
           {
            "line": {
             "colorbar": {
              "outlinewidth": 0,
              "ticks": ""
             }
            },
            "type": "parcoords"
           }
          ],
          "pie": [
           {
            "automargin": true,
            "type": "pie"
           }
          ],
          "scatter": [
           {
            "fillpattern": {
             "fillmode": "overlay",
             "size": 10,
             "solidity": 0.2
            },
            "type": "scatter"
           }
          ],
          "scatter3d": [
           {
            "line": {
             "colorbar": {
              "outlinewidth": 0,
              "ticks": ""
             }
            },
            "marker": {
             "colorbar": {
              "outlinewidth": 0,
              "ticks": ""
             }
            },
            "type": "scatter3d"
           }
          ],
          "scattercarpet": [
           {
            "marker": {
             "colorbar": {
              "outlinewidth": 0,
              "ticks": ""
             }
            },
            "type": "scattercarpet"
           }
          ],
          "scattergeo": [
           {
            "marker": {
             "colorbar": {
              "outlinewidth": 0,
              "ticks": ""
             }
            },
            "type": "scattergeo"
           }
          ],
          "scattergl": [
           {
            "marker": {
             "colorbar": {
              "outlinewidth": 0,
              "ticks": ""
             }
            },
            "type": "scattergl"
           }
          ],
          "scattermapbox": [
           {
            "marker": {
             "colorbar": {
              "outlinewidth": 0,
              "ticks": ""
             }
            },
            "type": "scattermapbox"
           }
          ],
          "scatterpolar": [
           {
            "marker": {
             "colorbar": {
              "outlinewidth": 0,
              "ticks": ""
             }
            },
            "type": "scatterpolar"
           }
          ],
          "scatterpolargl": [
           {
            "marker": {
             "colorbar": {
              "outlinewidth": 0,
              "ticks": ""
             }
            },
            "type": "scatterpolargl"
           }
          ],
          "scatterternary": [
           {
            "marker": {
             "colorbar": {
              "outlinewidth": 0,
              "ticks": ""
             }
            },
            "type": "scatterternary"
           }
          ],
          "surface": [
           {
            "colorbar": {
             "outlinewidth": 0,
             "ticks": ""
            },
            "colorscale": [
             [
              0,
              "#0d0887"
             ],
             [
              0.1111111111111111,
              "#46039f"
             ],
             [
              0.2222222222222222,
              "#7201a8"
             ],
             [
              0.3333333333333333,
              "#9c179e"
             ],
             [
              0.4444444444444444,
              "#bd3786"
             ],
             [
              0.5555555555555556,
              "#d8576b"
             ],
             [
              0.6666666666666666,
              "#ed7953"
             ],
             [
              0.7777777777777778,
              "#fb9f3a"
             ],
             [
              0.8888888888888888,
              "#fdca26"
             ],
             [
              1,
              "#f0f921"
             ]
            ],
            "type": "surface"
           }
          ],
          "table": [
           {
            "cells": {
             "fill": {
              "color": "#EBF0F8"
             },
             "line": {
              "color": "white"
             }
            },
            "header": {
             "fill": {
              "color": "#C8D4E3"
             },
             "line": {
              "color": "white"
             }
            },
            "type": "table"
           }
          ]
         },
         "layout": {
          "annotationdefaults": {
           "arrowcolor": "#2a3f5f",
           "arrowhead": 0,
           "arrowwidth": 1
          },
          "autotypenumbers": "strict",
          "coloraxis": {
           "colorbar": {
            "outlinewidth": 0,
            "ticks": ""
           }
          },
          "colorscale": {
           "diverging": [
            [
             0,
             "#8e0152"
            ],
            [
             0.1,
             "#c51b7d"
            ],
            [
             0.2,
             "#de77ae"
            ],
            [
             0.3,
             "#f1b6da"
            ],
            [
             0.4,
             "#fde0ef"
            ],
            [
             0.5,
             "#f7f7f7"
            ],
            [
             0.6,
             "#e6f5d0"
            ],
            [
             0.7,
             "#b8e186"
            ],
            [
             0.8,
             "#7fbc41"
            ],
            [
             0.9,
             "#4d9221"
            ],
            [
             1,
             "#276419"
            ]
           ],
           "sequential": [
            [
             0,
             "#0d0887"
            ],
            [
             0.1111111111111111,
             "#46039f"
            ],
            [
             0.2222222222222222,
             "#7201a8"
            ],
            [
             0.3333333333333333,
             "#9c179e"
            ],
            [
             0.4444444444444444,
             "#bd3786"
            ],
            [
             0.5555555555555556,
             "#d8576b"
            ],
            [
             0.6666666666666666,
             "#ed7953"
            ],
            [
             0.7777777777777778,
             "#fb9f3a"
            ],
            [
             0.8888888888888888,
             "#fdca26"
            ],
            [
             1,
             "#f0f921"
            ]
           ],
           "sequentialminus": [
            [
             0,
             "#0d0887"
            ],
            [
             0.1111111111111111,
             "#46039f"
            ],
            [
             0.2222222222222222,
             "#7201a8"
            ],
            [
             0.3333333333333333,
             "#9c179e"
            ],
            [
             0.4444444444444444,
             "#bd3786"
            ],
            [
             0.5555555555555556,
             "#d8576b"
            ],
            [
             0.6666666666666666,
             "#ed7953"
            ],
            [
             0.7777777777777778,
             "#fb9f3a"
            ],
            [
             0.8888888888888888,
             "#fdca26"
            ],
            [
             1,
             "#f0f921"
            ]
           ]
          },
          "colorway": [
           "#636efa",
           "#EF553B",
           "#00cc96",
           "#ab63fa",
           "#FFA15A",
           "#19d3f3",
           "#FF6692",
           "#B6E880",
           "#FF97FF",
           "#FECB52"
          ],
          "font": {
           "color": "#2a3f5f"
          },
          "geo": {
           "bgcolor": "white",
           "lakecolor": "white",
           "landcolor": "#E5ECF6",
           "showlakes": true,
           "showland": true,
           "subunitcolor": "white"
          },
          "hoverlabel": {
           "align": "left"
          },
          "hovermode": "closest",
          "mapbox": {
           "style": "light"
          },
          "paper_bgcolor": "white",
          "plot_bgcolor": "#E5ECF6",
          "polar": {
           "angularaxis": {
            "gridcolor": "white",
            "linecolor": "white",
            "ticks": ""
           },
           "bgcolor": "#E5ECF6",
           "radialaxis": {
            "gridcolor": "white",
            "linecolor": "white",
            "ticks": ""
           }
          },
          "scene": {
           "xaxis": {
            "backgroundcolor": "#E5ECF6",
            "gridcolor": "white",
            "gridwidth": 2,
            "linecolor": "white",
            "showbackground": true,
            "ticks": "",
            "zerolinecolor": "white"
           },
           "yaxis": {
            "backgroundcolor": "#E5ECF6",
            "gridcolor": "white",
            "gridwidth": 2,
            "linecolor": "white",
            "showbackground": true,
            "ticks": "",
            "zerolinecolor": "white"
           },
           "zaxis": {
            "backgroundcolor": "#E5ECF6",
            "gridcolor": "white",
            "gridwidth": 2,
            "linecolor": "white",
            "showbackground": true,
            "ticks": "",
            "zerolinecolor": "white"
           }
          },
          "shapedefaults": {
           "line": {
            "color": "#2a3f5f"
           }
          },
          "ternary": {
           "aaxis": {
            "gridcolor": "white",
            "linecolor": "white",
            "ticks": ""
           },
           "baxis": {
            "gridcolor": "white",
            "linecolor": "white",
            "ticks": ""
           },
           "bgcolor": "#E5ECF6",
           "caxis": {
            "gridcolor": "white",
            "linecolor": "white",
            "ticks": ""
           }
          },
          "title": {
           "x": 0.05
          },
          "xaxis": {
           "automargin": true,
           "gridcolor": "white",
           "linecolor": "white",
           "ticks": "",
           "title": {
            "standoff": 15
           },
           "zerolinecolor": "white",
           "zerolinewidth": 2
          },
          "yaxis": {
           "automargin": true,
           "gridcolor": "white",
           "linecolor": "white",
           "ticks": "",
           "title": {
            "standoff": 15
           },
           "zerolinecolor": "white",
           "zerolinewidth": 2
          }
         }
        },
        "title": {
         "text": "Layer Accuracies"
        },
        "xaxis": {
         "anchor": "y",
         "domain": [
          0,
          1
         ],
         "title": {
          "text": "Layer"
         }
        },
        "yaxis": {
         "anchor": "x",
         "domain": [
          0,
          1
         ],
         "title": {
          "text": "Accuracy"
         }
        }
       }
      }
     },
     "metadata": {},
     "output_type": "display_data"
    }
   ],
   "source": [
    "categories=['airplane','automobile','bird','cat','deer','dog','frog','horse','ship','truck']\n",
    "layer_accuracies={}\n",
    "progress_bar=tqdm(os.listdir(f'{external_path}\\\\class_token_activations'))\n",
    "for category in progress_bar:\n",
    "    layer_accuracies[category]=[]\n",
    "    for layer in range(13):\n",
    "        progress_bar.set_description(f'...processing {category} layer {layer}...')\n",
    "        layer_accuracies[category].append(layer_accuracy(category,categories,layer,mlp))\n",
    "\n",
    "layer_accuracies_df=pd.DataFrame.from_dict(layer_accuracies)\n",
    "    \n",
    "fig=px.line(layer_accuracies_df)\n",
    "\n",
    "fig.update_layout(title=\"Layer Accuracies\",xaxis_title=\"Layer\",yaxis_title=\"Accuracy\",legend_title=\"Category\")\n",
    "\n",
    "fig.show()"
   ]
  }
 ],
 "metadata": {
  "kernelspec": {
   "display_name": "transformers",
   "language": "python",
   "name": "python3"
  },
  "language_info": {
   "codemirror_mode": {
    "name": "ipython",
    "version": 3
   },
   "file_extension": ".py",
   "mimetype": "text/x-python",
   "name": "python",
   "nbconvert_exporter": "python",
   "pygments_lexer": "ipython3",
   "version": "3.12.3"
  }
 },
 "nbformat": 4,
 "nbformat_minor": 2
}
